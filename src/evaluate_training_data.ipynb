{
 "cells": [
  {
   "cell_type": "code",
   "execution_count": 1,
   "metadata": {},
   "outputs": [
    {
     "name": "stderr",
     "output_type": "stream",
     "text": [
      "2024-04-02 04:39:22.026486: E external/local_xla/xla/stream_executor/cuda/cuda_dnn.cc:9261] Unable to register cuDNN factory: Attempting to register factory for plugin cuDNN when one has already been registered\n",
      "2024-04-02 04:39:22.026593: E external/local_xla/xla/stream_executor/cuda/cuda_fft.cc:607] Unable to register cuFFT factory: Attempting to register factory for plugin cuFFT when one has already been registered\n",
      "2024-04-02 04:39:22.060792: E external/local_xla/xla/stream_executor/cuda/cuda_blas.cc:1515] Unable to register cuBLAS factory: Attempting to register factory for plugin cuBLAS when one has already been registered\n",
      "2024-04-02 04:39:22.129697: I tensorflow/core/platform/cpu_feature_guard.cc:182] This TensorFlow binary is optimized to use available CPU instructions in performance-critical operations.\n",
      "To enable the following instructions: AVX2 FMA, in other operations, rebuild TensorFlow with the appropriate compiler flags.\n"
     ]
    }
   ],
   "source": [
    "import pickle\n",
    "from pathlib import Path\n",
    "\n",
    "import joblib\n",
    "import keras\n",
    "import matplotlib.pyplot as plt\n",
    "import polars as pl\n",
    "import seaborn as sns\n",
    "import tensorflow as tf\n",
    "from sklearn.metrics import classification_report, confusion_matrix\n",
    "from collections import Counter\n",
    "\n",
    "from utils import *"
   ]
  },
  {
   "cell_type": "code",
   "execution_count": 5,
   "metadata": {},
   "outputs": [
    {
     "name": "stdout",
     "output_type": "stream",
     "text": [
      "No configuration file found. Using defaults.\n"
     ]
    }
   ],
   "source": [
    "pc = ProjectConfig()\n",
    "MODEL_DIR = pc.project_root_dir.joinpath(\"src\").joinpath(\"model_fine_tuned_saves\")\n",
    "MODEL_NAME = \"efficientnet_v2m\"\n",
    "MODEL_PATH = MODEL_DIR.joinpath(MODEL_NAME + \".h5\")\n",
    "CLASS_LIST_PATH = pc.project_root_dir.joinpath(\"src\").joinpath(\"class_list.lzma\")\n",
    "TRAIN_DATA = pc.data_root_dir.joinpath(\"training_data\")"
   ]
  },
  {
   "cell_type": "code",
   "execution_count": 6,
   "metadata": {},
   "outputs": [],
   "source": [
    "if CLASS_LIST_PATH.exists():\n",
    "    classes = joblib.load(CLASS_LIST_PATH)\n",
    "else:\n",
    "    print(\"No class list found, please run the training script first\")"
   ]
  },
  {
   "cell_type": "code",
   "execution_count": 7,
   "metadata": {},
   "outputs": [
    {
     "name": "stdout",
     "output_type": "stream",
     "text": [
      "Test data found, loading\n",
      "Found 31443 files belonging to 112 classes.\n"
     ]
    }
   ],
   "source": [
    "if TRAIN_DATA.exists() and TRAIN_DATA.is_dir():\n",
    "    print(\"Test data found, loading\")\n",
    "    train_data = tf.keras.utils.image_dataset_from_directory(\n",
    "        TRAIN_DATA,\n",
    "        labels=\"inferred\",\n",
    "        label_mode=\"int\",\n",
    "        batch_size=32,\n",
    "        image_size=(224, 224),\n",
    "        shuffle=False,\n",
    "    )\n",
    "else:\n",
    "    print(\"No test data found, where did it go?\")"
   ]
  },
  {
   "cell_type": "code",
   "execution_count": 8,
   "metadata": {},
   "outputs": [
    {
     "name": "stdout",
     "output_type": "stream",
     "text": [
      "Model loaded from disk\n"
     ]
    }
   ],
   "source": [
    "if MODEL_PATH.exists():\n",
    "    model = tf.keras.models.load_model(MODEL_PATH)\n",
    "    model.trainable = False\n",
    "    print(\"Model loaded from disk\")\n",
    "else:\n",
    "    print(\"Model not found at path:\", MODEL_PATH)"
   ]
  },
  {
   "cell_type": "code",
   "execution_count": 9,
   "metadata": {},
   "outputs": [
    {
     "name": "stderr",
     "output_type": "stream",
     "text": [
      "2024-04-02 04:41:16.003209: I external/local_xla/xla/stream_executor/cuda/cuda_dnn.cc:454] Loaded cuDNN version 8906\n"
     ]
    },
    {
     "name": "stdout",
     "output_type": "stream",
     "text": [
      "983/983 [==============================] - 91s 86ms/step\n"
     ]
    }
   ],
   "source": [
    "training_predictions_file = pc.data_root_dir.joinpath(\"training_predictions.lzma\")\n",
    "if training_predictions_file.exists():\n",
    "    training_predictions = joblib.load(training_predictions_file)\n",
    "else:\n",
    "    predictions = model.predict(train_data)\n",
    "    joblib.dump(predictions, training_predictions_file)"
   ]
  },
  {
   "cell_type": "code",
   "execution_count": 10,
   "metadata": {},
   "outputs": [],
   "source": [
    "predicted_classes = np.argmax(predictions, axis=-1)"
   ]
  },
  {
   "cell_type": "code",
   "execution_count": 16,
   "metadata": {},
   "outputs": [],
   "source": [
    "file_paths = train_data.file_paths\n",
    "class_names = train_data.class_names\n",
    "true_labels = []\n",
    "for images, true_label in train_data:\n",
    "    true_labels.extend(true_label.numpy())\n",
    "true_class_labels = [class_names[i] for i in true_labels]\n",
    "predicted_class_labels = [class_names[i] for i in predicted_classes]\n"
   ]
  },
  {
   "cell_type": "code",
   "execution_count": 18,
   "metadata": {},
   "outputs": [
    {
     "data": {
      "text/html": [
       "<div><style>\n",
       ".dataframe > thead > tr,\n",
       ".dataframe > tbody > tr {\n",
       "  text-align: right;\n",
       "  white-space: pre-wrap;\n",
       "}\n",
       "</style>\n",
       "<small>shape: (31_443, 3)</small><table border=\"1\" class=\"dataframe\"><thead><tr><th>file_path</th><th>true_class_labels</th><th>predicted_label</th></tr><tr><td>str</td><td>str</td><td>str</td></tr></thead><tbody><tr><td>&quot;/tf/notebooks/…</td><td>&quot;active dry yea…</td><td>&quot;meat&quot;</td></tr><tr><td>&quot;/tf/notebooks/…</td><td>&quot;active dry yea…</td><td>&quot;beef&quot;</td></tr><tr><td>&quot;/tf/notebooks/…</td><td>&quot;active dry yea…</td><td>&quot;active dry yea…</td></tr><tr><td>&quot;/tf/notebooks/…</td><td>&quot;active dry yea…</td><td>&quot;beef&quot;</td></tr><tr><td>&quot;/tf/notebooks/…</td><td>&quot;active dry yea…</td><td>&quot;active dry yea…</td></tr><tr><td>&hellip;</td><td>&hellip;</td><td>&hellip;</td></tr><tr><td>&quot;/tf/notebooks/…</td><td>&quot;zucchini&quot;</td><td>&quot;peanut butter&quot;</td></tr><tr><td>&quot;/tf/notebooks/…</td><td>&quot;zucchini&quot;</td><td>&quot;peanut butter&quot;</td></tr><tr><td>&quot;/tf/notebooks/…</td><td>&quot;zucchini&quot;</td><td>&quot;peanut butter&quot;</td></tr><tr><td>&quot;/tf/notebooks/…</td><td>&quot;zucchini&quot;</td><td>&quot;peanut butter&quot;</td></tr><tr><td>&quot;/tf/notebooks/…</td><td>&quot;zucchini&quot;</td><td>&quot;peanut butter&quot;</td></tr></tbody></table></div>"
      ],
      "text/plain": [
       "shape: (31_443, 3)\n",
       "┌───────────────────────────────────┬───────────────────┬──────────────────┐\n",
       "│ file_path                         ┆ true_class_labels ┆ predicted_label  │\n",
       "│ ---                               ┆ ---               ┆ ---              │\n",
       "│ str                               ┆ str               ┆ str              │\n",
       "╞═══════════════════════════════════╪═══════════════════╪══════════════════╡\n",
       "│ /tf/notebooks/data/training_data… ┆ active dry yeast  ┆ meat             │\n",
       "│ /tf/notebooks/data/training_data… ┆ active dry yeast  ┆ beef             │\n",
       "│ /tf/notebooks/data/training_data… ┆ active dry yeast  ┆ active dry yeast │\n",
       "│ /tf/notebooks/data/training_data… ┆ active dry yeast  ┆ beef             │\n",
       "│ /tf/notebooks/data/training_data… ┆ active dry yeast  ┆ active dry yeast │\n",
       "│ …                                 ┆ …                 ┆ …                │\n",
       "│ /tf/notebooks/data/training_data… ┆ zucchini          ┆ peanut butter    │\n",
       "│ /tf/notebooks/data/training_data… ┆ zucchini          ┆ peanut butter    │\n",
       "│ /tf/notebooks/data/training_data… ┆ zucchini          ┆ peanut butter    │\n",
       "│ /tf/notebooks/data/training_data… ┆ zucchini          ┆ peanut butter    │\n",
       "│ /tf/notebooks/data/training_data… ┆ zucchini          ┆ peanut butter    │\n",
       "└───────────────────────────────────┴───────────────────┴──────────────────┘"
      ]
     },
     "execution_count": 18,
     "metadata": {},
     "output_type": "execute_result"
    }
   ],
   "source": [
    "df = pl.DataFrame(zip(file_paths, true_class_labels, predicted_class_labels), schema=[(\"file_path\", pl.Utf8), (\"true_class_labels\", pl.Utf8), (\"predicted_label\", pl.Utf8)])\n",
    "df"
   ]
  }
 ],
 "metadata": {
  "kernelspec": {
   "display_name": "281-venv",
   "language": "python",
   "name": "python3"
  },
  "language_info": {
   "codemirror_mode": {
    "name": "ipython",
    "version": 3
   },
   "file_extension": ".py",
   "mimetype": "text/x-python",
   "name": "python",
   "nbconvert_exporter": "python",
   "pygments_lexer": "ipython3",
   "version": "3.11.8"
  }
 },
 "nbformat": 4,
 "nbformat_minor": 2
}
