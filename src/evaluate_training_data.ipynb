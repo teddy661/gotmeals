{
 "cells": [
  {
   "cell_type": "code",
   "execution_count": 1,
   "metadata": {},
   "outputs": [
    {
     "name": "stderr",
     "output_type": "stream",
     "text": [
      "2024-04-02 13:18:12.625370: E external/local_xla/xla/stream_executor/cuda/cuda_dnn.cc:9261] Unable to register cuDNN factory: Attempting to register factory for plugin cuDNN when one has already been registered\n",
      "2024-04-02 13:18:12.625430: E external/local_xla/xla/stream_executor/cuda/cuda_fft.cc:607] Unable to register cuFFT factory: Attempting to register factory for plugin cuFFT when one has already been registered\n",
      "2024-04-02 13:18:12.626247: E external/local_xla/xla/stream_executor/cuda/cuda_blas.cc:1515] Unable to register cuBLAS factory: Attempting to register factory for plugin cuBLAS when one has already been registered\n",
      "2024-04-02 13:18:12.631752: I tensorflow/core/platform/cpu_feature_guard.cc:182] This TensorFlow binary is optimized to use available CPU instructions in performance-critical operations.\n",
      "To enable the following instructions: AVX2 FMA, in other operations, rebuild TensorFlow with the appropriate compiler flags.\n"
     ]
    }
   ],
   "source": [
    "import pickle\n",
    "from pathlib import Path\n",
    "\n",
    "import joblib\n",
    "import keras\n",
    "import matplotlib.pyplot as plt\n",
    "import polars as pl\n",
    "import seaborn as sns\n",
    "import tensorflow as tf\n",
    "from sklearn.metrics import classification_report, confusion_matrix\n",
    "from collections import Counter\n",
    "\n",
    "from utils import *"
   ]
  },
  {
   "cell_type": "code",
   "execution_count": 2,
   "metadata": {},
   "outputs": [
    {
     "name": "stdout",
     "output_type": "stream",
     "text": [
      "No configuration file found. Using defaults.\n"
     ]
    }
   ],
   "source": [
    "pc = ProjectConfig()\n",
    "MODEL_DIR = pc.project_root_dir.joinpath(\"src\").joinpath(\"model_fine_tuned_saves\")\n",
    "MODEL_NAME = \"efficientnet_v2m\"\n",
    "MODEL_PATH = MODEL_DIR.joinpath(MODEL_NAME + \".h5\")\n",
    "CLASS_LIST_PATH = pc.project_root_dir.joinpath(\"src\").joinpath(\"class_list.lzma\")\n",
    "TRAIN_DATA = pc.data_root_dir.joinpath(\"training_data_71\")"
   ]
  },
  {
   "cell_type": "code",
   "execution_count": 3,
   "metadata": {},
   "outputs": [],
   "source": [
    "if CLASS_LIST_PATH.exists():\n",
    "    classes = joblib.load(CLASS_LIST_PATH)\n",
    "else:\n",
    "    print(\"No class list found, please run the training script first\")"
   ]
  },
  {
   "cell_type": "code",
   "execution_count": 4,
   "metadata": {},
   "outputs": [
    {
     "name": "stdout",
     "output_type": "stream",
     "text": [
      "Test data found, loading\n",
      "Found 31227 files belonging to 71 classes.\n"
     ]
    },
    {
     "name": "stderr",
     "output_type": "stream",
     "text": [
      "2024-04-02 13:19:17.692734: I external/local_xla/xla/stream_executor/cuda/cuda_executor.cc:887] could not open file to read NUMA node: /sys/bus/pci/devices/0000:01:00.0/numa_node\n",
      "Your kernel may have been built without NUMA support.\n",
      "2024-04-02 13:19:17.697778: I external/local_xla/xla/stream_executor/cuda/cuda_executor.cc:887] could not open file to read NUMA node: /sys/bus/pci/devices/0000:01:00.0/numa_node\n",
      "Your kernel may have been built without NUMA support.\n",
      "2024-04-02 13:19:17.698104: I external/local_xla/xla/stream_executor/cuda/cuda_executor.cc:887] could not open file to read NUMA node: /sys/bus/pci/devices/0000:01:00.0/numa_node\n",
      "Your kernel may have been built without NUMA support.\n",
      "2024-04-02 13:19:17.699121: I external/local_xla/xla/stream_executor/cuda/cuda_executor.cc:887] could not open file to read NUMA node: /sys/bus/pci/devices/0000:01:00.0/numa_node\n",
      "Your kernel may have been built without NUMA support.\n",
      "2024-04-02 13:19:17.699445: I external/local_xla/xla/stream_executor/cuda/cuda_executor.cc:887] could not open file to read NUMA node: /sys/bus/pci/devices/0000:01:00.0/numa_node\n",
      "Your kernel may have been built without NUMA support.\n",
      "2024-04-02 13:19:17.699748: I external/local_xla/xla/stream_executor/cuda/cuda_executor.cc:887] could not open file to read NUMA node: /sys/bus/pci/devices/0000:01:00.0/numa_node\n",
      "Your kernel may have been built without NUMA support.\n",
      "2024-04-02 13:19:17.881041: I external/local_xla/xla/stream_executor/cuda/cuda_executor.cc:887] could not open file to read NUMA node: /sys/bus/pci/devices/0000:01:00.0/numa_node\n",
      "Your kernel may have been built without NUMA support.\n",
      "2024-04-02 13:19:17.881444: I external/local_xla/xla/stream_executor/cuda/cuda_executor.cc:887] could not open file to read NUMA node: /sys/bus/pci/devices/0000:01:00.0/numa_node\n",
      "Your kernel may have been built without NUMA support.\n",
      "2024-04-02 13:19:17.881458: I tensorflow/core/common_runtime/gpu/gpu_device.cc:2022] Could not identify NUMA node of platform GPU id 0, defaulting to 0.  Your kernel may not have been built with NUMA support.\n",
      "2024-04-02 13:19:17.881805: I external/local_xla/xla/stream_executor/cuda/cuda_executor.cc:887] could not open file to read NUMA node: /sys/bus/pci/devices/0000:01:00.0/numa_node\n",
      "Your kernel may have been built without NUMA support.\n",
      "2024-04-02 13:19:17.881828: I tensorflow/core/common_runtime/gpu/gpu_device.cc:1929] Created device /job:localhost/replica:0/task:0/device:GPU:0 with 9057 MB memory:  -> device: 0, name: NVIDIA GeForce RTX 2080 Ti, pci bus id: 0000:01:00.0, compute capability: 7.5\n"
     ]
    }
   ],
   "source": [
    "if TRAIN_DATA.exists() and TRAIN_DATA.is_dir():\n",
    "    print(\"Test data found, loading\")\n",
    "    train_data = tf.keras.utils.image_dataset_from_directory(\n",
    "        TRAIN_DATA,\n",
    "        labels=\"inferred\",\n",
    "        label_mode=\"int\",\n",
    "        batch_size=32,\n",
    "        image_size=(224, 224),\n",
    "        shuffle=False,\n",
    "    )\n",
    "else:\n",
    "    print(\"No test data found, where did it go?\")"
   ]
  },
  {
   "cell_type": "code",
   "execution_count": 5,
   "metadata": {},
   "outputs": [
    {
     "name": "stdout",
     "output_type": "stream",
     "text": [
      "Model loaded from disk\n"
     ]
    }
   ],
   "source": [
    "if MODEL_PATH.exists():\n",
    "    model = tf.keras.models.load_model(MODEL_PATH)\n",
    "    model.trainable = False\n",
    "    print(\"Model loaded from disk\")\n",
    "else:\n",
    "    print(\"Model not found at path:\", MODEL_PATH)"
   ]
  },
  {
   "cell_type": "code",
   "execution_count": 6,
   "metadata": {},
   "outputs": [
    {
     "name": "stdout",
     "output_type": "stream",
     "text": [
      "Predictions not found at path: /tf/notebooks/data/training_data_71_predictions.lzma\n",
      "Predicting\n"
     ]
    },
    {
     "name": "stderr",
     "output_type": "stream",
     "text": [
      "2024-04-02 13:20:24.332826: I external/local_xla/xla/stream_executor/cuda/cuda_dnn.cc:454] Loaded cuDNN version 8906\n"
     ]
    },
    {
     "name": "stdout",
     "output_type": "stream",
     "text": [
      "976/976 [==============================] - 88s 85ms/step\n"
     ]
    }
   ],
   "source": [
    "training_predictions_file = pc.data_root_dir.joinpath(\"training_data_71_predictions.lzma\")\n",
    "if training_predictions_file.exists():\n",
    "    print(\"Predictions loaded from disk\")\n",
    "    training_predictions = joblib.load(training_predictions_file)\n",
    "else:\n",
    "    print(\"Predictions not found at path:\", training_predictions_file)\n",
    "    print(\"Predicting\")\n",
    "    predictions = model.predict(train_data)\n",
    "    joblib.dump(predictions, training_predictions_file)"
   ]
  },
  {
   "cell_type": "code",
   "execution_count": 7,
   "metadata": {},
   "outputs": [],
   "source": [
    "predicted_classes = np.argmax(predictions, axis=-1)"
   ]
  },
  {
   "cell_type": "code",
   "execution_count": 8,
   "metadata": {},
   "outputs": [],
   "source": [
    "file_paths = train_data.file_paths\n",
    "class_names = train_data.class_names\n",
    "true_labels = []\n",
    "for images, true_label in train_data:\n",
    "    true_labels.extend(true_label.numpy())\n",
    "true_class_labels = [class_names[i] for i in true_labels]\n",
    "predicted_class_labels = [class_names[i] for i in predicted_classes]\n"
   ]
  },
  {
   "cell_type": "code",
   "execution_count": 12,
   "metadata": {},
   "outputs": [],
   "source": [
    "df = pl.DataFrame(zip(file_paths, true_class_labels, predicted_class_labels), schema=[(\"file_path\", pl.Utf8), (\"true_class_labels\", pl.Utf8), (\"predicted_label\", pl.Utf8)])\n",
    "mispredicted_df = df.filter(pl.col(\"true_class_labels\") != pl.col(\"predicted_label\")).sort(\"true_class_labels\")\n",
    "predicted_df = df.filter(pl.col(\"true_class_labels\") == pl.col(\"predicted_label\")).sort(\"true_class_labels\")\n",
    "\n"
   ]
  },
  {
   "cell_type": "code",
   "execution_count": 14,
   "metadata": {},
   "outputs": [
    {
     "name": "stdout",
     "output_type": "stream",
     "text": [
      "3855\n",
      "27372\n"
     ]
    }
   ],
   "source": [
    "print(mispredicted_df.height)\n",
    "print(predicted_df.height)"
   ]
  },
  {
   "cell_type": "code",
   "execution_count": 15,
   "metadata": {},
   "outputs": [],
   "source": [
    "df.write_parquet(pc.data_root_dir.joinpath(\"training_data_71_prediction_results.parquet\"))\n",
    "df.write_csv(pc.data_root_dir.joinpath(\"training_data_71_prediction_results.csv\"))"
   ]
  }
 ],
 "metadata": {
  "kernelspec": {
   "display_name": "281-venv",
   "language": "python",
   "name": "python3"
  },
  "language_info": {
   "codemirror_mode": {
    "name": "ipython",
    "version": 3
   },
   "file_extension": ".py",
   "mimetype": "text/x-python",
   "name": "python",
   "nbconvert_exporter": "python",
   "pygments_lexer": "ipython3",
   "version": "3.11.8"
  }
 },
 "nbformat": 4,
 "nbformat_minor": 2
}
