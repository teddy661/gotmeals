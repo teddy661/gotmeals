{
 "cells": [
  {
   "cell_type": "code",
   "execution_count": 1,
   "metadata": {},
   "outputs": [
    {
     "name": "stdout",
     "output_type": "stream",
     "text": [
      "WARNING:tensorflow:From c:\\Users\\teddy\\Documents\\01-Berkeley\\281\\281-venv\\Lib\\site-packages\\keras\\src\\losses.py:2976: The name tf.losses.sparse_softmax_cross_entropy is deprecated. Please use tf.compat.v1.losses.sparse_softmax_cross_entropy instead.\n",
      "\n"
     ]
    }
   ],
   "source": [
    "import pickle\n",
    "from pathlib import Path\n",
    "\n",
    "import joblib\n",
    "import keras\n",
    "import polars as pl\n",
    "import tensorflow as tf\n",
    "\n",
    "from utils import *"
   ]
  },
  {
   "cell_type": "code",
   "execution_count": 6,
   "metadata": {},
   "outputs": [
    {
     "name": "stdout",
     "output_type": "stream",
     "text": [
      "No configuration file found. Using defaults.\n"
     ]
    }
   ],
   "source": [
    "pc = ProjectConfig()\n",
    "MODEL_DIR = pc.project_root_dir.joinpath(\"src\").joinpath(\"model_fine_tuned_saves\")\n",
    "MODEL_NAME = \"efficientnet_v2m\"\n",
    "MODEL_PATH = MODEL_DIR.joinpath(MODEL_NAME + \".h5\")\n",
    "CLASS_LIST_PATH = pc.project_root_dir.joinpath(\"src\").joinpath(\"class_list.lzma\")\n",
    "TEST_DATA = pc.data_root_dir.joinpath(\"sampled_test_data\")"
   ]
  },
  {
   "cell_type": "code",
   "execution_count": 7,
   "metadata": {},
   "outputs": [],
   "source": [
    "if CLASS_LIST_PATH.exists():\n",
    "    classes = joblib.load(CLASS_LIST_PATH)\n",
    "else:\n",
    "    print(\"No class list found, please run the training script first\")"
   ]
  },
  {
   "cell_type": "code",
   "execution_count": 4,
   "metadata": {},
   "outputs": [
    {
     "name": "stdout",
     "output_type": "stream",
     "text": [
      "Test data found, loading\n",
      "Found 7000 files belonging to 70 classes.\n",
      "No class list found, please run the training script first\n"
     ]
    }
   ],
   "source": [
    "if TEST_DATA.exists() and TEST_DATA.is_dir():\n",
    "    print(\"Test data found, loading\")\n",
    "    test_data = tf.keras.utils.image_dataset_from_directory(\n",
    "        TEST_DATA,\n",
    "        labels=\"inferred\",\n",
    "        label_mode=\"int\",\n",
    "        batch_size=32,\n",
    "        image_size=(224, 224),\n",
    "        shuffle=False,\n",
    "    )\n",
    "else:\n",
    "    print(\"No test data found, where did it go?\")"
   ]
  },
  {
   "cell_type": "code",
   "execution_count": 8,
   "metadata": {},
   "outputs": [
    {
     "name": "stdout",
     "output_type": "stream",
     "text": [
      "WARNING:tensorflow:From c:\\Users\\teddy\\Documents\\01-Berkeley\\281\\281-venv\\Lib\\site-packages\\keras\\src\\backend.py:1398: The name tf.executing_eagerly_outside_functions is deprecated. Please use tf.compat.v1.executing_eagerly_outside_functions instead.\n",
      "\n",
      "WARNING:tensorflow:From c:\\Users\\teddy\\Documents\\01-Berkeley\\281\\281-venv\\Lib\\site-packages\\keras\\src\\layers\\normalization\\batch_normalization.py:979: The name tf.nn.fused_batch_norm is deprecated. Please use tf.compat.v1.nn.fused_batch_norm instead.\n",
      "\n",
      "Model loaded from disk\n"
     ]
    }
   ],
   "source": [
    "if MODEL_PATH.exists():\n",
    "    model = tf.keras.models.load_model(MODEL_PATH)\n",
    "    model.trainable = False\n",
    "    print(\"Model loaded from disk\")\n",
    "else:\n",
    "    print(\"Model not found at path:\", MODEL_PATH)"
   ]
  },
  {
   "cell_type": "code",
   "execution_count": null,
   "metadata": {},
   "outputs": [],
   "source": [
    "predictions = model.predict(test_data)"
   ]
  }
 ],
 "metadata": {
  "kernelspec": {
   "display_name": "281-venv",
   "language": "python",
   "name": "python3"
  },
  "language_info": {
   "codemirror_mode": {
    "name": "ipython",
    "version": 3
   },
   "file_extension": ".py",
   "mimetype": "text/x-python",
   "name": "python",
   "nbconvert_exporter": "python",
   "pygments_lexer": "ipython3",
   "version": "3.11.8"
  }
 },
 "nbformat": 4,
 "nbformat_minor": 2
}
