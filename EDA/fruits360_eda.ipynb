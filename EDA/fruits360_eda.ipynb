{
 "cells": [
  {
   "cell_type": "markdown",
   "metadata": {},
   "source": [
    "https://www.kaggle.com/datasets/moltean/fruits"
   ]
  },
  {
   "cell_type": "code",
   "execution_count": 1,
   "metadata": {},
   "outputs": [],
   "source": [
    "import logging\n",
    "from pathlib import Path\n",
    "\n",
    "import numpy as np\n",
    "import polars as pl\n",
    "\n",
    "from utils import ProjectConfig"
   ]
  },
  {
   "cell_type": "code",
   "execution_count": 2,
   "metadata": {},
   "outputs": [
    {
     "data": {
      "text/plain": [
       "polars.config.Config"
      ]
     },
     "execution_count": 2,
     "metadata": {},
     "output_type": "execute_result"
    }
   ],
   "source": [
    "cfg = pl.Config()\n",
    "cfg.set_tbl_rows(2000)\n",
    "cfg.set_tbl_width_chars(200)\n",
    "cfg.set_fmt_str_lengths(200)"
   ]
  },
  {
   "cell_type": "code",
   "execution_count": 3,
   "metadata": {},
   "outputs": [],
   "source": [
    "pc = ProjectConfig()\n",
    "parquet_path = pc.data_root_dir.joinpath(\"Fruits-360.parquet\")\n",
    "if parquet_path.exists():\n",
    "    df = pl.read_parquet(parquet_path, memory_map=True)\n",
    "else:\n",
    "    logging.error(f\"File {parquet_path} does not exist\")"
   ]
  },
  {
   "cell_type": "code",
   "execution_count": 4,
   "metadata": {},
   "outputs": [
    {
     "data": {
      "text/html": [
       "<div><style>\n",
       ".dataframe > thead > tr,\n",
       ".dataframe > tbody > tr {\n",
       "  text-align: right;\n",
       "  white-space: pre-wrap;\n",
       "}\n",
       "</style>\n",
       "<small>shape: (1, 3)</small><table border=\"1\" class=\"dataframe\"><thead><tr><th>Width</th><th>Height</th><th>Resolution</th></tr><tr><td>f64</td><td>f64</td><td>f64</td></tr></thead><tbody><tr><td>435.0</td><td>452.0</td><td>197925.0</td></tr></tbody></table></div>"
      ],
      "text/plain": [
       "shape: (1, 3)\n",
       "┌───────┬────────┬────────────┐\n",
       "│ Width ┆ Height ┆ Resolution │\n",
       "│ ---   ┆ ---    ┆ ---        │\n",
       "│ f64   ┆ f64    ┆ f64        │\n",
       "╞═══════╪════════╪════════════╡\n",
       "│ 435.0 ┆ 452.0  ┆ 197925.0   │\n",
       "└───────┴────────┴────────────┘"
      ]
     },
     "execution_count": 4,
     "metadata": {},
     "output_type": "execute_result"
    }
   ],
   "source": [
    "df.select(pl.median(\"Width\", \"Height\", \"Resolution\"))"
   ]
  },
  {
   "cell_type": "code",
   "execution_count": 5,
   "metadata": {},
   "outputs": [
    {
     "data": {
      "text/html": [
       "<div><style>\n",
       ".dataframe > thead > tr,\n",
       ".dataframe > tbody > tr {\n",
       "  text-align: right;\n",
       "  white-space: pre-wrap;\n",
       "}\n",
       "</style>\n",
       "<small>shape: (1, 3)</small><table border=\"1\" class=\"dataframe\"><thead><tr><th>Width</th><th>Height</th><th>Resolution</th></tr><tr><td>f64</td><td>f64</td><td>f64</td></tr></thead><tbody><tr><td>453.953779</td><td>531.062911</td><td>250014.70069</td></tr></tbody></table></div>"
      ],
      "text/plain": [
       "shape: (1, 3)\n",
       "┌────────────┬────────────┬──────────────┐\n",
       "│ Width      ┆ Height     ┆ Resolution   │\n",
       "│ ---        ┆ ---        ┆ ---          │\n",
       "│ f64        ┆ f64        ┆ f64          │\n",
       "╞════════════╪════════════╪══════════════╡\n",
       "│ 453.953779 ┆ 531.062911 ┆ 250014.70069 │\n",
       "└────────────┴────────────┴──────────────┘"
      ]
     },
     "execution_count": 5,
     "metadata": {},
     "output_type": "execute_result"
    }
   ],
   "source": [
    "df.select(pl.mean(\"Width\", \"Height\", \"Resolution\"))"
   ]
  },
  {
   "cell_type": "code",
   "execution_count": 6,
   "metadata": {},
   "outputs": [
    {
     "name": "stdout",
     "output_type": "stream",
     "text": [
      "Total Number of Images: 6231\n"
     ]
    }
   ],
   "source": [
    "print(f\"Total Number of Images: {df.height}\")"
   ]
  },
  {
   "cell_type": "code",
   "execution_count": 7,
   "metadata": {},
   "outputs": [
    {
     "data": {
      "text/html": [
       "<div><style>\n",
       ".dataframe > thead > tr,\n",
       ".dataframe > tbody > tr {\n",
       "  text-align: right;\n",
       "  white-space: pre-wrap;\n",
       "}\n",
       "</style>\n",
       "<small>shape: (24, 2)</small><table border=\"1\" class=\"dataframe\"><thead><tr><th>ClassId</th><th>len</th></tr><tr><td>str</td><td>u32</td></tr></thead><tbody><tr><td>&quot;apple_red_1&quot;</td><td>309</td></tr><tr><td>&quot;apple_golden_3&quot;</td><td>316</td></tr><tr><td>&quot;apple_crimson_snow_1&quot;</td><td>318</td></tr><tr><td>&quot;cucumber_1&quot;</td><td>100</td></tr><tr><td>&quot;apple_pink_lady_1&quot;</td><td>313</td></tr><tr><td>&quot;apple_red_2&quot;</td><td>318</td></tr><tr><td>&quot;apple_rotten_1&quot;</td><td>319</td></tr><tr><td>&quot;apple_red_delicios_1&quot;</td><td>300</td></tr><tr><td>&quot;apple_granny_smith_1&quot;</td><td>320</td></tr><tr><td>&quot;eggplant_violet_1&quot;</td><td>160</td></tr><tr><td>&quot;pear_3&quot;</td><td>144</td></tr><tr><td>&quot;cucumber_3&quot;</td><td>163</td></tr><tr><td>&quot;apple_braeburn_1&quot;</td><td>320</td></tr><tr><td>&quot;apple_golden_2&quot;</td><td>308</td></tr><tr><td>&quot;apple_6&quot;</td><td>315</td></tr><tr><td>&quot;pear_1&quot;</td><td>326</td></tr><tr><td>&quot;zucchini_1&quot;</td><td>160</td></tr><tr><td>&quot;apple_hit_1&quot;</td><td>468</td></tr><tr><td>&quot;cabbage_white_1&quot;</td><td>96</td></tr><tr><td>&quot;zucchini_dark_1&quot;</td><td>160</td></tr><tr><td>&quot;apple_red_3&quot;</td><td>281</td></tr><tr><td>&quot;apple_golden_1&quot;</td><td>308</td></tr><tr><td>&quot;carrot_1&quot;</td><td>101</td></tr><tr><td>&quot;apple_red_yellow_1&quot;</td><td>308</td></tr></tbody></table></div>"
      ],
      "text/plain": [
       "shape: (24, 2)\n",
       "┌──────────────────────┬─────┐\n",
       "│ ClassId              ┆ len │\n",
       "│ ---                  ┆ --- │\n",
       "│ str                  ┆ u32 │\n",
       "╞══════════════════════╪═════╡\n",
       "│ apple_red_1          ┆ 309 │\n",
       "│ apple_golden_3       ┆ 316 │\n",
       "│ apple_crimson_snow_1 ┆ 318 │\n",
       "│ cucumber_1           ┆ 100 │\n",
       "│ apple_pink_lady_1    ┆ 313 │\n",
       "│ apple_red_2          ┆ 318 │\n",
       "│ apple_rotten_1       ┆ 319 │\n",
       "│ apple_red_delicios_1 ┆ 300 │\n",
       "│ apple_granny_smith_1 ┆ 320 │\n",
       "│ eggplant_violet_1    ┆ 160 │\n",
       "│ pear_3               ┆ 144 │\n",
       "│ cucumber_3           ┆ 163 │\n",
       "│ apple_braeburn_1     ┆ 320 │\n",
       "│ apple_golden_2       ┆ 308 │\n",
       "│ apple_6              ┆ 315 │\n",
       "│ pear_1               ┆ 326 │\n",
       "│ zucchini_1           ┆ 160 │\n",
       "│ apple_hit_1          ┆ 468 │\n",
       "│ cabbage_white_1      ┆ 96  │\n",
       "│ zucchini_dark_1      ┆ 160 │\n",
       "│ apple_red_3          ┆ 281 │\n",
       "│ apple_golden_1       ┆ 308 │\n",
       "│ carrot_1             ┆ 101 │\n",
       "│ apple_red_yellow_1   ┆ 308 │\n",
       "└──────────────────────┴─────┘"
      ]
     },
     "execution_count": 7,
     "metadata": {},
     "output_type": "execute_result"
    }
   ],
   "source": [
    "df.group_by(\"ClassId\").len()"
   ]
  }
 ],
 "metadata": {
  "kernelspec": {
   "display_name": "281-venv",
   "language": "python",
   "name": "python3"
  },
  "language_info": {
   "codemirror_mode": {
    "name": "ipython",
    "version": 3
   },
   "file_extension": ".py",
   "mimetype": "text/x-python",
   "name": "python",
   "nbconvert_exporter": "python",
   "pygments_lexer": "ipython3",
   "version": "3.11.8"
  }
 },
 "nbformat": 4,
 "nbformat_minor": 2
}
