{
 "cells": [
  {
   "cell_type": "code",
   "execution_count": 2,
   "id": "5ab306b4",
   "metadata": {},
   "outputs": [],
   "source": [
    "#EDA for recipe databases"
   ]
  },
  {
   "cell_type": "code",
   "execution_count": null,
   "id": "ce055776",
   "metadata": {},
   "outputs": [],
   "source": [
    "#RecipeDB https://cosylab.iiitd.edu.in/recipedb/\n",
    "#TheMealDB https://www.themealdb.com/\n",
    "#Food.com Recipes and Interactions https://www.kaggle.com/datasets/shuyangli94/food-com-recipes-and-user-interactions\n",
    "#Food.com Recipes and Reviews https://www.kaggle.com/datasets/irkaal/foodcom-recipes-and-reviews\n",
    "#Recipe1M+ Dataset | Papers With Code https://paperswithcode.com/dataset/recipe1m-1"
   ]
  },
  {
   "cell_type": "code",
   "execution_count": null,
   "id": "bbd7c979",
   "metadata": {},
   "outputs": [],
   "source": [
    "#EDA Tasks\n",
    "#0. Overall understanding of the structure of the dataset\n",
    "#1. Count of recipes\n",
    "#2. Avg # of ingredients per recipe \n",
    "#3. # of unique ingredients\n",
    "#4. List of unique ingredients"
   ]
  },
  {
   "cell_type": "code",
   "execution_count": null,
   "id": "0969473f",
   "metadata": {},
   "outputs": [],
   "source": []
  },
  {
   "cell_type": "code",
   "execution_count": null,
   "id": "f066990b",
   "metadata": {},
   "outputs": [],
   "source": []
  }
 ],
 "metadata": {
  "kernelspec": {
   "display_name": "Python 3 (ipykernel)",
   "language": "python",
   "name": "python3"
  },
  "language_info": {
   "codemirror_mode": {
    "name": "ipython",
    "version": 3
   },
   "file_extension": ".py",
   "mimetype": "text/x-python",
   "name": "python",
   "nbconvert_exporter": "python",
   "pygments_lexer": "ipython3",
   "version": "3.8.10"
  }
 },
 "nbformat": 4,
 "nbformat_minor": 5
}
