{
 "cells": [
  {
   "cell_type": "markdown",
   "metadata": {},
   "source": [
    "https://github.com/marcusklasson/GroceryStoreDataset"
   ]
  },
  {
   "cell_type": "code",
   "execution_count": 1,
   "metadata": {},
   "outputs": [],
   "source": [
    "import logging\n",
    "from pathlib import Path\n",
    "\n",
    "import numpy as np\n",
    "import polars as pl"
   ]
  },
  {
   "cell_type": "code",
   "execution_count": 2,
   "metadata": {},
   "outputs": [
    {
     "data": {
      "text/plain": [
       "polars.config.Config"
      ]
     },
     "execution_count": 2,
     "metadata": {},
     "output_type": "execute_result"
    }
   ],
   "source": [
    "cfg = pl.Config()\n",
    "cfg.set_tbl_rows(2000)\n",
    "cfg.set_tbl_width_chars(200)\n",
    "cfg.set_fmt_str_lengths(200)"
   ]
  },
  {
   "cell_type": "code",
   "execution_count": 3,
   "metadata": {},
   "outputs": [],
   "source": [
    "parquet_path = Path(\"grocerystoredataset.parquet\")\n",
    "if parquet_path.exists():\n",
    "    df = pl.read_parquet(parquet_path, memory_map=True)\n",
    "else:\n",
    "    logging.error(f\"File {parquet_path} does not exist\")"
   ]
  },
  {
   "cell_type": "code",
   "execution_count": 4,
   "metadata": {},
   "outputs": [
    {
     "data": {
      "text/html": [
       "<div><style>\n",
       ".dataframe > thead > tr,\n",
       ".dataframe > tbody > tr {\n",
       "  text-align: right;\n",
       "  white-space: pre-wrap;\n",
       "}\n",
       "</style>\n",
       "<small>shape: (1, 3)</small><table border=\"1\" class=\"dataframe\"><thead><tr><th>Width</th><th>Height</th><th>Resolution</th></tr><tr><td>f64</td><td>f64</td><td>f64</td></tr></thead><tbody><tr><td>348.0</td><td>348.0</td><td>121104.0</td></tr></tbody></table></div>"
      ],
      "text/plain": [
       "shape: (1, 3)\n",
       "┌───────┬────────┬────────────┐\n",
       "│ Width ┆ Height ┆ Resolution │\n",
       "│ ---   ┆ ---    ┆ ---        │\n",
       "│ f64   ┆ f64    ┆ f64        │\n",
       "╞═══════╪════════╪════════════╡\n",
       "│ 348.0 ┆ 348.0  ┆ 121104.0   │\n",
       "└───────┴────────┴────────────┘"
      ]
     },
     "execution_count": 4,
     "metadata": {},
     "output_type": "execute_result"
    }
   ],
   "source": [
    "df.select(pl.median(\"Width\", \"Height\", \"Resolution\"))"
   ]
  },
  {
   "cell_type": "code",
   "execution_count": 5,
   "metadata": {},
   "outputs": [
    {
     "data": {
      "text/html": [
       "<div><style>\n",
       ".dataframe > thead > tr,\n",
       ".dataframe > tbody > tr {\n",
       "  text-align: right;\n",
       "  white-space: pre-wrap;\n",
       "}\n",
       "</style>\n",
       "<small>shape: (1, 3)</small><table border=\"1\" class=\"dataframe\"><thead><tr><th>Width</th><th>Height</th><th>Resolution</th></tr><tr><td>f64</td><td>f64</td><td>f64</td></tr></thead><tbody><tr><td>348.74697</td><td>353.536364</td><td>123290.6</td></tr></tbody></table></div>"
      ],
      "text/plain": [
       "shape: (1, 3)\n",
       "┌───────────┬────────────┬────────────┐\n",
       "│ Width     ┆ Height     ┆ Resolution │\n",
       "│ ---       ┆ ---        ┆ ---        │\n",
       "│ f64       ┆ f64        ┆ f64        │\n",
       "╞═══════════╪════════════╪════════════╡\n",
       "│ 348.74697 ┆ 353.536364 ┆ 123290.6   │\n",
       "└───────────┴────────────┴────────────┘"
      ]
     },
     "execution_count": 5,
     "metadata": {},
     "output_type": "execute_result"
    }
   ],
   "source": [
    "df.select(pl.mean(\"Width\", \"Height\", \"Resolution\"))"
   ]
  },
  {
   "cell_type": "code",
   "execution_count": 6,
   "metadata": {},
   "outputs": [
    {
     "name": "stdout",
     "output_type": "stream",
     "text": [
      "Total Number of Images: 2640\n"
     ]
    }
   ],
   "source": [
    "print(f\"Total Number of Images: {df.height}\")"
   ]
  },
  {
   "cell_type": "code",
   "execution_count": 7,
   "metadata": {},
   "outputs": [
    {
     "data": {
      "text/html": [
       "<div><style>\n",
       ".dataframe > thead > tr,\n",
       ".dataframe > tbody > tr {\n",
       "  text-align: right;\n",
       "  white-space: pre-wrap;\n",
       "}\n",
       "</style>\n",
       "<small>shape: (81, 3)</small><table border=\"1\" class=\"dataframe\"><thead><tr><th>Coarse Class Name (str)</th><th>Class Name (str)</th><th>len</th></tr><tr><td>str</td><td>str</td><td>u32</td></tr></thead><tbody><tr><td>&quot;Apple&quot;</td><td>&quot;Pink-Lady&quot;</td><td>59</td></tr><tr><td>&quot;Apple&quot;</td><td>&quot;Royal-Gala&quot;</td><td>65</td></tr><tr><td>&quot;Apple&quot;</td><td>&quot;Golden-Delicious&quot;</td><td>45</td></tr><tr><td>&quot;Apple&quot;</td><td>&quot;Red-Delicious&quot;</td><td>50</td></tr><tr><td>&quot;Apple&quot;</td><td>&quot;Granny-Smith&quot;</td><td>59</td></tr><tr><td>&quot;Asparagus&quot;</td><td>&quot;Asparagus&quot;</td><td>16</td></tr><tr><td>&quot;Aubergine&quot;</td><td>&quot;Aubergine&quot;</td><td>22</td></tr><tr><td>&quot;Avocado&quot;</td><td>&quot;Avocado&quot;</td><td>41</td></tr><tr><td>&quot;Banana&quot;</td><td>&quot;Banana&quot;</td><td>45</td></tr><tr><td>&quot;Cabbage&quot;</td><td>&quot;Cabbage&quot;</td><td>19</td></tr><tr><td>&quot;Carrots&quot;</td><td>&quot;Carrots&quot;</td><td>43</td></tr><tr><td>&quot;Cucumber&quot;</td><td>&quot;Cucumber&quot;</td><td>28</td></tr><tr><td>&quot;Garlic&quot;</td><td>&quot;Garlic&quot;</td><td>25</td></tr><tr><td>&quot;Ginger&quot;</td><td>&quot;Ginger&quot;</td><td>19</td></tr><tr><td>&quot;Juice&quot;</td><td>&quot;God-Morgon-Orange-Juice&quot;</td><td>23</td></tr><tr><td>&quot;Juice&quot;</td><td>&quot;Bravo-Apple-Juice&quot;</td><td>25</td></tr><tr><td>&quot;Juice&quot;</td><td>&quot;Bravo-Orange-Juice&quot;</td><td>32</td></tr><tr><td>&quot;Juice&quot;</td><td>&quot;God-Morgon-Red-Grapefruit-Juice&quot;</td><td>26</td></tr><tr><td>&quot;Juice&quot;</td><td>&quot;Tropicana-Juice-Smooth&quot;</td><td>26</td></tr><tr><td>&quot;Juice&quot;</td><td>&quot;God-Morgon-Apple-Juice&quot;</td><td>19</td></tr><tr><td>&quot;Juice&quot;</td><td>&quot;Tropicana-Golden-Grapefruit&quot;</td><td>25</td></tr><tr><td>&quot;Juice&quot;</td><td>&quot;Tropicana-Mandarin-Morning&quot;</td><td>20</td></tr><tr><td>&quot;Juice&quot;</td><td>&quot;Tropicana-Apple-Juice&quot;</td><td>31</td></tr><tr><td>&quot;Juice&quot;</td><td>&quot;God-Morgon-Orange-Red-Grapefruit-Juice&quot;</td><td>20</td></tr><tr><td>&quot;Kiwi&quot;</td><td>&quot;Kiwi&quot;</td><td>46</td></tr><tr><td>&quot;Leek&quot;</td><td>&quot;Leek&quot;</td><td>23</td></tr><tr><td>&quot;Lemon&quot;</td><td>&quot;Lemon&quot;</td><td>42</td></tr><tr><td>&quot;Lime&quot;</td><td>&quot;Lime&quot;</td><td>31</td></tr><tr><td>&quot;Mango&quot;</td><td>&quot;Mango&quot;</td><td>32</td></tr><tr><td>&quot;Melon&quot;</td><td>&quot;Cantaloupe&quot;</td><td>39</td></tr><tr><td>&quot;Melon&quot;</td><td>&quot;Honeydew-Melon&quot;</td><td>36</td></tr><tr><td>&quot;Melon&quot;</td><td>&quot;Watermelon&quot;</td><td>46</td></tr><tr><td>&quot;Melon&quot;</td><td>&quot;Galia-Melon&quot;</td><td>33</td></tr><tr><td>&quot;Milk&quot;</td><td>&quot;Arla-Ecological-Medium-Fat-Milk&quot;</td><td>29</td></tr><tr><td>&quot;Milk&quot;</td><td>&quot;Garant-Ecological-Standard-Milk&quot;</td><td>28</td></tr><tr><td>&quot;Milk&quot;</td><td>&quot;Arla-Lactose-Medium-Fat-Milk&quot;</td><td>26</td></tr><tr><td>&quot;Milk&quot;</td><td>&quot;Garant-Ecological-Medium-Fat-Milk&quot;</td><td>35</td></tr><tr><td>&quot;Milk&quot;</td><td>&quot;Arla-Standard-Milk&quot;</td><td>30</td></tr><tr><td>&quot;Milk&quot;</td><td>&quot;Arla-Medium-Fat-Milk&quot;</td><td>34</td></tr><tr><td>&quot;Mushroom&quot;</td><td>&quot;Brown-Cap-Mushroom&quot;</td><td>39</td></tr><tr><td>&quot;Nectarine&quot;</td><td>&quot;Nectarine&quot;</td><td>36</td></tr><tr><td>&quot;Oat-Milk&quot;</td><td>&quot;Oatly-Oat-Milk&quot;</td><td>32</td></tr><tr><td>&quot;Oatghurt&quot;</td><td>&quot;Oatly-Natural-Oatghurt&quot;</td><td>33</td></tr><tr><td>&quot;Onion&quot;</td><td>&quot;Yellow-Onion&quot;</td><td>38</td></tr><tr><td>&quot;Orange&quot;</td><td>&quot;Orange&quot;</td><td>57</td></tr><tr><td>&quot;Papaya&quot;</td><td>&quot;Papaya&quot;</td><td>21</td></tr><tr><td>&quot;Passion-Fruit&quot;</td><td>&quot;Passion-Fruit&quot;</td><td>28</td></tr><tr><td>&quot;Peach&quot;</td><td>&quot;Peach&quot;</td><td>37</td></tr><tr><td>&quot;Pear&quot;</td><td>&quot;Conference&quot;</td><td>45</td></tr><tr><td>&quot;Pear&quot;</td><td>&quot;Kaiser&quot;</td><td>30</td></tr><tr><td>&quot;Pear&quot;</td><td>&quot;Anjou&quot;</td><td>41</td></tr><tr><td>&quot;Pepper&quot;</td><td>&quot;Yellow-Bell-Pepper&quot;</td><td>26</td></tr><tr><td>&quot;Pepper&quot;</td><td>&quot;Red-Bell-Pepper&quot;</td><td>34</td></tr><tr><td>&quot;Pepper&quot;</td><td>&quot;Green-Bell-Pepper&quot;</td><td>26</td></tr><tr><td>&quot;Pepper&quot;</td><td>&quot;Orange-Bell-Pepper&quot;</td><td>26</td></tr><tr><td>&quot;Pineapple&quot;</td><td>&quot;Pineapple&quot;</td><td>26</td></tr><tr><td>&quot;Plum&quot;</td><td>&quot;Plum&quot;</td><td>22</td></tr><tr><td>&quot;Pomegranate&quot;</td><td>&quot;Pomegranate&quot;</td><td>26</td></tr><tr><td>&quot;Potato&quot;</td><td>&quot;Floury-Potato&quot;</td><td>18</td></tr><tr><td>&quot;Potato&quot;</td><td>&quot;Sweet-Potato&quot;</td><td>29</td></tr><tr><td>&quot;Potato&quot;</td><td>&quot;Solid-Potato&quot;</td><td>28</td></tr><tr><td>&quot;Red-Beet&quot;</td><td>&quot;Red-Beet&quot;</td><td>18</td></tr><tr><td>&quot;Red-Grapefruit&quot;</td><td>&quot;Red-Grapefruit&quot;</td><td>34</td></tr><tr><td>&quot;Satsumas&quot;</td><td>&quot;Satsumas&quot;</td><td>70</td></tr><tr><td>&quot;Sour-Cream&quot;</td><td>&quot;Arla-Ecological-Sour-Cream&quot;</td><td>29</td></tr><tr><td>&quot;Sour-Cream&quot;</td><td>&quot;Arla-Sour-Cream&quot;</td><td>19</td></tr><tr><td>&quot;Sour-Milk&quot;</td><td>&quot;Arla-Sour-Milk&quot;</td><td>30</td></tr><tr><td>&quot;Soy-Milk&quot;</td><td>&quot;Alpro-Shelf-Soy-Milk&quot;</td><td>30</td></tr><tr><td>&quot;Soy-Milk&quot;</td><td>&quot;Alpro-Fresh-Soy-Milk&quot;</td><td>30</td></tr><tr><td>&quot;Soyghurt&quot;</td><td>&quot;Alpro-Blueberry-Soyghurt&quot;</td><td>28</td></tr><tr><td>&quot;Soyghurt&quot;</td><td>&quot;Alpro-Vanilla-Soyghurt&quot;</td><td>23</td></tr><tr><td>&quot;Tomato&quot;</td><td>&quot;Beef-Tomato&quot;</td><td>34</td></tr><tr><td>&quot;Tomato&quot;</td><td>&quot;Vine-Tomato&quot;</td><td>43</td></tr><tr><td>&quot;Tomato&quot;</td><td>&quot;Regular-Tomato&quot;</td><td>50</td></tr><tr><td>&quot;Yoghurt&quot;</td><td>&quot;Arla-Mild-Vanilla-Yoghurt&quot;</td><td>29</td></tr><tr><td>&quot;Yoghurt&quot;</td><td>&quot;Yoggi-Vanilla-Yoghurt&quot;</td><td>20</td></tr><tr><td>&quot;Yoghurt&quot;</td><td>&quot;Arla-Natural-Mild-Low-Fat-Yoghurt&quot;</td><td>26</td></tr><tr><td>&quot;Yoghurt&quot;</td><td>&quot;Yoggi-Strawberry-Yoghurt&quot;</td><td>32</td></tr><tr><td>&quot;Yoghurt&quot;</td><td>&quot;Arla-Natural-Yoghurt&quot;</td><td>42</td></tr><tr><td>&quot;Yoghurt&quot;</td><td>&quot;Valio-Vanilla-Yoghurt&quot;</td><td>32</td></tr><tr><td>&quot;Zucchini&quot;</td><td>&quot;Zucchini&quot;</td><td>30</td></tr></tbody></table></div>"
      ],
      "text/plain": [
       "shape: (81, 3)\n",
       "┌─────────────────────────┬────────────────────────────────────────┬─────┐\n",
       "│ Coarse Class Name (str) ┆ Class Name (str)                       ┆ len │\n",
       "│ ---                     ┆ ---                                    ┆ --- │\n",
       "│ str                     ┆ str                                    ┆ u32 │\n",
       "╞═════════════════════════╪════════════════════════════════════════╪═════╡\n",
       "│ Apple                   ┆ Pink-Lady                              ┆ 59  │\n",
       "│ Apple                   ┆ Royal-Gala                             ┆ 65  │\n",
       "│ Apple                   ┆ Golden-Delicious                       ┆ 45  │\n",
       "│ Apple                   ┆ Red-Delicious                          ┆ 50  │\n",
       "│ Apple                   ┆ Granny-Smith                           ┆ 59  │\n",
       "│ Asparagus               ┆ Asparagus                              ┆ 16  │\n",
       "│ Aubergine               ┆ Aubergine                              ┆ 22  │\n",
       "│ Avocado                 ┆ Avocado                                ┆ 41  │\n",
       "│ Banana                  ┆ Banana                                 ┆ 45  │\n",
       "│ Cabbage                 ┆ Cabbage                                ┆ 19  │\n",
       "│ Carrots                 ┆ Carrots                                ┆ 43  │\n",
       "│ Cucumber                ┆ Cucumber                               ┆ 28  │\n",
       "│ Garlic                  ┆ Garlic                                 ┆ 25  │\n",
       "│ Ginger                  ┆ Ginger                                 ┆ 19  │\n",
       "│ Juice                   ┆ God-Morgon-Orange-Juice                ┆ 23  │\n",
       "│ Juice                   ┆ Bravo-Apple-Juice                      ┆ 25  │\n",
       "│ Juice                   ┆ Bravo-Orange-Juice                     ┆ 32  │\n",
       "│ Juice                   ┆ God-Morgon-Red-Grapefruit-Juice        ┆ 26  │\n",
       "│ Juice                   ┆ Tropicana-Juice-Smooth                 ┆ 26  │\n",
       "│ Juice                   ┆ God-Morgon-Apple-Juice                 ┆ 19  │\n",
       "│ Juice                   ┆ Tropicana-Golden-Grapefruit            ┆ 25  │\n",
       "│ Juice                   ┆ Tropicana-Mandarin-Morning             ┆ 20  │\n",
       "│ Juice                   ┆ Tropicana-Apple-Juice                  ┆ 31  │\n",
       "│ Juice                   ┆ God-Morgon-Orange-Red-Grapefruit-Juice ┆ 20  │\n",
       "│ Kiwi                    ┆ Kiwi                                   ┆ 46  │\n",
       "│ Leek                    ┆ Leek                                   ┆ 23  │\n",
       "│ Lemon                   ┆ Lemon                                  ┆ 42  │\n",
       "│ Lime                    ┆ Lime                                   ┆ 31  │\n",
       "│ Mango                   ┆ Mango                                  ┆ 32  │\n",
       "│ Melon                   ┆ Cantaloupe                             ┆ 39  │\n",
       "│ Melon                   ┆ Honeydew-Melon                         ┆ 36  │\n",
       "│ Melon                   ┆ Watermelon                             ┆ 46  │\n",
       "│ Melon                   ┆ Galia-Melon                            ┆ 33  │\n",
       "│ Milk                    ┆ Arla-Ecological-Medium-Fat-Milk        ┆ 29  │\n",
       "│ Milk                    ┆ Garant-Ecological-Standard-Milk        ┆ 28  │\n",
       "│ Milk                    ┆ Arla-Lactose-Medium-Fat-Milk           ┆ 26  │\n",
       "│ Milk                    ┆ Garant-Ecological-Medium-Fat-Milk      ┆ 35  │\n",
       "│ Milk                    ┆ Arla-Standard-Milk                     ┆ 30  │\n",
       "│ Milk                    ┆ Arla-Medium-Fat-Milk                   ┆ 34  │\n",
       "│ Mushroom                ┆ Brown-Cap-Mushroom                     ┆ 39  │\n",
       "│ Nectarine               ┆ Nectarine                              ┆ 36  │\n",
       "│ Oat-Milk                ┆ Oatly-Oat-Milk                         ┆ 32  │\n",
       "│ Oatghurt                ┆ Oatly-Natural-Oatghurt                 ┆ 33  │\n",
       "│ Onion                   ┆ Yellow-Onion                           ┆ 38  │\n",
       "│ Orange                  ┆ Orange                                 ┆ 57  │\n",
       "│ Papaya                  ┆ Papaya                                 ┆ 21  │\n",
       "│ Passion-Fruit           ┆ Passion-Fruit                          ┆ 28  │\n",
       "│ Peach                   ┆ Peach                                  ┆ 37  │\n",
       "│ Pear                    ┆ Conference                             ┆ 45  │\n",
       "│ Pear                    ┆ Kaiser                                 ┆ 30  │\n",
       "│ Pear                    ┆ Anjou                                  ┆ 41  │\n",
       "│ Pepper                  ┆ Yellow-Bell-Pepper                     ┆ 26  │\n",
       "│ Pepper                  ┆ Red-Bell-Pepper                        ┆ 34  │\n",
       "│ Pepper                  ┆ Green-Bell-Pepper                      ┆ 26  │\n",
       "│ Pepper                  ┆ Orange-Bell-Pepper                     ┆ 26  │\n",
       "│ Pineapple               ┆ Pineapple                              ┆ 26  │\n",
       "│ Plum                    ┆ Plum                                   ┆ 22  │\n",
       "│ Pomegranate             ┆ Pomegranate                            ┆ 26  │\n",
       "│ Potato                  ┆ Floury-Potato                          ┆ 18  │\n",
       "│ Potato                  ┆ Sweet-Potato                           ┆ 29  │\n",
       "│ Potato                  ┆ Solid-Potato                           ┆ 28  │\n",
       "│ Red-Beet                ┆ Red-Beet                               ┆ 18  │\n",
       "│ Red-Grapefruit          ┆ Red-Grapefruit                         ┆ 34  │\n",
       "│ Satsumas                ┆ Satsumas                               ┆ 70  │\n",
       "│ Sour-Cream              ┆ Arla-Ecological-Sour-Cream             ┆ 29  │\n",
       "│ Sour-Cream              ┆ Arla-Sour-Cream                        ┆ 19  │\n",
       "│ Sour-Milk               ┆ Arla-Sour-Milk                         ┆ 30  │\n",
       "│ Soy-Milk                ┆ Alpro-Shelf-Soy-Milk                   ┆ 30  │\n",
       "│ Soy-Milk                ┆ Alpro-Fresh-Soy-Milk                   ┆ 30  │\n",
       "│ Soyghurt                ┆ Alpro-Blueberry-Soyghurt               ┆ 28  │\n",
       "│ Soyghurt                ┆ Alpro-Vanilla-Soyghurt                 ┆ 23  │\n",
       "│ Tomato                  ┆ Beef-Tomato                            ┆ 34  │\n",
       "│ Tomato                  ┆ Vine-Tomato                            ┆ 43  │\n",
       "│ Tomato                  ┆ Regular-Tomato                         ┆ 50  │\n",
       "│ Yoghurt                 ┆ Arla-Mild-Vanilla-Yoghurt              ┆ 29  │\n",
       "│ Yoghurt                 ┆ Yoggi-Vanilla-Yoghurt                  ┆ 20  │\n",
       "│ Yoghurt                 ┆ Arla-Natural-Mild-Low-Fat-Yoghurt      ┆ 26  │\n",
       "│ Yoghurt                 ┆ Yoggi-Strawberry-Yoghurt               ┆ 32  │\n",
       "│ Yoghurt                 ┆ Arla-Natural-Yoghurt                   ┆ 42  │\n",
       "│ Yoghurt                 ┆ Valio-Vanilla-Yoghurt                  ┆ 32  │\n",
       "│ Zucchini                ┆ Zucchini                               ┆ 30  │\n",
       "└─────────────────────────┴────────────────────────────────────────┴─────┘"
      ]
     },
     "execution_count": 7,
     "metadata": {},
     "output_type": "execute_result"
    }
   ],
   "source": [
    "df.group_by([\"Coarse Class Name (str)\", \"Class Name (str)\"]).len().sort(\n",
    "    \"Coarse Class Name (str)\"\n",
    ")"
   ]
  }
 ],
 "metadata": {
  "kernelspec": {
   "display_name": "281-venv",
   "language": "python",
   "name": "python3"
  },
  "language_info": {
   "codemirror_mode": {
    "name": "ipython",
    "version": 3
   },
   "file_extension": ".py",
   "mimetype": "text/x-python",
   "name": "python",
   "nbconvert_exporter": "python",
   "pygments_lexer": "ipython3",
   "version": "3.11.7"
  }
 },
 "nbformat": 4,
 "nbformat_minor": 2
}
