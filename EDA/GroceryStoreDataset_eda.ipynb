{
 "cells": [
  {
   "cell_type": "markdown",
   "metadata": {},
   "source": [
    "https://github.com/marcusklasson/GroceryStoreDataset"
   ]
  },
  {
   "cell_type": "code",
   "execution_count": 1,
   "metadata": {},
   "outputs": [],
   "source": [
    "import logging\n",
    "from pathlib import Path\n",
    "\n",
    "import numpy as np\n",
    "import polars as pl"
   ]
  },
  {
   "cell_type": "code",
   "execution_count": 2,
   "metadata": {},
   "outputs": [
    {
     "data": {
      "text/plain": [
       "polars.config.Config"
      ]
     },
     "execution_count": 2,
     "metadata": {},
     "output_type": "execute_result"
    }
   ],
   "source": [
    "cfg = pl.Config()\n",
    "cfg.set_tbl_rows(2000)\n",
    "cfg.set_tbl_width_chars(200)\n",
    "cfg.set_fmt_str_lengths(200)"
   ]
  },
  {
   "cell_type": "code",
   "execution_count": 3,
   "metadata": {},
   "outputs": [],
   "source": [
    "parquet_path = Path(\"grocerystoredataset.parquet\")\n",
    "if parquet_path.exists():\n",
    "    df = pl.read_parquet(parquet_path, memory_map=True)\n",
    "else:\n",
    "    logging.error(f\"File {parquet_path} does not exist\")"
   ]
  },
  {
   "cell_type": "code",
   "execution_count": 4,
   "metadata": {},
   "outputs": [
    {
     "data": {
      "text/html": [
       "<div><style>\n",
       ".dataframe > thead > tr,\n",
       ".dataframe > tbody > tr {\n",
       "  text-align: right;\n",
       "  white-space: pre-wrap;\n",
       "}\n",
       "</style>\n",
       "<small>shape: (1, 3)</small><table border=\"1\" class=\"dataframe\"><thead><tr><th>Width</th><th>Height</th><th>Resolution</th></tr><tr><td>f64</td><td>f64</td><td>f64</td></tr></thead><tbody><tr><td>348.0</td><td>348.0</td><td>121104.0</td></tr></tbody></table></div>"
      ],
      "text/plain": [
       "shape: (1, 3)\n",
       "┌───────┬────────┬────────────┐\n",
       "│ Width ┆ Height ┆ Resolution │\n",
       "│ ---   ┆ ---    ┆ ---        │\n",
       "│ f64   ┆ f64    ┆ f64        │\n",
       "╞═══════╪════════╪════════════╡\n",
       "│ 348.0 ┆ 348.0  ┆ 121104.0   │\n",
       "└───────┴────────┴────────────┘"
      ]
     },
     "execution_count": 4,
     "metadata": {},
     "output_type": "execute_result"
    }
   ],
   "source": [
    "df.select(pl.median(\"Width\", \"Height\", \"Resolution\"))"
   ]
  },
  {
   "cell_type": "code",
   "execution_count": 5,
   "metadata": {},
   "outputs": [
    {
     "data": {
      "text/html": [
       "<div><style>\n",
       ".dataframe > thead > tr,\n",
       ".dataframe > tbody > tr {\n",
       "  text-align: right;\n",
       "  white-space: pre-wrap;\n",
       "}\n",
       "</style>\n",
       "<small>shape: (1, 3)</small><table border=\"1\" class=\"dataframe\"><thead><tr><th>Width</th><th>Height</th><th>Resolution</th></tr><tr><td>f64</td><td>f64</td><td>f64</td></tr></thead><tbody><tr><td>348.74697</td><td>353.536364</td><td>123290.6</td></tr></tbody></table></div>"
      ],
      "text/plain": [
       "shape: (1, 3)\n",
       "┌───────────┬────────────┬────────────┐\n",
       "│ Width     ┆ Height     ┆ Resolution │\n",
       "│ ---       ┆ ---        ┆ ---        │\n",
       "│ f64       ┆ f64        ┆ f64        │\n",
       "╞═══════════╪════════════╪════════════╡\n",
       "│ 348.74697 ┆ 353.536364 ┆ 123290.6   │\n",
       "└───────────┴────────────┴────────────┘"
      ]
     },
     "execution_count": 5,
     "metadata": {},
     "output_type": "execute_result"
    }
   ],
   "source": [
    "df.select(pl.mean(\"Width\", \"Height\", \"Resolution\"))"
   ]
  },
  {
   "cell_type": "code",
   "execution_count": 11,
   "metadata": {},
   "outputs": [
    {
     "name": "stdout",
     "output_type": "stream",
     "text": [
      "Total Number of Images: 2640\n"
     ]
    }
   ],
   "source": [
    "print(f\"Total Number of Images: {df.height}\")"
   ]
  },
  {
   "cell_type": "code",
   "execution_count": null,
   "metadata": {},
   "outputs": [
    {
     "data": {
      "text/html": [
       "<div><style>\n",
       ".dataframe > thead > tr,\n",
       ".dataframe > tbody > tr {\n",
       "  text-align: right;\n",
       "  white-space: pre-wrap;\n",
       "}\n",
       "</style>\n",
       "<small>shape: (81, 2)</small><table border=\"1\" class=\"dataframe\"><thead><tr><th>Class Name (str)</th><th>len</th></tr><tr><td>str</td><td>u32</td></tr></thead><tbody><tr><td>&quot;Alpro-Blueberry-Soyghurt&quot;</td><td>28</td></tr><tr><td>&quot;Alpro-Fresh-Soy-Milk&quot;</td><td>30</td></tr><tr><td>&quot;Alpro-Shelf-Soy-Milk&quot;</td><td>30</td></tr><tr><td>&quot;Alpro-Vanilla-Soyghurt&quot;</td><td>23</td></tr><tr><td>&quot;Anjou&quot;</td><td>41</td></tr><tr><td>&quot;Arla-Ecological-Medium-Fat-Milk&quot;</td><td>29</td></tr><tr><td>&quot;Arla-Ecological-Sour-Cream&quot;</td><td>29</td></tr><tr><td>&quot;Arla-Lactose-Medium-Fat-Milk&quot;</td><td>26</td></tr><tr><td>&quot;Arla-Medium-Fat-Milk&quot;</td><td>34</td></tr><tr><td>&quot;Arla-Mild-Vanilla-Yoghurt&quot;</td><td>29</td></tr><tr><td>&quot;Arla-Natural-Mild-Low-Fat-Yoghurt&quot;</td><td>26</td></tr><tr><td>&quot;Arla-Natural-Yoghurt&quot;</td><td>42</td></tr><tr><td>&quot;Arla-Sour-Cream&quot;</td><td>19</td></tr><tr><td>&quot;Arla-Sour-Milk&quot;</td><td>30</td></tr><tr><td>&quot;Arla-Standard-Milk&quot;</td><td>30</td></tr><tr><td>&quot;Asparagus&quot;</td><td>16</td></tr><tr><td>&quot;Aubergine&quot;</td><td>22</td></tr><tr><td>&quot;Avocado&quot;</td><td>41</td></tr><tr><td>&quot;Banana&quot;</td><td>45</td></tr><tr><td>&quot;Beef-Tomato&quot;</td><td>34</td></tr><tr><td>&quot;Bravo-Apple-Juice&quot;</td><td>25</td></tr><tr><td>&quot;Bravo-Orange-Juice&quot;</td><td>32</td></tr><tr><td>&quot;Brown-Cap-Mushroom&quot;</td><td>39</td></tr><tr><td>&quot;Cabbage&quot;</td><td>19</td></tr><tr><td>&quot;Cantaloupe&quot;</td><td>39</td></tr><tr><td>&quot;Carrots&quot;</td><td>43</td></tr><tr><td>&quot;Conference&quot;</td><td>45</td></tr><tr><td>&quot;Cucumber&quot;</td><td>28</td></tr><tr><td>&quot;Floury-Potato&quot;</td><td>18</td></tr><tr><td>&quot;Galia-Melon&quot;</td><td>33</td></tr><tr><td>&quot;Garant-Ecological-Medium-Fat-Milk&quot;</td><td>35</td></tr><tr><td>&quot;Garant-Ecological-Standard-Milk&quot;</td><td>28</td></tr><tr><td>&quot;Garlic&quot;</td><td>25</td></tr><tr><td>&quot;Ginger&quot;</td><td>19</td></tr><tr><td>&quot;God-Morgon-Apple-Juice&quot;</td><td>19</td></tr><tr><td>&quot;God-Morgon-Orange-Juice&quot;</td><td>23</td></tr><tr><td>&quot;God-Morgon-Orange-Red-Grapefruit-Juice&quot;</td><td>20</td></tr><tr><td>&quot;God-Morgon-Red-Grapefruit-Juice&quot;</td><td>26</td></tr><tr><td>&quot;Golden-Delicious&quot;</td><td>45</td></tr><tr><td>&quot;Granny-Smith&quot;</td><td>59</td></tr><tr><td>&quot;Green-Bell-Pepper&quot;</td><td>26</td></tr><tr><td>&quot;Honeydew-Melon&quot;</td><td>36</td></tr><tr><td>&quot;Kaiser&quot;</td><td>30</td></tr><tr><td>&quot;Kiwi&quot;</td><td>46</td></tr><tr><td>&quot;Leek&quot;</td><td>23</td></tr><tr><td>&quot;Lemon&quot;</td><td>42</td></tr><tr><td>&quot;Lime&quot;</td><td>31</td></tr><tr><td>&quot;Mango&quot;</td><td>32</td></tr><tr><td>&quot;Nectarine&quot;</td><td>36</td></tr><tr><td>&quot;Oatly-Natural-Oatghurt&quot;</td><td>33</td></tr><tr><td>&quot;Oatly-Oat-Milk&quot;</td><td>32</td></tr><tr><td>&quot;Orange&quot;</td><td>57</td></tr><tr><td>&quot;Orange-Bell-Pepper&quot;</td><td>26</td></tr><tr><td>&quot;Papaya&quot;</td><td>21</td></tr><tr><td>&quot;Passion-Fruit&quot;</td><td>28</td></tr><tr><td>&quot;Peach&quot;</td><td>37</td></tr><tr><td>&quot;Pineapple&quot;</td><td>26</td></tr><tr><td>&quot;Pink-Lady&quot;</td><td>59</td></tr><tr><td>&quot;Plum&quot;</td><td>22</td></tr><tr><td>&quot;Pomegranate&quot;</td><td>26</td></tr><tr><td>&quot;Red-Beet&quot;</td><td>18</td></tr><tr><td>&quot;Red-Bell-Pepper&quot;</td><td>34</td></tr><tr><td>&quot;Red-Delicious&quot;</td><td>50</td></tr><tr><td>&quot;Red-Grapefruit&quot;</td><td>34</td></tr><tr><td>&quot;Regular-Tomato&quot;</td><td>50</td></tr><tr><td>&quot;Royal-Gala&quot;</td><td>65</td></tr><tr><td>&quot;Satsumas&quot;</td><td>70</td></tr><tr><td>&quot;Solid-Potato&quot;</td><td>28</td></tr><tr><td>&quot;Sweet-Potato&quot;</td><td>29</td></tr><tr><td>&quot;Tropicana-Apple-Juice&quot;</td><td>31</td></tr><tr><td>&quot;Tropicana-Golden-Grapefruit&quot;</td><td>25</td></tr><tr><td>&quot;Tropicana-Juice-Smooth&quot;</td><td>26</td></tr><tr><td>&quot;Tropicana-Mandarin-Morning&quot;</td><td>20</td></tr><tr><td>&quot;Valio-Vanilla-Yoghurt&quot;</td><td>32</td></tr><tr><td>&quot;Vine-Tomato&quot;</td><td>43</td></tr><tr><td>&quot;Watermelon&quot;</td><td>46</td></tr><tr><td>&quot;Yellow-Bell-Pepper&quot;</td><td>26</td></tr><tr><td>&quot;Yellow-Onion&quot;</td><td>38</td></tr><tr><td>&quot;Yoggi-Strawberry-Yoghurt&quot;</td><td>32</td></tr><tr><td>&quot;Yoggi-Vanilla-Yoghurt&quot;</td><td>20</td></tr><tr><td>&quot;Zucchini&quot;</td><td>30</td></tr></tbody></table></div>"
      ],
      "text/plain": [
       "shape: (81, 2)\n",
       "┌────────────────────────────────────────┬─────┐\n",
       "│ Class Name (str)                       ┆ len │\n",
       "│ ---                                    ┆ --- │\n",
       "│ str                                    ┆ u32 │\n",
       "╞════════════════════════════════════════╪═════╡\n",
       "│ Alpro-Blueberry-Soyghurt               ┆ 28  │\n",
       "│ Alpro-Fresh-Soy-Milk                   ┆ 30  │\n",
       "│ Alpro-Shelf-Soy-Milk                   ┆ 30  │\n",
       "│ Alpro-Vanilla-Soyghurt                 ┆ 23  │\n",
       "│ Anjou                                  ┆ 41  │\n",
       "│ Arla-Ecological-Medium-Fat-Milk        ┆ 29  │\n",
       "│ Arla-Ecological-Sour-Cream             ┆ 29  │\n",
       "│ Arla-Lactose-Medium-Fat-Milk           ┆ 26  │\n",
       "│ Arla-Medium-Fat-Milk                   ┆ 34  │\n",
       "│ Arla-Mild-Vanilla-Yoghurt              ┆ 29  │\n",
       "│ Arla-Natural-Mild-Low-Fat-Yoghurt      ┆ 26  │\n",
       "│ Arla-Natural-Yoghurt                   ┆ 42  │\n",
       "│ Arla-Sour-Cream                        ┆ 19  │\n",
       "│ Arla-Sour-Milk                         ┆ 30  │\n",
       "│ Arla-Standard-Milk                     ┆ 30  │\n",
       "│ Asparagus                              ┆ 16  │\n",
       "│ Aubergine                              ┆ 22  │\n",
       "│ Avocado                                ┆ 41  │\n",
       "│ Banana                                 ┆ 45  │\n",
       "│ Beef-Tomato                            ┆ 34  │\n",
       "│ Bravo-Apple-Juice                      ┆ 25  │\n",
       "│ Bravo-Orange-Juice                     ┆ 32  │\n",
       "│ Brown-Cap-Mushroom                     ┆ 39  │\n",
       "│ Cabbage                                ┆ 19  │\n",
       "│ Cantaloupe                             ┆ 39  │\n",
       "│ Carrots                                ┆ 43  │\n",
       "│ Conference                             ┆ 45  │\n",
       "│ Cucumber                               ┆ 28  │\n",
       "│ Floury-Potato                          ┆ 18  │\n",
       "│ Galia-Melon                            ┆ 33  │\n",
       "│ Garant-Ecological-Medium-Fat-Milk      ┆ 35  │\n",
       "│ Garant-Ecological-Standard-Milk        ┆ 28  │\n",
       "│ Garlic                                 ┆ 25  │\n",
       "│ Ginger                                 ┆ 19  │\n",
       "│ God-Morgon-Apple-Juice                 ┆ 19  │\n",
       "│ God-Morgon-Orange-Juice                ┆ 23  │\n",
       "│ God-Morgon-Orange-Red-Grapefruit-Juice ┆ 20  │\n",
       "│ God-Morgon-Red-Grapefruit-Juice        ┆ 26  │\n",
       "│ Golden-Delicious                       ┆ 45  │\n",
       "│ Granny-Smith                           ┆ 59  │\n",
       "│ Green-Bell-Pepper                      ┆ 26  │\n",
       "│ Honeydew-Melon                         ┆ 36  │\n",
       "│ Kaiser                                 ┆ 30  │\n",
       "│ Kiwi                                   ┆ 46  │\n",
       "│ Leek                                   ┆ 23  │\n",
       "│ Lemon                                  ┆ 42  │\n",
       "│ Lime                                   ┆ 31  │\n",
       "│ Mango                                  ┆ 32  │\n",
       "│ Nectarine                              ┆ 36  │\n",
       "│ Oatly-Natural-Oatghurt                 ┆ 33  │\n",
       "│ Oatly-Oat-Milk                         ┆ 32  │\n",
       "│ Orange                                 ┆ 57  │\n",
       "│ Orange-Bell-Pepper                     ┆ 26  │\n",
       "│ Papaya                                 ┆ 21  │\n",
       "│ Passion-Fruit                          ┆ 28  │\n",
       "│ Peach                                  ┆ 37  │\n",
       "│ Pineapple                              ┆ 26  │\n",
       "│ Pink-Lady                              ┆ 59  │\n",
       "│ Plum                                   ┆ 22  │\n",
       "│ Pomegranate                            ┆ 26  │\n",
       "│ Red-Beet                               ┆ 18  │\n",
       "│ Red-Bell-Pepper                        ┆ 34  │\n",
       "│ Red-Delicious                          ┆ 50  │\n",
       "│ Red-Grapefruit                         ┆ 34  │\n",
       "│ Regular-Tomato                         ┆ 50  │\n",
       "│ Royal-Gala                             ┆ 65  │\n",
       "│ Satsumas                               ┆ 70  │\n",
       "│ Solid-Potato                           ┆ 28  │\n",
       "│ Sweet-Potato                           ┆ 29  │\n",
       "│ Tropicana-Apple-Juice                  ┆ 31  │\n",
       "│ Tropicana-Golden-Grapefruit            ┆ 25  │\n",
       "│ Tropicana-Juice-Smooth                 ┆ 26  │\n",
       "│ Tropicana-Mandarin-Morning             ┆ 20  │\n",
       "│ Valio-Vanilla-Yoghurt                  ┆ 32  │\n",
       "│ Vine-Tomato                            ┆ 43  │\n",
       "│ Watermelon                             ┆ 46  │\n",
       "│ Yellow-Bell-Pepper                     ┆ 26  │\n",
       "│ Yellow-Onion                           ┆ 38  │\n",
       "│ Yoggi-Strawberry-Yoghurt               ┆ 32  │\n",
       "│ Yoggi-Vanilla-Yoghurt                  ┆ 20  │\n",
       "│ Zucchini                               ┆ 30  │\n",
       "└────────────────────────────────────────┴─────┘"
      ]
     },
     "execution_count": 22,
     "metadata": {},
     "output_type": "execute_result"
    }
   ],
   "source": [
    "df.group_by(\"Class Name (str)\").len().sort(\"Class Name (str)\")"
   ]
  }
 ],
 "metadata": {
  "kernelspec": {
   "display_name": "281-venv",
   "language": "python",
   "name": "python3"
  },
  "language_info": {
   "codemirror_mode": {
    "name": "ipython",
    "version": 3
   },
   "file_extension": ".py",
   "mimetype": "text/x-python",
   "name": "python",
   "nbconvert_exporter": "python",
   "pygments_lexer": "ipython3",
   "version": "3.11.7"
  }
 },
 "nbformat": 4,
 "nbformat_minor": 2
}
