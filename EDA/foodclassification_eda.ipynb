{
 "cells": [
  {
   "cell_type": "markdown",
   "metadata": {},
   "source": [
    "https://www.kaggle.com/datasets/bjoernjostein/food-classification"
   ]
  },
  {
   "cell_type": "code",
   "execution_count": 1,
   "metadata": {},
   "outputs": [],
   "source": [
    "import logging\n",
    "from pathlib import Path\n",
    "\n",
    "import numpy as np\n",
    "import polars as pl"
   ]
  },
  {
   "cell_type": "code",
   "execution_count": 2,
   "metadata": {},
   "outputs": [
    {
     "data": {
      "text/plain": [
       "polars.config.Config"
      ]
     },
     "execution_count": 2,
     "metadata": {},
     "output_type": "execute_result"
    }
   ],
   "source": [
    "cfg = pl.Config()\n",
    "cfg.set_tbl_rows(2000)\n",
    "cfg.set_tbl_width_chars(200)\n",
    "cfg.set_fmt_str_lengths(200)"
   ]
  },
  {
   "cell_type": "code",
   "execution_count": 3,
   "metadata": {},
   "outputs": [],
   "source": [
    "parquet_path = Path(\"foodclassification.parquet\")\n",
    "if parquet_path.exists():\n",
    "    df = pl.read_parquet(parquet_path, memory_map=True)\n",
    "else:\n",
    "    logging.error(f\"File {parquet_path} does not exist\")"
   ]
  },
  {
   "cell_type": "code",
   "execution_count": 4,
   "metadata": {},
   "outputs": [
    {
     "data": {
      "text/html": [
       "<div><style>\n",
       ".dataframe > thead > tr,\n",
       ".dataframe > tbody > tr {\n",
       "  text-align: right;\n",
       "  white-space: pre-wrap;\n",
       "}\n",
       "</style>\n",
       "<small>shape: (1, 3)</small><table border=\"1\" class=\"dataframe\"><thead><tr><th>Width</th><th>Height</th><th>Resolution</th></tr><tr><td>f64</td><td>f64</td><td>f64</td></tr></thead><tbody><tr><td>480.0</td><td>479.0</td><td>229920.0</td></tr></tbody></table></div>"
      ],
      "text/plain": [
       "shape: (1, 3)\n",
       "┌───────┬────────┬────────────┐\n",
       "│ Width ┆ Height ┆ Resolution │\n",
       "│ ---   ┆ ---    ┆ ---        │\n",
       "│ f64   ┆ f64    ┆ f64        │\n",
       "╞═══════╪════════╪════════════╡\n",
       "│ 480.0 ┆ 479.0  ┆ 229920.0   │\n",
       "└───────┴────────┴────────────┘"
      ]
     },
     "execution_count": 4,
     "metadata": {},
     "output_type": "execute_result"
    }
   ],
   "source": [
    "df.select(pl.median(\"Width\", \"Height\", \"Resolution\"))"
   ]
  },
  {
   "cell_type": "code",
   "execution_count": 5,
   "metadata": {},
   "outputs": [
    {
     "data": {
      "text/html": [
       "<div><style>\n",
       ".dataframe > thead > tr,\n",
       ".dataframe > tbody > tr {\n",
       "  text-align: right;\n",
       "  white-space: pre-wrap;\n",
       "}\n",
       "</style>\n",
       "<small>shape: (1, 3)</small><table border=\"1\" class=\"dataframe\"><thead><tr><th>Width</th><th>Height</th><th>Resolution</th></tr><tr><td>f64</td><td>f64</td><td>f64</td></tr></thead><tbody><tr><td>560.381851</td><td>549.022632</td><td>395208.533412</td></tr></tbody></table></div>"
      ],
      "text/plain": [
       "shape: (1, 3)\n",
       "┌────────────┬────────────┬───────────────┐\n",
       "│ Width      ┆ Height     ┆ Resolution    │\n",
       "│ ---        ┆ ---        ┆ ---           │\n",
       "│ f64        ┆ f64        ┆ f64           │\n",
       "╞════════════╪════════════╪═══════════════╡\n",
       "│ 560.381851 ┆ 549.022632 ┆ 395208.533412 │\n",
       "└────────────┴────────────┴───────────────┘"
      ]
     },
     "execution_count": 5,
     "metadata": {},
     "output_type": "execute_result"
    }
   ],
   "source": [
    "df.select(pl.mean(\"Width\", \"Height\", \"Resolution\"))"
   ]
  },
  {
   "cell_type": "code",
   "execution_count": 6,
   "metadata": {},
   "outputs": [
    {
     "name": "stdout",
     "output_type": "stream",
     "text": [
      "Total Number of Images: 9323\n"
     ]
    }
   ],
   "source": [
    "print(f\"Total Number of Images: {df.height}\")"
   ]
  },
  {
   "cell_type": "code",
   "execution_count": 7,
   "metadata": {},
   "outputs": [
    {
     "data": {
      "text/html": [
       "<div><style>\n",
       ".dataframe > thead > tr,\n",
       ".dataframe > tbody > tr {\n",
       "  text-align: right;\n",
       "  white-space: pre-wrap;\n",
       "}\n",
       "</style>\n",
       "<small>shape: (61, 2)</small><table border=\"1\" class=\"dataframe\"><thead><tr><th>ClassId</th><th>len</th></tr><tr><td>str</td><td>u32</td></tr></thead><tbody><tr><td>&quot;soft-cheese&quot;</td><td>48</td></tr><tr><td>&quot;strawberries&quot;</td><td>87</td></tr><tr><td>&quot;broccoli&quot;</td><td>84</td></tr><tr><td>&quot;salami&quot;</td><td>49</td></tr><tr><td>&quot;chicken&quot;</td><td>106</td></tr><tr><td>&quot;bread-white&quot;</td><td>595</td></tr><tr><td>&quot;pasta-spaghetti&quot;</td><td>97</td></tr><tr><td>&quot;sauce-savoury&quot;</td><td>61</td></tr><tr><td>&quot;hard-cheese&quot;</td><td>112</td></tr><tr><td>&quot;zucchini&quot;</td><td>90</td></tr><tr><td>&quot;mandarine&quot;</td><td>69</td></tr><tr><td>&quot;water-mineral&quot;</td><td>86</td></tr><tr><td>&quot;beer&quot;</td><td>80</td></tr><tr><td>&quot;mixed-vegetables&quot;</td><td>237</td></tr><tr><td>&quot;ham-raw&quot;</td><td>66</td></tr><tr><td>&quot;tea&quot;</td><td>177</td></tr><tr><td>&quot;mixed-nuts&quot;</td><td>81</td></tr><tr><td>&quot;cucumber&quot;</td><td>107</td></tr><tr><td>&quot;french-beans&quot;</td><td>75</td></tr><tr><td>&quot;bread-sourdough&quot;</td><td>63</td></tr><tr><td>&quot;butter&quot;</td><td>346</td></tr><tr><td>&quot;water&quot;</td><td>863</td></tr><tr><td>&quot;jam&quot;</td><td>163</td></tr><tr><td>&quot;leaf-spinach&quot;</td><td>87</td></tr><tr><td>&quot;wine-white&quot;</td><td>151</td></tr><tr><td>&quot;wine-red&quot;</td><td>241</td></tr><tr><td>&quot;potatoes-steamed&quot;</td><td>156</td></tr><tr><td>&quot;tea-green&quot;</td><td>69</td></tr><tr><td>&quot;bread-french-white-flour&quot;</td><td>61</td></tr><tr><td>&quot;mixed-salad-chopped-without-sauce&quot;</td><td>169</td></tr><tr><td>&quot;carrot&quot;</td><td>297</td></tr><tr><td>&quot;sweet-pepper&quot;</td><td>84</td></tr><tr><td>&quot;banana&quot;</td><td>181</td></tr><tr><td>&quot;bread-wholemeal&quot;</td><td>398</td></tr><tr><td>&quot;almonds&quot;</td><td>69</td></tr><tr><td>&quot;tomato&quot;</td><td>358</td></tr><tr><td>&quot;parmesan&quot;</td><td>68</td></tr><tr><td>&quot;salad-leaf-salad-green&quot;</td><td>535</td></tr><tr><td>&quot;egg&quot;</td><td>209</td></tr><tr><td>&quot;rice&quot;</td><td>256</td></tr><tr><td>&quot;boisson-au-glucose-50g&quot;</td><td>85</td></tr><tr><td>&quot;salmon&quot;</td><td>51</td></tr><tr><td>&quot;white-coffee-with-caffeine&quot;</td><td>122</td></tr><tr><td>&quot;espresso-with-caffeine&quot;</td><td>195</td></tr><tr><td>&quot;avocado&quot;</td><td>88</td></tr><tr><td>&quot;honey&quot;</td><td>65</td></tr><tr><td>&quot;pickle&quot;</td><td>28</td></tr><tr><td>&quot;biscuits&quot;</td><td>68</td></tr><tr><td>&quot;dark-chocolate&quot;</td><td>88</td></tr><tr><td>&quot;gruyere&quot;</td><td>71</td></tr><tr><td>&quot;cheese&quot;</td><td>137</td></tr><tr><td>&quot;apple&quot;</td><td>191</td></tr><tr><td>&quot;croissant&quot;</td><td>75</td></tr><tr><td>&quot;tomato-sauce&quot;</td><td>110</td></tr><tr><td>&quot;chips-french-fries&quot;</td><td>136</td></tr><tr><td>&quot;bread-whole-wheat&quot;</td><td>74</td></tr><tr><td>&quot;mayonnaise&quot;</td><td>43</td></tr><tr><td>&quot;pizza-margherita-baked&quot;</td><td>110</td></tr><tr><td>&quot;corn&quot;</td><td>37</td></tr><tr><td>&quot;onion&quot;</td><td>41</td></tr><tr><td>&quot;coffee-with-caffeine&quot;</td><td>377</td></tr></tbody></table></div>"
      ],
      "text/plain": [
       "shape: (61, 2)\n",
       "┌───────────────────────────────────┬─────┐\n",
       "│ ClassId                           ┆ len │\n",
       "│ ---                               ┆ --- │\n",
       "│ str                               ┆ u32 │\n",
       "╞═══════════════════════════════════╪═════╡\n",
       "│ soft-cheese                       ┆ 48  │\n",
       "│ strawberries                      ┆ 87  │\n",
       "│ broccoli                          ┆ 84  │\n",
       "│ salami                            ┆ 49  │\n",
       "│ chicken                           ┆ 106 │\n",
       "│ bread-white                       ┆ 595 │\n",
       "│ pasta-spaghetti                   ┆ 97  │\n",
       "│ sauce-savoury                     ┆ 61  │\n",
       "│ hard-cheese                       ┆ 112 │\n",
       "│ zucchini                          ┆ 90  │\n",
       "│ mandarine                         ┆ 69  │\n",
       "│ water-mineral                     ┆ 86  │\n",
       "│ beer                              ┆ 80  │\n",
       "│ mixed-vegetables                  ┆ 237 │\n",
       "│ ham-raw                           ┆ 66  │\n",
       "│ tea                               ┆ 177 │\n",
       "│ mixed-nuts                        ┆ 81  │\n",
       "│ cucumber                          ┆ 107 │\n",
       "│ french-beans                      ┆ 75  │\n",
       "│ bread-sourdough                   ┆ 63  │\n",
       "│ butter                            ┆ 346 │\n",
       "│ water                             ┆ 863 │\n",
       "│ jam                               ┆ 163 │\n",
       "│ leaf-spinach                      ┆ 87  │\n",
       "│ wine-white                        ┆ 151 │\n",
       "│ wine-red                          ┆ 241 │\n",
       "│ potatoes-steamed                  ┆ 156 │\n",
       "│ tea-green                         ┆ 69  │\n",
       "│ bread-french-white-flour          ┆ 61  │\n",
       "│ mixed-salad-chopped-without-sauce ┆ 169 │\n",
       "│ carrot                            ┆ 297 │\n",
       "│ sweet-pepper                      ┆ 84  │\n",
       "│ banana                            ┆ 181 │\n",
       "│ bread-wholemeal                   ┆ 398 │\n",
       "│ almonds                           ┆ 69  │\n",
       "│ tomato                            ┆ 358 │\n",
       "│ parmesan                          ┆ 68  │\n",
       "│ salad-leaf-salad-green            ┆ 535 │\n",
       "│ egg                               ┆ 209 │\n",
       "│ rice                              ┆ 256 │\n",
       "│ boisson-au-glucose-50g            ┆ 85  │\n",
       "│ salmon                            ┆ 51  │\n",
       "│ white-coffee-with-caffeine        ┆ 122 │\n",
       "│ espresso-with-caffeine            ┆ 195 │\n",
       "│ avocado                           ┆ 88  │\n",
       "│ honey                             ┆ 65  │\n",
       "│ pickle                            ┆ 28  │\n",
       "│ biscuits                          ┆ 68  │\n",
       "│ dark-chocolate                    ┆ 88  │\n",
       "│ gruyere                           ┆ 71  │\n",
       "│ cheese                            ┆ 137 │\n",
       "│ apple                             ┆ 191 │\n",
       "│ croissant                         ┆ 75  │\n",
       "│ tomato-sauce                      ┆ 110 │\n",
       "│ chips-french-fries                ┆ 136 │\n",
       "│ bread-whole-wheat                 ┆ 74  │\n",
       "│ mayonnaise                        ┆ 43  │\n",
       "│ pizza-margherita-baked            ┆ 110 │\n",
       "│ corn                              ┆ 37  │\n",
       "│ onion                             ┆ 41  │\n",
       "│ coffee-with-caffeine              ┆ 377 │\n",
       "└───────────────────────────────────┴─────┘"
      ]
     },
     "execution_count": 7,
     "metadata": {},
     "output_type": "execute_result"
    }
   ],
   "source": [
    "df.group_by(\"ClassId\").len()"
   ]
  }
 ],
 "metadata": {
  "kernelspec": {
   "display_name": "281-venv",
   "language": "python",
   "name": "python3"
  },
  "language_info": {
   "codemirror_mode": {
    "name": "ipython",
    "version": 3
   },
   "file_extension": ".py",
   "mimetype": "text/x-python",
   "name": "python",
   "nbconvert_exporter": "python",
   "pygments_lexer": "ipython3",
   "version": "3.11.7"
  }
 },
 "nbformat": 4,
 "nbformat_minor": 2
}
