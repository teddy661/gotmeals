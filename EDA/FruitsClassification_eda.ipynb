{
 "cells": [
  {
   "cell_type": "markdown",
   "metadata": {},
   "source": [
    "https://www.kaggle.com/datasets/utkarshsaxenadn/fruits-classification"
   ]
  },
  {
   "cell_type": "code",
   "execution_count": 2,
   "metadata": {},
   "outputs": [],
   "source": [
    "import logging\n",
    "from pathlib import Path\n",
    "\n",
    "import numpy as np\n",
    "import polars as pl\n",
    "\n",
    "from utils import ProjectConfig"
   ]
  },
  {
   "cell_type": "code",
   "execution_count": 2,
   "metadata": {},
   "outputs": [
    {
     "data": {
      "text/plain": [
       "polars.config.Config"
      ]
     },
     "execution_count": 2,
     "metadata": {},
     "output_type": "execute_result"
    }
   ],
   "source": [
    "cfg = pl.Config()\n",
    "cfg.set_tbl_rows(2000)\n",
    "cfg.set_tbl_width_chars(200)\n",
    "cfg.set_fmt_str_lengths(200)"
   ]
  },
  {
   "cell_type": "code",
   "execution_count": 4,
   "metadata": {},
   "outputs": [],
   "source": [
    "pc = ProjectConfig()\n",
    "parquet_path = pc.data_root_dir.joinpath(\"FruitsClassification.parquet\")\n",
    "if parquet_path.exists():\n",
    "    df = pl.read_parquet(parquet_path, memory_map=True)\n",
    "else:\n",
    "    logging.error(f\"File {parquet_path} does not exist\")"
   ]
  },
  {
   "cell_type": "code",
   "execution_count": 5,
   "metadata": {},
   "outputs": [
    {
     "data": {
      "text/html": [
       "<div><style>\n",
       ".dataframe > thead > tr,\n",
       ".dataframe > tbody > tr {\n",
       "  text-align: right;\n",
       "  white-space: pre-wrap;\n",
       "}\n",
       "</style>\n",
       "<small>shape: (1, 3)</small><table border=\"1\" class=\"dataframe\"><thead><tr><th>Width</th><th>Height</th><th>Resolution</th></tr><tr><td>f64</td><td>f64</td><td>f64</td></tr></thead><tbody><tr><td>253.0</td><td>189.0</td><td>50325.0</td></tr></tbody></table></div>"
      ],
      "text/plain": [
       "shape: (1, 3)\n",
       "┌───────┬────────┬────────────┐\n",
       "│ Width ┆ Height ┆ Resolution │\n",
       "│ ---   ┆ ---    ┆ ---        │\n",
       "│ f64   ┆ f64    ┆ f64        │\n",
       "╞═══════╪════════╪════════════╡\n",
       "│ 253.0 ┆ 189.0  ┆ 50325.0    │\n",
       "└───────┴────────┴────────────┘"
      ]
     },
     "execution_count": 5,
     "metadata": {},
     "output_type": "execute_result"
    }
   ],
   "source": [
    "df.select(pl.median(\"Width\", \"Height\", \"Resolution\"))"
   ]
  },
  {
   "cell_type": "code",
   "execution_count": 6,
   "metadata": {},
   "outputs": [
    {
     "data": {
      "text/html": [
       "<div><style>\n",
       ".dataframe > thead > tr,\n",
       ".dataframe > tbody > tr {\n",
       "  text-align: right;\n",
       "  white-space: pre-wrap;\n",
       "}\n",
       "</style>\n",
       "<small>shape: (1, 3)</small><table border=\"1\" class=\"dataframe\"><thead><tr><th>Width</th><th>Height</th><th>Resolution</th></tr><tr><td>f64</td><td>f64</td><td>f64</td></tr></thead><tbody><tr><td>233.344124</td><td>193.175155</td><td>45389.702784</td></tr></tbody></table></div>"
      ],
      "text/plain": [
       "shape: (1, 3)\n",
       "┌────────────┬────────────┬──────────────┐\n",
       "│ Width      ┆ Height     ┆ Resolution   │\n",
       "│ ---        ┆ ---        ┆ ---          │\n",
       "│ f64        ┆ f64        ┆ f64          │\n",
       "╞════════════╪════════════╪══════════════╡\n",
       "│ 233.344124 ┆ 193.175155 ┆ 45389.702784 │\n",
       "└────────────┴────────────┴──────────────┘"
      ]
     },
     "execution_count": 6,
     "metadata": {},
     "output_type": "execute_result"
    }
   ],
   "source": [
    "df.select(pl.mean(\"Width\", \"Height\", \"Resolution\"))"
   ]
  },
  {
   "cell_type": "code",
   "execution_count": 7,
   "metadata": {
    "notebookRunGroups": {
     "groupValue": "1"
    }
   },
   "outputs": [
    {
     "name": "stdout",
     "output_type": "stream",
     "text": [
      "Total Number of Images: 9700\n"
     ]
    }
   ],
   "source": [
    "print(f\"Total Number of Images: {df.height}\")"
   ]
  },
  {
   "cell_type": "code",
   "execution_count": 8,
   "metadata": {},
   "outputs": [
    {
     "data": {
      "text/html": [
       "<div><style>\n",
       ".dataframe > thead > tr,\n",
       ".dataframe > tbody > tr {\n",
       "  text-align: right;\n",
       "  white-space: pre-wrap;\n",
       "}\n",
       "</style>\n",
       "<small>shape: (5, 2)</small><table border=\"1\" class=\"dataframe\"><thead><tr><th>ClassId</th><th>len</th></tr><tr><td>str</td><td>u32</td></tr></thead><tbody><tr><td>&quot;Strawberry&quot;</td><td>1940</td></tr><tr><td>&quot;Mango&quot;</td><td>1940</td></tr><tr><td>&quot;Grape&quot;</td><td>1940</td></tr><tr><td>&quot;Banana&quot;</td><td>1940</td></tr><tr><td>&quot;Apple&quot;</td><td>1940</td></tr></tbody></table></div>"
      ],
      "text/plain": [
       "shape: (5, 2)\n",
       "┌────────────┬──────┐\n",
       "│ ClassId    ┆ len  │\n",
       "│ ---        ┆ ---  │\n",
       "│ str        ┆ u32  │\n",
       "╞════════════╪══════╡\n",
       "│ Strawberry ┆ 1940 │\n",
       "│ Mango      ┆ 1940 │\n",
       "│ Grape      ┆ 1940 │\n",
       "│ Banana     ┆ 1940 │\n",
       "│ Apple      ┆ 1940 │\n",
       "└────────────┴──────┘"
      ]
     },
     "execution_count": 8,
     "metadata": {},
     "output_type": "execute_result"
    }
   ],
   "source": [
    "df.group_by(\"ClassId\").len()"
   ]
  }
 ],
 "metadata": {
  "kernelspec": {
   "display_name": "281-venv",
   "language": "python",
   "name": "python3"
  },
  "language_info": {
   "codemirror_mode": {
    "name": "ipython",
    "version": 3
   },
   "file_extension": ".py",
   "mimetype": "text/x-python",
   "name": "python",
   "nbconvert_exporter": "python",
   "pygments_lexer": "ipython3",
   "version": "3.11.8"
  }
 },
 "nbformat": 4,
 "nbformat_minor": 2
}
