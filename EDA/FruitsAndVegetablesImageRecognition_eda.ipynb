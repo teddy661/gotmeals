{
 "cells": [
  {
   "cell_type": "markdown",
   "metadata": {},
   "source": [
    "https://www.kaggle.com/datasets/kritikseth/fruit-and-vegetable-image-recognition?resource=download"
   ]
  },
  {
   "cell_type": "code",
   "execution_count": 1,
   "metadata": {},
   "outputs": [],
   "source": [
    "import logging\n",
    "from pathlib import Path\n",
    "\n",
    "import numpy as np\n",
    "import polars as pl"
   ]
  },
  {
   "cell_type": "code",
   "execution_count": 2,
   "metadata": {},
   "outputs": [
    {
     "data": {
      "text/plain": [
       "polars.config.Config"
      ]
     },
     "execution_count": 2,
     "metadata": {},
     "output_type": "execute_result"
    }
   ],
   "source": [
    "cfg = pl.Config()\n",
    "cfg.set_tbl_rows(2000)\n",
    "cfg.set_tbl_width_chars(200)\n",
    "cfg.set_fmt_str_lengths(200)"
   ]
  },
  {
   "cell_type": "code",
   "execution_count": 3,
   "metadata": {},
   "outputs": [],
   "source": [
    "parquet_path = Path(\"FruitsAndVegetablesImageRecognitionDataset.parquet\")\n",
    "if parquet_path.exists():\n",
    "    df = pl.read_parquet(parquet_path, memory_map=True)\n",
    "else:\n",
    "    logging.error(f\"File {parquet_path} does not exist\")"
   ]
  },
  {
   "cell_type": "code",
   "execution_count": 4,
   "metadata": {},
   "outputs": [
    {
     "data": {
      "text/html": [
       "<div><style>\n",
       ".dataframe > thead > tr,\n",
       ".dataframe > tbody > tr {\n",
       "  text-align: right;\n",
       "  white-space: pre-wrap;\n",
       "}\n",
       "</style>\n",
       "<small>shape: (1, 3)</small><table border=\"1\" class=\"dataframe\"><thead><tr><th>Width</th><th>Height</th><th>Resolution</th></tr><tr><td>f64</td><td>f64</td><td>f64</td></tr></thead><tbody><tr><td>1024.0</td><td>900.0</td><td>931200.0</td></tr></tbody></table></div>"
      ],
      "text/plain": [
       "shape: (1, 3)\n",
       "┌────────┬────────┬────────────┐\n",
       "│ Width  ┆ Height ┆ Resolution │\n",
       "│ ---    ┆ ---    ┆ ---        │\n",
       "│ f64    ┆ f64    ┆ f64        │\n",
       "╞════════╪════════╪════════════╡\n",
       "│ 1024.0 ┆ 900.0  ┆ 931200.0   │\n",
       "└────────┴────────┴────────────┘"
      ]
     },
     "execution_count": 4,
     "metadata": {},
     "output_type": "execute_result"
    }
   ],
   "source": [
    "df.select(pl.median(\"Width\", \"Height\", \"Resolution\"))"
   ]
  },
  {
   "cell_type": "code",
   "execution_count": 5,
   "metadata": {},
   "outputs": [
    {
     "data": {
      "text/html": [
       "<div><style>\n",
       ".dataframe > thead > tr,\n",
       ".dataframe > tbody > tr {\n",
       "  text-align: right;\n",
       "  white-space: pre-wrap;\n",
       "}\n",
       "</style>\n",
       "<small>shape: (1, 3)</small><table border=\"1\" class=\"dataframe\"><thead><tr><th>Width</th><th>Height</th><th>Resolution</th></tr><tr><td>f64</td><td>f64</td><td>f64</td></tr></thead><tbody><tr><td>1298.304013</td><td>1081.7939</td><td>2.0699e6</td></tr></tbody></table></div>"
      ],
      "text/plain": [
       "shape: (1, 3)\n",
       "┌─────────────┬───────────┬────────────┐\n",
       "│ Width       ┆ Height    ┆ Resolution │\n",
       "│ ---         ┆ ---       ┆ ---        │\n",
       "│ f64         ┆ f64       ┆ f64        │\n",
       "╞═════════════╪═══════════╪════════════╡\n",
       "│ 1298.304013 ┆ 1081.7939 ┆ 2.0699e6   │\n",
       "└─────────────┴───────────┴────────────┘"
      ]
     },
     "execution_count": 5,
     "metadata": {},
     "output_type": "execute_result"
    }
   ],
   "source": [
    "df.select(pl.mean(\"Width\", \"Height\", \"Resolution\"))"
   ]
  },
  {
   "cell_type": "code",
   "execution_count": 6,
   "metadata": {},
   "outputs": [
    {
     "name": "stdout",
     "output_type": "stream",
     "text": [
      "Total Number of Images: 3115\n"
     ]
    }
   ],
   "source": [
    "print(f\"Total Number of Images: {df.height}\")"
   ]
  },
  {
   "cell_type": "code",
   "execution_count": 7,
   "metadata": {},
   "outputs": [
    {
     "data": {
      "text/html": [
       "<div><style>\n",
       ".dataframe > thead > tr,\n",
       ".dataframe > tbody > tr {\n",
       "  text-align: right;\n",
       "  white-space: pre-wrap;\n",
       "}\n",
       "</style>\n",
       "<small>shape: (36, 2)</small><table border=\"1\" class=\"dataframe\"><thead><tr><th>ClassId</th><th>len</th></tr><tr><td>str</td><td>u32</td></tr></thead><tbody><tr><td>&quot;ginger&quot;</td><td>68</td></tr><tr><td>&quot;pomegranate&quot;</td><td>79</td></tr><tr><td>&quot;beetroot&quot;</td><td>88</td></tr><tr><td>&quot;sweetpotato&quot;</td><td>69</td></tr><tr><td>&quot;banana&quot;</td><td>75</td></tr><tr><td>&quot;bell pepper&quot;</td><td>90</td></tr><tr><td>&quot;sweetcorn&quot;</td><td>91</td></tr><tr><td>&quot;raddish&quot;</td><td>81</td></tr><tr><td>&quot;grapes&quot;</td><td>100</td></tr><tr><td>&quot;turnip&quot;</td><td>98</td></tr><tr><td>&quot;kiwi&quot;</td><td>88</td></tr><tr><td>&quot;lemon&quot;</td><td>82</td></tr><tr><td>&quot;carrot&quot;</td><td>82</td></tr><tr><td>&quot;spinach&quot;</td><td>97</td></tr><tr><td>&quot;pear&quot;</td><td>89</td></tr><tr><td>&quot;watermelon&quot;</td><td>84</td></tr><tr><td>&quot;jalepeno&quot;</td><td>88</td></tr><tr><td>&quot;paprika&quot;</td><td>83</td></tr><tr><td>&quot;apple&quot;</td><td>68</td></tr><tr><td>&quot;garlic&quot;</td><td>92</td></tr><tr><td>&quot;soy beans&quot;</td><td>97</td></tr><tr><td>&quot;pineapple&quot;</td><td>99</td></tr><tr><td>&quot;mango&quot;</td><td>86</td></tr><tr><td>&quot;tomato&quot;</td><td>92</td></tr><tr><td>&quot;onion&quot;</td><td>94</td></tr><tr><td>&quot;orange&quot;</td><td>69</td></tr><tr><td>&quot;eggplant&quot;</td><td>84</td></tr><tr><td>&quot;cabbage&quot;</td><td>92</td></tr><tr><td>&quot;capsicum&quot;</td><td>89</td></tr><tr><td>&quot;corn&quot;</td><td>87</td></tr><tr><td>&quot;lettuce&quot;</td><td>97</td></tr><tr><td>&quot;potato&quot;</td><td>77</td></tr><tr><td>&quot;cucumber&quot;</td><td>94</td></tr><tr><td>&quot;cauliflower&quot;</td><td>79</td></tr><tr><td>&quot;peas&quot;</td><td>100</td></tr><tr><td>&quot;chilli pepper&quot;</td><td>87</td></tr></tbody></table></div>"
      ],
      "text/plain": [
       "shape: (36, 2)\n",
       "┌───────────────┬─────┐\n",
       "│ ClassId       ┆ len │\n",
       "│ ---           ┆ --- │\n",
       "│ str           ┆ u32 │\n",
       "╞═══════════════╪═════╡\n",
       "│ ginger        ┆ 68  │\n",
       "│ pomegranate   ┆ 79  │\n",
       "│ beetroot      ┆ 88  │\n",
       "│ sweetpotato   ┆ 69  │\n",
       "│ banana        ┆ 75  │\n",
       "│ bell pepper   ┆ 90  │\n",
       "│ sweetcorn     ┆ 91  │\n",
       "│ raddish       ┆ 81  │\n",
       "│ grapes        ┆ 100 │\n",
       "│ turnip        ┆ 98  │\n",
       "│ kiwi          ┆ 88  │\n",
       "│ lemon         ┆ 82  │\n",
       "│ carrot        ┆ 82  │\n",
       "│ spinach       ┆ 97  │\n",
       "│ pear          ┆ 89  │\n",
       "│ watermelon    ┆ 84  │\n",
       "│ jalepeno      ┆ 88  │\n",
       "│ paprika       ┆ 83  │\n",
       "│ apple         ┆ 68  │\n",
       "│ garlic        ┆ 92  │\n",
       "│ soy beans     ┆ 97  │\n",
       "│ pineapple     ┆ 99  │\n",
       "│ mango         ┆ 86  │\n",
       "│ tomato        ┆ 92  │\n",
       "│ onion         ┆ 94  │\n",
       "│ orange        ┆ 69  │\n",
       "│ eggplant      ┆ 84  │\n",
       "│ cabbage       ┆ 92  │\n",
       "│ capsicum      ┆ 89  │\n",
       "│ corn          ┆ 87  │\n",
       "│ lettuce       ┆ 97  │\n",
       "│ potato        ┆ 77  │\n",
       "│ cucumber      ┆ 94  │\n",
       "│ cauliflower   ┆ 79  │\n",
       "│ peas          ┆ 100 │\n",
       "│ chilli pepper ┆ 87  │\n",
       "└───────────────┴─────┘"
      ]
     },
     "execution_count": 7,
     "metadata": {},
     "output_type": "execute_result"
    }
   ],
   "source": [
    "df.group_by(\"ClassId\").len()"
   ]
  }
 ],
 "metadata": {
  "kernelspec": {
   "display_name": "281-venv",
   "language": "python",
   "name": "python3"
  },
  "language_info": {
   "codemirror_mode": {
    "name": "ipython",
    "version": 3
   },
   "file_extension": ".py",
   "mimetype": "text/x-python",
   "name": "python",
   "nbconvert_exporter": "python",
   "pygments_lexer": "ipython3",
   "version": "3.11.7"
  }
 },
 "nbformat": 4,
 "nbformat_minor": 2
}
