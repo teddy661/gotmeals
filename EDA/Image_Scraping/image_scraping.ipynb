{
 "cells": [
  {
   "cell_type": "code",
   "execution_count": 10,
   "metadata": {},
   "outputs": [],
   "source": [
    "import requests\n",
    "import os"
   ]
  },
  {
   "cell_type": "markdown",
   "metadata": {},
   "source": [
    "Testing Unsplash"
   ]
  },
  {
   "cell_type": "code",
   "execution_count": 6,
   "metadata": {},
   "outputs": [
    {
     "name": "stdout",
     "output_type": "stream",
     "text": [
      "\n",
      "Results for 'pizza':\n",
      "Photo by Ivan Torres on Unsplash\n",
      "URL: https://images.unsplash.com/photo-1513104890138-7c749659a591?crop=entropy&cs=tinysrgb&fit=max&fm=jpg&ixid=M3w1NjQ2OTF8MHwxfHNlYXJjaHwxfHxwaXp6YXxlbnwwfHx8fDE3MDczNzk0NTl8MA&ixlib=rb-4.0.3&q=80&w=1080\n",
      "Profile: https://unsplash.com/@iavnt?utm_source=your_app_name&utm_medium=referral\n",
      "Download tracked successfully.\n",
      "\n",
      "Results for 'strawberries':\n",
      "Photo by Anton Darius on Unsplash\n",
      "URL: https://images.unsplash.com/photo-1464965911861-746a04b4bca6?crop=entropy&cs=tinysrgb&fit=max&fm=jpg&ixid=M3w1NjQ2OTF8MHwxfHNlYXJjaHwxfHxzdHJhd2JlcnJpZXN8ZW58MHx8fHwxNzA3Mzc5NDU5fDA&ixlib=rb-4.0.3&q=80&w=1080\n",
      "Profile: https://unsplash.com/@thesollers?utm_source=your_app_name&utm_medium=referral\n",
      "Download tracked successfully.\n",
      "\n",
      "Results for 'salad':\n",
      "Photo by Anna Pelzer on Unsplash\n",
      "URL: https://images.unsplash.com/photo-1512621776951-a57141f2eefd?crop=entropy&cs=tinysrgb&fit=max&fm=jpg&ixid=M3w1NjQ2OTF8MHwxfHNlYXJjaHwxfHxzYWxhZHxlbnwwfHx8fDE3MDczNzk0NjB8MA&ixlib=rb-4.0.3&q=80&w=1080\n",
      "Profile: https://unsplash.com/@annapelzer?utm_source=your_app_name&utm_medium=referral\n",
      "Download tracked successfully.\n",
      "\n",
      "Results for 'sushi':\n",
      "Photo by Derek Duran on Unsplash\n",
      "URL: https://images.unsplash.com/photo-1579584425555-c3ce17fd4351?crop=entropy&cs=tinysrgb&fit=max&fm=jpg&ixid=M3w1NjQ2OTF8MHwxfHNlYXJjaHwxfHxzdXNoaXxlbnwwfHx8fDE3MDczNzk0NjB8MA&ixlib=rb-4.0.3&q=80&w=1080\n",
      "Profile: https://unsplash.com/@derekduran?utm_source=your_app_name&utm_medium=referral\n",
      "Download tracked successfully.\n"
     ]
    }
   ],
   "source": [
    "import requests\n",
    "\n",
    "# Replace with your actual Unsplash Access Key\n",
    "UNSPLASH_ACCESS_KEY = 'jpwL2jdPSHI_STSuEWtwOkVzISfB0cLWj-mor41qmJQ'\n",
    "\n",
    "def search_unsplash(query):\n",
    "    \"\"\"Search for photos on Unsplash.\"\"\"\n",
    "    url = f\"https://api.unsplash.com/search/photos?query={query}&client_id={UNSPLASH_ACCESS_KEY}\"\n",
    "    response = requests.get(url)\n",
    "    if response.status_code == 200:\n",
    "        return response.json()['results']\n",
    "    else:\n",
    "        print(f\"Failed to retrieve images for {query}\")\n",
    "        return []\n",
    "\n",
    "def print_image_details(photo, query):\n",
    "    \"\"\"Print details of a photo and track the download.\"\"\"\n",
    "    print(f\"\\nResults for '{query}':\")\n",
    "    if photo:\n",
    "        # Attributing and tracking a download for the photo\n",
    "        print(f\"Photo by {photo['user']['name']} on Unsplash\")\n",
    "        print(f\"URL: {photo['urls']['regular']}\")\n",
    "        print(f\"Profile: {photo['user']['links']['html']}?utm_source=your_app_name&utm_medium=referral\")\n",
    "        track_download(photo['links']['download_location'])\n",
    "    else:\n",
    "        print(\"No photos found.\")\n",
    "\n",
    "def track_download(download_location_url):\n",
    "    \"\"\"Track photo download as per Unsplash API guidelines.\"\"\"\n",
    "    download_url = f\"{download_location_url}?client_id={UNSPLASH_ACCESS_KEY}\"\n",
    "    response = requests.get(download_url)\n",
    "    if response.status_code == 200:\n",
    "        print(\"Download tracked successfully.\")\n",
    "    else:\n",
    "        print(\"Failed to track download.\")\n",
    "\n",
    "if __name__ == \"__main__\":\n",
    "    # List of food types to search\n",
    "    food_types = [\"pizza\", \"strawberries\", \"salad\", \"sushi\"]\n",
    "    \n",
    "    for food in food_types:\n",
    "        photos = search_unsplash(food)\n",
    "        if photos:\n",
    "            print_image_details(photos[0], food)\n",
    "        else:\n",
    "            print(f\"No results found for '{food}'.\")\n"
   ]
  },
  {
   "cell_type": "markdown",
   "metadata": {},
   "source": [
    "Saving scraped images to folder"
   ]
  },
  {
   "cell_type": "code",
   "execution_count": 13,
   "metadata": {},
   "outputs": [
    {
     "name": "stdout",
     "output_type": "stream",
     "text": [
      "Image downloaded successfully: /workspace/gotmeals/EDA/Image_Scraping/Scraped_images/photo-1513104890138-7c749659a591?crop=entropy&cs=tinysrgb&fit=max&fm=jpg&ixid=M3w1NjQ2OTF8MHwxfHNlYXJjaHwxfHxwaXp6YXxlbnwwfHx8fDE3MDczNzk0NTl8MA&ixlib=rb-4.0.3&q=80&w=1080\n",
      "Image downloaded successfully: /workspace/gotmeals/EDA/Image_Scraping/Scraped_images/photo-1513104890138-7c749659a591?crop=entropy&cs=tinysrgb&fit=max&fm=jpg&ixid=M3w1NjQ2OTF8MHwxfHNlYXJjaHwxfHxwaXp6YXxlbnwwfHx8fDE3MDczNzk0NTl8MA&ixlib=rb-4.0.3&q=80&w=1080\n",
      "Image downloaded successfully: /workspace/gotmeals/EDA/Image_Scraping/Scraped_images/photo-1512621776951-a57141f2eefd?crop=entropy&cs=tinysrgb&fit=max&fm=jpg&ixid=M3w1NjQ2OTF8MHwxfHNlYXJjaHwxfHxzYWxhZHxlbnwwfHx8fDE3MDczNzk0NjB8MA&ixlib=rb-4.0.3&q=80&w=1080\n",
      "Image downloaded successfully: /workspace/gotmeals/EDA/Image_Scraping/Scraped_images/photo-1579584425555-c3ce17fd4351?crop=entropy&cs=tinysrgb&fit=max&fm=jpg&ixid=M3w1NjQ2OTF8MHwxfHNlYXJjaHwxfHxzdXNoaXxlbnwwfHx8fDE3MDczNzk0NjB8MA&ixlib=rb-4.0.3&q=80&w=1080\n",
      "An error occurred while downloading URL: https://images.unsplash.com/photo-1579584425555-c3ce17fd4351?crop=entropy&cs=tinysrgb&fit=max&fm=jpg&ixid=M3w1NjQ2OTF8MHwxfHNlYXJjaHwxfHxzdXNoaXxlbnwwfHx8fDE3MDczNzk0NjB8MA&ixlib=rb-4.0.3&q=80&w=1080: No connection adapters were found for 'URL: https://images.unsplash.com/photo-1579584425555-c3ce17fd4351?crop=entropy&cs=tinysrgb&fit=max&fm=jpg&ixid=M3w1NjQ2OTF8MHwxfHNlYXJjaHwxfHxzdXNoaXxlbnwwfHx8fDE3MDczNzk0NjB8MA&ixlib=rb-4.0.3&q=80&w=1080'\n"
     ]
    }
   ],
   "source": [
    "def download_image(image_url, save_folder=\"/workspace/gotmeals/EDA/Image_Scraping/Scraped_images\"):\n",
    "    if not os.path.exists(save_folder):\n",
    "        os.makedirs(save_folder)\n",
    "    image_name = image_url.split(\"/\")[-1]\n",
    "    save_path = os.path.join(save_folder, image_name)\n",
    "    try:\n",
    "        with requests.get(image_url, stream=True) as r:\n",
    "            r.raise_for_status()\n",
    "            with open(save_path, \"wb\") as f:\n",
    "                for chunk in r.iter_content(chunk_size=8192):\n",
    "                    f.write(chunk)\n",
    "        print(f\"Image downloaded successfully: {save_path}\")\n",
    "    except Exception as e:\n",
    "        print(f\"An error occurred while downloading {image_url}: {e}\")\n",
    "\n",
    "if __name__ == \"__main__\":\n",
    "    image_urls = [\n",
    "        \"https://images.unsplash.com/photo-1513104890138-7c749659a591?crop=entropy&cs=tinysrgb&fit=max&fm=jpg&ixid=M3w1NjQ2OTF8MHwxfHNlYXJjaHwxfHxwaXp6YXxlbnwwfHx8fDE3MDczNzk0NTl8MA&ixlib=rb-4.0.3&q=80&w=1080\", \n",
    "        \"https://images.unsplash.com/photo-1513104890138-7c749659a591?crop=entropy&cs=tinysrgb&fit=max&fm=jpg&ixid=M3w1NjQ2OTF8MHwxfHNlYXJjaHwxfHxwaXp6YXxlbnwwfHx8fDE3MDczNzk0NTl8MA&ixlib=rb-4.0.3&q=80&w=1080\", \n",
    "        \"https://images.unsplash.com/photo-1512621776951-a57141f2eefd?crop=entropy&cs=tinysrgb&fit=max&fm=jpg&ixid=M3w1NjQ2OTF8MHwxfHNlYXJjaHwxfHxzYWxhZHxlbnwwfHx8fDE3MDczNzk0NjB8MA&ixlib=rb-4.0.3&q=80&w=1080\",\n",
    "        \"https://images.unsplash.com/photo-1579584425555-c3ce17fd4351?crop=entropy&cs=tinysrgb&fit=max&fm=jpg&ixid=M3w1NjQ2OTF8MHwxfHNlYXJjaHwxfHxzdXNoaXxlbnwwfHx8fDE3MDczNzk0NjB8MA&ixlib=rb-4.0.3&q=80&w=1080\",\n",
    "        \"URL: https://images.unsplash.com/photo-1579584425555-c3ce17fd4351?crop=entropy&cs=tinysrgb&fit=max&fm=jpg&ixid=M3w1NjQ2OTF8MHwxfHNlYXJjaHwxfHxzdXNoaXxlbnwwfHx8fDE3MDczNzk0NjB8MA&ixlib=rb-4.0.3&q=80&w=1080\"\n",
    "    ]\n",
    "    for url in image_urls:\n",
    "        download_image(url)\n"
   ]
  },
  {
   "cell_type": "code",
   "execution_count": 14,
   "metadata": {},
   "outputs": [
    {
     "name": "stdout",
     "output_type": "stream",
     "text": [
      "Image downloaded successfully: /workspace/gotmeals/EDA/Image_Scraping/Scraped_images/photo-1513104890138-7c749659a591.jpg\n",
      "Image downloaded successfully: /workspace/gotmeals/EDA/Image_Scraping/Scraped_images/photo-1513104890138-7c749659a591.jpg\n",
      "Image downloaded successfully: /workspace/gotmeals/EDA/Image_Scraping/Scraped_images/photo-1512621776951-a57141f2eefd.jpg\n",
      "Image downloaded successfully: /workspace/gotmeals/EDA/Image_Scraping/Scraped_images/photo-1579584425555-c3ce17fd4351.jpg\n",
      "An error occurred while downloading URL: https://images.unsplash.com/photo-1579584425555-c3ce17fd4351?crop=entropy&cs=tinysrgb&fit=max&fm=jpg&ixid=M3w1NjQ2OTF8MHwxfHNlYXJjaHwxfHxzdXNoaXxlbnwwfHx8fDE3MDczNzk0NjB8MA&ixlib=rb-4.0.3&q=80&w=1080: No connection adapters were found for 'URL: https://images.unsplash.com/photo-1579584425555-c3ce17fd4351?crop=entropy&cs=tinysrgb&fit=max&fm=jpg&ixid=M3w1NjQ2OTF8MHwxfHNlYXJjaHwxfHxzdXNoaXxlbnwwfHx8fDE3MDczNzk0NjB8MA&ixlib=rb-4.0.3&q=80&w=1080'\n"
     ]
    }
   ],
   "source": [
    "def download_image(image_url, save_folder=\"/workspace/gotmeals/EDA/Image_Scraping/Scraped_images\"):\n",
    "    if not os.path.exists(save_folder):\n",
    "        os.makedirs(save_folder)\n",
    "    image_name = image_url.split(\"?\")[0].split(\"/\")[-1]  # Remove URL parameters before getting the name\n",
    "    if not (image_name.endswith('.jpg') or image_name.endswith('.png')):\n",
    "        # Default to .jpg if content type is not available or not 'image/png'\n",
    "        image_name += '.jpg'\n",
    "    \n",
    "    save_path = os.path.join(save_folder, image_name)\n",
    "    try:\n",
    "        with requests.get(image_url, stream=True) as r:\n",
    "            r.raise_for_status()\n",
    "            content_type = r.headers.get('content-type')\n",
    "            if content_type == 'image/png' and not save_path.endswith('.png'):\n",
    "                save_path = save_path.rsplit('.', 1)[0] + '.png'\n",
    "            elif content_type == 'image/jpeg' and not save_path.endswith('.jpg'):\n",
    "                save_path = save_path.rsplit('.', 1)[0] + '.jpg'\n",
    "            \n",
    "            with open(save_path, \"wb\") as f:\n",
    "                for chunk in r.iter_content(chunk_size=8192):\n",
    "                    f.write(chunk)\n",
    "        print(f\"Image downloaded successfully: {save_path}\")\n",
    "    except Exception as e:\n",
    "        print(f\"An error occurred while downloading {image_url}: {e}\")\n",
    "\n",
    "if __name__ == \"__main__\":\n",
    "    image_urls = [\n",
    "        \"https://images.unsplash.com/photo-1513104890138-7c749659a591?crop=entropy&cs=tinysrgb&fit=max&fm=jpg&ixid=M3w1NjQ2OTF8MHwxfHNlYXJjaHwxfHxwaXp6YXxlbnwwfHx8fDE3MDczNzk0NTl8MA&ixlib=rb-4.0.3&q=80&w=1080\", \n",
    "        \"https://images.unsplash.com/photo-1513104890138-7c749659a591?crop=entropy&cs=tinysrgb&fit=max&fm=jpg&ixid=M3w1NjQ2OTF8MHwxfHNlYXJjaHwxfHxwaXp6YXxlbnwwfHx8fDE3MDczNzk0NTl8MA&ixlib=rb-4.0.3&q=80&w=1080\", \n",
    "        \"https://images.unsplash.com/photo-1512621776951-a57141f2eefd?crop=entropy&cs=tinysrgb&fit=max&fm=jpg&ixid=M3w1NjQ2OTF8MHwxfHNlYXJjaHwxfHxzYWxhZHxlbnwwfHx8fDE3MDczNzk0NjB8MA&ixlib=rb-4.0.3&q=80&w=1080\",\n",
    "        \"https://images.unsplash.com/photo-1579584425555-c3ce17fd4351?crop=entropy&cs=tinysrgb&fit=max&fm=jpg&ixid=M3w1NjQ2OTF8MHwxfHNlYXJjaHwxfHxzdXNoaXxlbnwwfHx8fDE3MDczNzk0NjB8MA&ixlib=rb-4.0.3&q=80&w=1080\",\n",
    "        \"URL: https://images.unsplash.com/photo-1579584425555-c3ce17fd4351?crop=entropy&cs=tinysrgb&fit=max&fm=jpg&ixid=M3w1NjQ2OTF8MHwxfHNlYXJjaHwxfHxzdXNoaXxlbnwwfHx8fDE3MDczNzk0NjB8MA&ixlib=rb-4.0.3&q=80&w=1080\"\n",
    "    ]\n",
    "    for url in image_urls:\n",
    "        download_image(url)\n"
   ]
  },
  {
   "cell_type": "code",
   "execution_count": null,
   "metadata": {},
   "outputs": [],
   "source": []
  }
 ],
 "metadata": {
  "kernelspec": {
   "display_name": "Python 3",
   "language": "python",
   "name": "python3"
  },
  "language_info": {
   "codemirror_mode": {
    "name": "ipython",
    "version": 3
   },
   "file_extension": ".py",
   "mimetype": "text/x-python",
   "name": "python",
   "nbconvert_exporter": "python",
   "pygments_lexer": "ipython3",
   "version": "3.12.1"
  }
 },
 "nbformat": 4,
 "nbformat_minor": 2
}
