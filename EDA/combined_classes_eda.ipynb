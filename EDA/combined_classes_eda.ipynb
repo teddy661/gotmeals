{
 "cells": [
  {
   "cell_type": "code",
   "execution_count": 1,
   "metadata": {},
   "outputs": [],
   "source": [
    "import logging\n",
    "from pathlib import Path\n",
    "\n",
    "import numpy as np\n",
    "import polars as pl\n",
    "\n",
    "from utils import ProjectConfig"
   ]
  },
  {
   "cell_type": "code",
   "execution_count": 2,
   "metadata": {},
   "outputs": [
    {
     "data": {
      "text/plain": [
       "polars.config.Config"
      ]
     },
     "execution_count": 2,
     "metadata": {},
     "output_type": "execute_result"
    }
   ],
   "source": [
    "cfg = pl.Config()\n",
    "cfg.set_tbl_rows(2000)\n",
    "cfg.set_tbl_width_chars(200)\n",
    "cfg.set_fmt_str_lengths(200)"
   ]
  },
  {
   "cell_type": "code",
   "execution_count": 3,
   "metadata": {},
   "outputs": [
    {
     "data": {
      "text/plain": [
       "[WindowsPath('C:/Users/edbrown/Documents/01-Berkeley/210/data/common_ingredient_images_dataset.parquet'),\n",
       " WindowsPath('C:/Users/edbrown/Documents/01-Berkeley/210/data/FoodClassification.parquet'),\n",
       " WindowsPath('C:/Users/edbrown/Documents/01-Berkeley/210/data/Fruits-360.parquet'),\n",
       " WindowsPath('C:/Users/edbrown/Documents/01-Berkeley/210/data/FruitsAndVegetablesImageRecognitionDataset.parquet'),\n",
       " WindowsPath('C:/Users/edbrown/Documents/01-Berkeley/210/data/FruitsClassification.parquet'),\n",
       " WindowsPath('C:/Users/edbrown/Documents/01-Berkeley/210/data/GroceryStoreDataset.parquet')]"
      ]
     },
     "execution_count": 3,
     "metadata": {},
     "output_type": "execute_result"
    }
   ],
   "source": [
    "pc = ProjectConfig()\n",
    "parquet_files = list(pc.data_root_dir.glob(\"*.parquet\"))\n",
    "parquet_files.remove(pc.data_root_dir.joinpath(\"RecipeNLG_dataset.parquet\"))\n",
    "parquet_files"
   ]
  },
  {
   "cell_type": "code",
   "execution_count": 5,
   "metadata": {
    "notebookRunGroups": {
     "groupValue": "1"
    }
   },
   "outputs": [
    {
     "name": "stdout",
     "output_type": "stream",
     "text": [
      "Processing 0 C:\\Users\\edbrown\\Documents\\01-Berkeley\\210\\data\\common_ingredient_images_dataset.parquet\n",
      "Processing 1 C:\\Users\\edbrown\\Documents\\01-Berkeley\\210\\data\\FoodClassification.parquet\n",
      "Processing 2 C:\\Users\\edbrown\\Documents\\01-Berkeley\\210\\data\\Fruits-360.parquet\n",
      "Processing 3 C:\\Users\\edbrown\\Documents\\01-Berkeley\\210\\data\\FruitsAndVegetablesImageRecognitionDataset.parquet\n",
      "Processing 4 C:\\Users\\edbrown\\Documents\\01-Berkeley\\210\\data\\FruitsClassification.parquet\n",
      "Processing 5 C:\\Users\\edbrown\\Documents\\01-Berkeley\\210\\data\\GroceryStoreDataset.parquet\n"
     ]
    }
   ],
   "source": [
    "for i, file in enumerate(parquet_files):\n",
    "    print(f\"Processing {i} {file}\")\n",
    "    df = pl.read_parquet(file, columns=[\"ClassId\"])\n",
    "    if i == 0:\n",
    "        final_df = df.select(\"ClassId\")\n",
    "    else:\n",
    "        final_df = pl.concat([final_df, df.select(pl.col(\"ClassId\"))])"
   ]
  },
  {
   "cell_type": "code",
   "execution_count": 6,
   "metadata": {},
   "outputs": [],
   "source": [
    "final_df = final_df.with_columns(pl.col(\"ClassId\").str.to_lowercase().alias(\"ClassId\"))\n",
    "unique_ingredients = final_df.unique().sort(\"ClassId\")\n",
    "unique_ing_list = unique_ingredients.write_parquet(\n",
    "    \"unique_ingredients.parquet\",\n",
    "    compression=\"zstd\",\n",
    "    compression_level=3,\n",
    "    statistics=True,\n",
    ")"
   ]
  },
  {
   "cell_type": "code",
   "execution_count": 7,
   "metadata": {},
   "outputs": [
    {
     "data": {
      "text/html": [
       "<div><style>\n",
       ".dataframe > thead > tr,\n",
       ".dataframe > tbody > tr {\n",
       "  text-align: right;\n",
       "  white-space: pre-wrap;\n",
       "}\n",
       "</style>\n",
       "<small>shape: (141, 1)</small><table border=\"1\" class=\"dataframe\"><thead><tr><th>ClassId</th></tr><tr><td>str</td></tr></thead><tbody><tr><td>&quot;almonds&quot;</td></tr><tr><td>&quot;apple&quot;</td></tr><tr><td>&quot;apple_6&quot;</td></tr><tr><td>&quot;apple_braeburn_1&quot;</td></tr><tr><td>&quot;apple_crimson_snow_1&quot;</td></tr><tr><td>&quot;apple_golden_1&quot;</td></tr><tr><td>&quot;apple_golden_2&quot;</td></tr><tr><td>&quot;apple_golden_3&quot;</td></tr><tr><td>&quot;apple_granny_smith_1&quot;</td></tr><tr><td>&quot;apple_hit_1&quot;</td></tr><tr><td>&quot;apple_pink_lady_1&quot;</td></tr><tr><td>&quot;apple_red_1&quot;</td></tr><tr><td>&quot;apple_red_2&quot;</td></tr><tr><td>&quot;apple_red_3&quot;</td></tr><tr><td>&quot;apple_red_delicios_1&quot;</td></tr><tr><td>&quot;apple_red_yellow_1&quot;</td></tr><tr><td>&quot;apple_rotten_1&quot;</td></tr><tr><td>&quot;asparagus&quot;</td></tr><tr><td>&quot;aubergine&quot;</td></tr><tr><td>&quot;avocado&quot;</td></tr><tr><td>&quot;banana&quot;</td></tr><tr><td>&quot;beer&quot;</td></tr><tr><td>&quot;beetroot&quot;</td></tr><tr><td>&quot;bell pepper&quot;</td></tr><tr><td>&quot;biscuits&quot;</td></tr><tr><td>&quot;boisson-au-glucose-50g&quot;</td></tr><tr><td>&quot;bread-french-white-flour&quot;</td></tr><tr><td>&quot;bread-sourdough&quot;</td></tr><tr><td>&quot;bread-white&quot;</td></tr><tr><td>&quot;bread-whole-wheat&quot;</td></tr><tr><td>&quot;bread-wholemeal&quot;</td></tr><tr><td>&quot;broccoli&quot;</td></tr><tr><td>&quot;butter&quot;</td></tr><tr><td>&quot;cabbage&quot;</td></tr><tr><td>&quot;cabbage_white_1&quot;</td></tr><tr><td>&quot;capsicum&quot;</td></tr><tr><td>&quot;carrot&quot;</td></tr><tr><td>&quot;carrot_1&quot;</td></tr><tr><td>&quot;carrots&quot;</td></tr><tr><td>&quot;cauliflower&quot;</td></tr><tr><td>&quot;cheese&quot;</td></tr><tr><td>&quot;chicken&quot;</td></tr><tr><td>&quot;chilli pepper&quot;</td></tr><tr><td>&quot;chips-french-fries&quot;</td></tr><tr><td>&quot;coffee-with-caffeine&quot;</td></tr><tr><td>&quot;corn&quot;</td></tr><tr><td>&quot;croissant&quot;</td></tr><tr><td>&quot;cucumber&quot;</td></tr><tr><td>&quot;cucumber_1&quot;</td></tr><tr><td>&quot;cucumber_3&quot;</td></tr><tr><td>&quot;dark-chocolate&quot;</td></tr><tr><td>&quot;egg&quot;</td></tr><tr><td>&quot;eggplant&quot;</td></tr><tr><td>&quot;eggplant_violet_1&quot;</td></tr><tr><td>&quot;espresso-with-caffeine&quot;</td></tr><tr><td>&quot;french-beans&quot;</td></tr><tr><td>&quot;garlic&quot;</td></tr><tr><td>&quot;ginger&quot;</td></tr><tr><td>&quot;grape&quot;</td></tr><tr><td>&quot;grapes&quot;</td></tr><tr><td>&quot;gruyere&quot;</td></tr><tr><td>&quot;ham-raw&quot;</td></tr><tr><td>&quot;hard-cheese&quot;</td></tr><tr><td>&quot;honey&quot;</td></tr><tr><td>&quot;jalepeno&quot;</td></tr><tr><td>&quot;jam&quot;</td></tr><tr><td>&quot;juice&quot;</td></tr><tr><td>&quot;kiwi&quot;</td></tr><tr><td>&quot;leaf-spinach&quot;</td></tr><tr><td>&quot;leek&quot;</td></tr><tr><td>&quot;lemon&quot;</td></tr><tr><td>&quot;lettuce&quot;</td></tr><tr><td>&quot;lime&quot;</td></tr><tr><td>&quot;mandarine&quot;</td></tr><tr><td>&quot;mango&quot;</td></tr><tr><td>&quot;mayonnaise&quot;</td></tr><tr><td>&quot;melon&quot;</td></tr><tr><td>&quot;milk&quot;</td></tr><tr><td>&quot;mixed-nuts&quot;</td></tr><tr><td>&quot;mixed-salad-chopped-without-sauce&quot;</td></tr><tr><td>&quot;mixed-vegetables&quot;</td></tr><tr><td>&quot;mushroom&quot;</td></tr><tr><td>&quot;nectarine&quot;</td></tr><tr><td>&quot;oat-milk&quot;</td></tr><tr><td>&quot;oatghurt&quot;</td></tr><tr><td>&quot;onion&quot;</td></tr><tr><td>&quot;orange&quot;</td></tr><tr><td>&quot;papaya&quot;</td></tr><tr><td>&quot;paprika&quot;</td></tr><tr><td>&quot;parmesan&quot;</td></tr><tr><td>&quot;passion-fruit&quot;</td></tr><tr><td>&quot;pasta-spaghetti&quot;</td></tr><tr><td>&quot;peach&quot;</td></tr><tr><td>&quot;pear&quot;</td></tr><tr><td>&quot;pear_1&quot;</td></tr><tr><td>&quot;pear_3&quot;</td></tr><tr><td>&quot;peas&quot;</td></tr><tr><td>&quot;pepper&quot;</td></tr><tr><td>&quot;pickle&quot;</td></tr><tr><td>&quot;pineapple&quot;</td></tr><tr><td>&quot;pizza-margherita-baked&quot;</td></tr><tr><td>&quot;plum&quot;</td></tr><tr><td>&quot;pomegranate&quot;</td></tr><tr><td>&quot;potato&quot;</td></tr><tr><td>&quot;potatoes-steamed&quot;</td></tr><tr><td>&quot;raddish&quot;</td></tr><tr><td>&quot;red-beet&quot;</td></tr><tr><td>&quot;red-grapefruit&quot;</td></tr><tr><td>&quot;rice&quot;</td></tr><tr><td>&quot;salad-leaf-salad-green&quot;</td></tr><tr><td>&quot;salami&quot;</td></tr><tr><td>&quot;salmon&quot;</td></tr><tr><td>&quot;satsumas&quot;</td></tr><tr><td>&quot;sauce-savoury&quot;</td></tr><tr><td>&quot;soft-cheese&quot;</td></tr><tr><td>&quot;sour-cream&quot;</td></tr><tr><td>&quot;sour-milk&quot;</td></tr><tr><td>&quot;soy beans&quot;</td></tr><tr><td>&quot;soy-milk&quot;</td></tr><tr><td>&quot;soyghurt&quot;</td></tr><tr><td>&quot;spinach&quot;</td></tr><tr><td>&quot;strawberries&quot;</td></tr><tr><td>&quot;strawberry&quot;</td></tr><tr><td>&quot;sweet-pepper&quot;</td></tr><tr><td>&quot;sweetcorn&quot;</td></tr><tr><td>&quot;sweetpotato&quot;</td></tr><tr><td>&quot;tea&quot;</td></tr><tr><td>&quot;tea-green&quot;</td></tr><tr><td>&quot;tomato&quot;</td></tr><tr><td>&quot;tomato-sauce&quot;</td></tr><tr><td>&quot;turnip&quot;</td></tr><tr><td>&quot;water&quot;</td></tr><tr><td>&quot;water-mineral&quot;</td></tr><tr><td>&quot;watermelon&quot;</td></tr><tr><td>&quot;white-coffee-with-caffeine&quot;</td></tr><tr><td>&quot;wine-red&quot;</td></tr><tr><td>&quot;wine-white&quot;</td></tr><tr><td>&quot;yoghurt&quot;</td></tr><tr><td>&quot;zucchini&quot;</td></tr><tr><td>&quot;zucchini_1&quot;</td></tr><tr><td>&quot;zucchini_dark_1&quot;</td></tr></tbody></table></div>"
      ],
      "text/plain": [
       "shape: (141, 1)\n",
       "┌───────────────────────────────────┐\n",
       "│ ClassId                           │\n",
       "│ ---                               │\n",
       "│ str                               │\n",
       "╞═══════════════════════════════════╡\n",
       "│ almonds                           │\n",
       "│ apple                             │\n",
       "│ apple_6                           │\n",
       "│ apple_braeburn_1                  │\n",
       "│ apple_crimson_snow_1              │\n",
       "│ apple_golden_1                    │\n",
       "│ apple_golden_2                    │\n",
       "│ apple_golden_3                    │\n",
       "│ apple_granny_smith_1              │\n",
       "│ apple_hit_1                       │\n",
       "│ apple_pink_lady_1                 │\n",
       "│ apple_red_1                       │\n",
       "│ apple_red_2                       │\n",
       "│ apple_red_3                       │\n",
       "│ apple_red_delicios_1              │\n",
       "│ apple_red_yellow_1                │\n",
       "│ apple_rotten_1                    │\n",
       "│ asparagus                         │\n",
       "│ aubergine                         │\n",
       "│ avocado                           │\n",
       "│ banana                            │\n",
       "│ beer                              │\n",
       "│ beetroot                          │\n",
       "│ bell pepper                       │\n",
       "│ biscuits                          │\n",
       "│ boisson-au-glucose-50g            │\n",
       "│ bread-french-white-flour          │\n",
       "│ bread-sourdough                   │\n",
       "│ bread-white                       │\n",
       "│ bread-whole-wheat                 │\n",
       "│ bread-wholemeal                   │\n",
       "│ broccoli                          │\n",
       "│ butter                            │\n",
       "│ cabbage                           │\n",
       "│ cabbage_white_1                   │\n",
       "│ capsicum                          │\n",
       "│ carrot                            │\n",
       "│ carrot_1                          │\n",
       "│ carrots                           │\n",
       "│ cauliflower                       │\n",
       "│ cheese                            │\n",
       "│ chicken                           │\n",
       "│ chilli pepper                     │\n",
       "│ chips-french-fries                │\n",
       "│ coffee-with-caffeine              │\n",
       "│ corn                              │\n",
       "│ croissant                         │\n",
       "│ cucumber                          │\n",
       "│ cucumber_1                        │\n",
       "│ cucumber_3                        │\n",
       "│ dark-chocolate                    │\n",
       "│ egg                               │\n",
       "│ eggplant                          │\n",
       "│ eggplant_violet_1                 │\n",
       "│ espresso-with-caffeine            │\n",
       "│ french-beans                      │\n",
       "│ garlic                            │\n",
       "│ ginger                            │\n",
       "│ grape                             │\n",
       "│ grapes                            │\n",
       "│ gruyere                           │\n",
       "│ ham-raw                           │\n",
       "│ hard-cheese                       │\n",
       "│ honey                             │\n",
       "│ jalepeno                          │\n",
       "│ jam                               │\n",
       "│ juice                             │\n",
       "│ kiwi                              │\n",
       "│ leaf-spinach                      │\n",
       "│ leek                              │\n",
       "│ lemon                             │\n",
       "│ lettuce                           │\n",
       "│ lime                              │\n",
       "│ mandarine                         │\n",
       "│ mango                             │\n",
       "│ mayonnaise                        │\n",
       "│ melon                             │\n",
       "│ milk                              │\n",
       "│ mixed-nuts                        │\n",
       "│ mixed-salad-chopped-without-sauce │\n",
       "│ mixed-vegetables                  │\n",
       "│ mushroom                          │\n",
       "│ nectarine                         │\n",
       "│ oat-milk                          │\n",
       "│ oatghurt                          │\n",
       "│ onion                             │\n",
       "│ orange                            │\n",
       "│ papaya                            │\n",
       "│ paprika                           │\n",
       "│ parmesan                          │\n",
       "│ passion-fruit                     │\n",
       "│ pasta-spaghetti                   │\n",
       "│ peach                             │\n",
       "│ pear                              │\n",
       "│ pear_1                            │\n",
       "│ pear_3                            │\n",
       "│ peas                              │\n",
       "│ pepper                            │\n",
       "│ pickle                            │\n",
       "│ pineapple                         │\n",
       "│ pizza-margherita-baked            │\n",
       "│ plum                              │\n",
       "│ pomegranate                       │\n",
       "│ potato                            │\n",
       "│ potatoes-steamed                  │\n",
       "│ raddish                           │\n",
       "│ red-beet                          │\n",
       "│ red-grapefruit                    │\n",
       "│ rice                              │\n",
       "│ salad-leaf-salad-green            │\n",
       "│ salami                            │\n",
       "│ salmon                            │\n",
       "│ satsumas                          │\n",
       "│ sauce-savoury                     │\n",
       "│ soft-cheese                       │\n",
       "│ sour-cream                        │\n",
       "│ sour-milk                         │\n",
       "│ soy beans                         │\n",
       "│ soy-milk                          │\n",
       "│ soyghurt                          │\n",
       "│ spinach                           │\n",
       "│ strawberries                      │\n",
       "│ strawberry                        │\n",
       "│ sweet-pepper                      │\n",
       "│ sweetcorn                         │\n",
       "│ sweetpotato                       │\n",
       "│ tea                               │\n",
       "│ tea-green                         │\n",
       "│ tomato                            │\n",
       "│ tomato-sauce                      │\n",
       "│ turnip                            │\n",
       "│ water                             │\n",
       "│ water-mineral                     │\n",
       "│ watermelon                        │\n",
       "│ white-coffee-with-caffeine        │\n",
       "│ wine-red                          │\n",
       "│ wine-white                        │\n",
       "│ yoghurt                           │\n",
       "│ zucchini                          │\n",
       "│ zucchini_1                        │\n",
       "│ zucchini_dark_1                   │\n",
       "└───────────────────────────────────┘"
      ]
     },
     "execution_count": 7,
     "metadata": {},
     "output_type": "execute_result"
    }
   ],
   "source": [
    "unique_ingredients"
   ]
  }
 ],
 "metadata": {
  "kernelspec": {
   "display_name": "281-venv",
   "language": "python",
   "name": "python3"
  },
  "language_info": {
   "codemirror_mode": {
    "name": "ipython",
    "version": 3
   },
   "file_extension": ".py",
   "mimetype": "text/x-python",
   "name": "python",
   "nbconvert_exporter": "python",
   "pygments_lexer": "ipython3",
   "version": "3.11.8"
  }
 },
 "nbformat": 4,
 "nbformat_minor": 2
}
