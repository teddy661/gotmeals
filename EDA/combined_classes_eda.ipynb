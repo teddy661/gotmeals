{
 "cells": [
  {
   "cell_type": "code",
   "execution_count": 1,
   "metadata": {},
   "outputs": [],
   "source": [
    "import logging\n",
    "from pathlib import Path\n",
    "\n",
    "import numpy as np\n",
    "import polars as pl"
   ]
  },
  {
   "cell_type": "code",
   "execution_count": 2,
   "metadata": {},
   "outputs": [
    {
     "data": {
      "text/plain": [
       "polars.config.Config"
      ]
     },
     "execution_count": 2,
     "metadata": {},
     "output_type": "execute_result"
    }
   ],
   "source": [
    "cfg = pl.Config()\n",
    "cfg.set_tbl_rows(2000)\n",
    "cfg.set_tbl_width_chars(200)\n",
    "cfg.set_fmt_str_lengths(200)"
   ]
  },
  {
   "cell_type": "code",
   "execution_count": 3,
   "metadata": {},
   "outputs": [],
   "source": [
    "parquet_files = list(Path(\"./\").rglob(\"*.parquet\"))"
   ]
  },
  {
   "cell_type": "code",
   "execution_count": 4,
   "metadata": {
    "notebookRunGroups": {
     "groupValue": "1"
    }
   },
   "outputs": [
    {
     "name": "stdout",
     "output_type": "stream",
     "text": [
      "Processing 0 foodclassification.parquet\n",
      "Processing 1 fruits360.parquet\n",
      "Processing 2 FruitsAndVegetablesImageRecognitionDataset.parquet\n",
      "Processing 3 fruitsclassification.parquet\n",
      "Processing 4 grocerystoredataset.parquet\n"
     ]
    }
   ],
   "source": [
    "for i, file in enumerate(parquet_files):\n",
    "    print(f\"Processing {i} {file}\")\n",
    "    if file != Path(\"grocerystoredataset.parquet\"):\n",
    "        df = pl.read_parquet(file, columns=[\"ClassId\"])\n",
    "    else:\n",
    "        df = pl.read_parquet(file, columns=[\"Coarse Class Name (str)\"])\n",
    "        df = df.rename({\"Coarse Class Name (str)\": \"ClassId\"})\n",
    "    if i == 0:\n",
    "        final_df = df.select(\"ClassId\")\n",
    "    else:\n",
    "        final_df = pl.concat([final_df, df.select(pl.col(\"ClassId\"))])"
   ]
  },
  {
   "cell_type": "code",
   "execution_count": 11,
   "metadata": {},
   "outputs": [],
   "source": [
    "final_df = final_df.with_columns(\n",
    "    pl.col(\"ClassId\").str.to_lowercase().alias(\"ClassId\")\n",
    ")\n",
    "unique_ingredients = final_df.unique().sort(\"ClassId\")\n",
    "unique_ingredients\n",
    "unique_ing_list = unique_ingredients.write_parquet(\"unique_ingredients.parquet\", compression=\"zstd\", compression_level=3, statistics=True) "
   ]
  }
 ],
 "metadata": {
  "kernelspec": {
   "display_name": "281-venv",
   "language": "python",
   "name": "python3"
  },
  "language_info": {
   "codemirror_mode": {
    "name": "ipython",
    "version": 3
   },
   "file_extension": ".py",
   "mimetype": "text/x-python",
   "name": "python",
   "nbconvert_exporter": "python",
   "pygments_lexer": "ipython3",
   "version": "3.11.8"
  }
 },
 "nbformat": 4,
 "nbformat_minor": 2
}
