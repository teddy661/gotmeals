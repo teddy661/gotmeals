{
 "cells": [
  {
   "cell_type": "code",
   "execution_count": 1,
   "metadata": {},
   "outputs": [],
   "source": [
    "import logging\n",
    "from pathlib import Path\n",
    "\n",
    "import numpy as np\n",
    "import polars as pl"
   ]
  },
  {
   "cell_type": "code",
   "execution_count": 2,
   "metadata": {},
   "outputs": [
    {
     "data": {
      "text/plain": [
       "polars.config.Config"
      ]
     },
     "execution_count": 2,
     "metadata": {},
     "output_type": "execute_result"
    }
   ],
   "source": [
    "cfg = pl.Config()\n",
    "cfg.set_tbl_rows(2000)\n",
    "cfg.set_tbl_width_chars(200)\n",
    "cfg.set_fmt_str_lengths(200)"
   ]
  },
  {
   "cell_type": "code",
   "execution_count": 3,
   "metadata": {},
   "outputs": [],
   "source": [
    "parquet_files = list(Path(\"./\").rglob(\"*.parquet\"))"
   ]
  },
  {
   "cell_type": "code",
   "execution_count": 4,
   "metadata": {
    "notebookRunGroups": {
     "groupValue": "1"
    }
   },
   "outputs": [
    {
     "name": "stdout",
     "output_type": "stream",
     "text": [
      "Processing 0 foodclassification.parquet\n",
      "Processing 1 fruits360.parquet\n",
      "Processing 2 FruitsAndVegetablesImageRecognitionDataset.parquet\n",
      "Processing 3 fruitsclassification.parquet\n",
      "Processing 4 grocerystoredataset.parquet\n"
     ]
    }
   ],
   "source": [
    "for i, file in enumerate(parquet_files):\n",
    "    print(f\"Processing {i} {file}\")\n",
    "    if file != Path(\"grocerystoredataset.parquet\"):\n",
    "        df = pl.read_parquet(file, columns=[\"ClassId\"])\n",
    "    else:\n",
    "        df = pl.read_parquet(file, columns=[\"Coarse Class Name (str)\"])\n",
    "        df = df.rename({\"Coarse Class Name (str)\": \"ClassId\"})\n",
    "    if i == 0:\n",
    "        final_df = df.select(\"ClassId\")\n",
    "    else:\n",
    "        final_df = pl.concat([final_df, df.select(pl.col(\"ClassId\"))])"
   ]
  },
  {
   "cell_type": "code",
   "execution_count": 6,
   "metadata": {},
   "outputs": [
    {
     "data": {
      "text/html": [
       "<div><style>\n",
       ".dataframe > thead > tr,\n",
       ".dataframe > tbody > tr {\n",
       "  text-align: right;\n",
       "  white-space: pre-wrap;\n",
       "}\n",
       "</style>\n",
       "<small>shape: (159, 1)</small><table border=\"1\" class=\"dataframe\"><thead><tr><th>ClassId</th></tr><tr><td>str</td></tr></thead><tbody><tr><td>&quot;Apple&quot;</td></tr><tr><td>&quot;Asparagus&quot;</td></tr><tr><td>&quot;Aubergine&quot;</td></tr><tr><td>&quot;Avocado&quot;</td></tr><tr><td>&quot;Banana&quot;</td></tr><tr><td>&quot;Cabbage&quot;</td></tr><tr><td>&quot;Carrots&quot;</td></tr><tr><td>&quot;Cucumber&quot;</td></tr><tr><td>&quot;Garlic&quot;</td></tr><tr><td>&quot;Ginger&quot;</td></tr><tr><td>&quot;Grape&quot;</td></tr><tr><td>&quot;Juice&quot;</td></tr><tr><td>&quot;Kiwi&quot;</td></tr><tr><td>&quot;Leek&quot;</td></tr><tr><td>&quot;Lemon&quot;</td></tr><tr><td>&quot;Lime&quot;</td></tr><tr><td>&quot;Mango&quot;</td></tr><tr><td>&quot;Melon&quot;</td></tr><tr><td>&quot;Milk&quot;</td></tr><tr><td>&quot;Mushroom&quot;</td></tr><tr><td>&quot;Nectarine&quot;</td></tr><tr><td>&quot;Oat-Milk&quot;</td></tr><tr><td>&quot;Oatghurt&quot;</td></tr><tr><td>&quot;Onion&quot;</td></tr><tr><td>&quot;Orange&quot;</td></tr><tr><td>&quot;Papaya&quot;</td></tr><tr><td>&quot;Passion-Fruit&quot;</td></tr><tr><td>&quot;Peach&quot;</td></tr><tr><td>&quot;Pear&quot;</td></tr><tr><td>&quot;Pepper&quot;</td></tr><tr><td>&quot;Pineapple&quot;</td></tr><tr><td>&quot;Plum&quot;</td></tr><tr><td>&quot;Pomegranate&quot;</td></tr><tr><td>&quot;Potato&quot;</td></tr><tr><td>&quot;Red-Beet&quot;</td></tr><tr><td>&quot;Red-Grapefruit&quot;</td></tr><tr><td>&quot;Satsumas&quot;</td></tr><tr><td>&quot;Sour-Cream&quot;</td></tr><tr><td>&quot;Sour-Milk&quot;</td></tr><tr><td>&quot;Soy-Milk&quot;</td></tr><tr><td>&quot;Soyghurt&quot;</td></tr><tr><td>&quot;Strawberry&quot;</td></tr><tr><td>&quot;Tomato&quot;</td></tr><tr><td>&quot;Yoghurt&quot;</td></tr><tr><td>&quot;Zucchini&quot;</td></tr><tr><td>&quot;almonds&quot;</td></tr><tr><td>&quot;apple&quot;</td></tr><tr><td>&quot;apple_6&quot;</td></tr><tr><td>&quot;apple_braeburn_1&quot;</td></tr><tr><td>&quot;apple_crimson_snow_1&quot;</td></tr><tr><td>&quot;apple_golden_1&quot;</td></tr><tr><td>&quot;apple_golden_2&quot;</td></tr><tr><td>&quot;apple_golden_3&quot;</td></tr><tr><td>&quot;apple_granny_smith_1&quot;</td></tr><tr><td>&quot;apple_hit_1&quot;</td></tr><tr><td>&quot;apple_pink_lady_1&quot;</td></tr><tr><td>&quot;apple_red_1&quot;</td></tr><tr><td>&quot;apple_red_2&quot;</td></tr><tr><td>&quot;apple_red_3&quot;</td></tr><tr><td>&quot;apple_red_delicios_1&quot;</td></tr><tr><td>&quot;apple_red_yellow_1&quot;</td></tr><tr><td>&quot;apple_rotten_1&quot;</td></tr><tr><td>&quot;avocado&quot;</td></tr><tr><td>&quot;banana&quot;</td></tr><tr><td>&quot;beer&quot;</td></tr><tr><td>&quot;beetroot&quot;</td></tr><tr><td>&quot;bell pepper&quot;</td></tr><tr><td>&quot;biscuits&quot;</td></tr><tr><td>&quot;boisson-au-glucose-50g&quot;</td></tr><tr><td>&quot;bread-french-white-flour&quot;</td></tr><tr><td>&quot;bread-sourdough&quot;</td></tr><tr><td>&quot;bread-white&quot;</td></tr><tr><td>&quot;bread-whole-wheat&quot;</td></tr><tr><td>&quot;bread-wholemeal&quot;</td></tr><tr><td>&quot;broccoli&quot;</td></tr><tr><td>&quot;butter&quot;</td></tr><tr><td>&quot;cabbage&quot;</td></tr><tr><td>&quot;cabbage_white_1&quot;</td></tr><tr><td>&quot;capsicum&quot;</td></tr><tr><td>&quot;carrot&quot;</td></tr><tr><td>&quot;carrot_1&quot;</td></tr><tr><td>&quot;cauliflower&quot;</td></tr><tr><td>&quot;cheese&quot;</td></tr><tr><td>&quot;chicken&quot;</td></tr><tr><td>&quot;chilli pepper&quot;</td></tr><tr><td>&quot;chips-french-fries&quot;</td></tr><tr><td>&quot;coffee-with-caffeine&quot;</td></tr><tr><td>&quot;corn&quot;</td></tr><tr><td>&quot;croissant&quot;</td></tr><tr><td>&quot;cucumber&quot;</td></tr><tr><td>&quot;cucumber_1&quot;</td></tr><tr><td>&quot;cucumber_3&quot;</td></tr><tr><td>&quot;dark-chocolate&quot;</td></tr><tr><td>&quot;egg&quot;</td></tr><tr><td>&quot;eggplant&quot;</td></tr><tr><td>&quot;eggplant_violet_1&quot;</td></tr><tr><td>&quot;espresso-with-caffeine&quot;</td></tr><tr><td>&quot;french-beans&quot;</td></tr><tr><td>&quot;garlic&quot;</td></tr><tr><td>&quot;ginger&quot;</td></tr><tr><td>&quot;grapes&quot;</td></tr><tr><td>&quot;gruyere&quot;</td></tr><tr><td>&quot;ham-raw&quot;</td></tr><tr><td>&quot;hard-cheese&quot;</td></tr><tr><td>&quot;honey&quot;</td></tr><tr><td>&quot;jalepeno&quot;</td></tr><tr><td>&quot;jam&quot;</td></tr><tr><td>&quot;kiwi&quot;</td></tr><tr><td>&quot;leaf-spinach&quot;</td></tr><tr><td>&quot;lemon&quot;</td></tr><tr><td>&quot;lettuce&quot;</td></tr><tr><td>&quot;mandarine&quot;</td></tr><tr><td>&quot;mango&quot;</td></tr><tr><td>&quot;mayonnaise&quot;</td></tr><tr><td>&quot;mixed-nuts&quot;</td></tr><tr><td>&quot;mixed-salad-chopped-without-sauce&quot;</td></tr><tr><td>&quot;mixed-vegetables&quot;</td></tr><tr><td>&quot;onion&quot;</td></tr><tr><td>&quot;orange&quot;</td></tr><tr><td>&quot;paprika&quot;</td></tr><tr><td>&quot;parmesan&quot;</td></tr><tr><td>&quot;pasta-spaghetti&quot;</td></tr><tr><td>&quot;pear&quot;</td></tr><tr><td>&quot;pear_1&quot;</td></tr><tr><td>&quot;pear_3&quot;</td></tr><tr><td>&quot;peas&quot;</td></tr><tr><td>&quot;pickle&quot;</td></tr><tr><td>&quot;pineapple&quot;</td></tr><tr><td>&quot;pizza-margherita-baked&quot;</td></tr><tr><td>&quot;pomegranate&quot;</td></tr><tr><td>&quot;potato&quot;</td></tr><tr><td>&quot;potatoes-steamed&quot;</td></tr><tr><td>&quot;raddish&quot;</td></tr><tr><td>&quot;rice&quot;</td></tr><tr><td>&quot;salad-leaf-salad-green&quot;</td></tr><tr><td>&quot;salami&quot;</td></tr><tr><td>&quot;salmon&quot;</td></tr><tr><td>&quot;sauce-savoury&quot;</td></tr><tr><td>&quot;soft-cheese&quot;</td></tr><tr><td>&quot;soy beans&quot;</td></tr><tr><td>&quot;spinach&quot;</td></tr><tr><td>&quot;strawberries&quot;</td></tr><tr><td>&quot;sweet-pepper&quot;</td></tr><tr><td>&quot;sweetcorn&quot;</td></tr><tr><td>&quot;sweetpotato&quot;</td></tr><tr><td>&quot;tea&quot;</td></tr><tr><td>&quot;tea-green&quot;</td></tr><tr><td>&quot;tomato&quot;</td></tr><tr><td>&quot;tomato-sauce&quot;</td></tr><tr><td>&quot;turnip&quot;</td></tr><tr><td>&quot;water&quot;</td></tr><tr><td>&quot;water-mineral&quot;</td></tr><tr><td>&quot;watermelon&quot;</td></tr><tr><td>&quot;white-coffee-with-caffeine&quot;</td></tr><tr><td>&quot;wine-red&quot;</td></tr><tr><td>&quot;wine-white&quot;</td></tr><tr><td>&quot;zucchini&quot;</td></tr><tr><td>&quot;zucchini_1&quot;</td></tr><tr><td>&quot;zucchini_dark_1&quot;</td></tr></tbody></table></div>"
      ],
      "text/plain": [
       "shape: (159, 1)\n",
       "┌───────────────────────────────────┐\n",
       "│ ClassId                           │\n",
       "│ ---                               │\n",
       "│ str                               │\n",
       "╞═══════════════════════════════════╡\n",
       "│ Apple                             │\n",
       "│ Asparagus                         │\n",
       "│ Aubergine                         │\n",
       "│ Avocado                           │\n",
       "│ Banana                            │\n",
       "│ Cabbage                           │\n",
       "│ Carrots                           │\n",
       "│ Cucumber                          │\n",
       "│ Garlic                            │\n",
       "│ Ginger                            │\n",
       "│ Grape                             │\n",
       "│ Juice                             │\n",
       "│ Kiwi                              │\n",
       "│ Leek                              │\n",
       "│ Lemon                             │\n",
       "│ Lime                              │\n",
       "│ Mango                             │\n",
       "│ Melon                             │\n",
       "│ Milk                              │\n",
       "│ Mushroom                          │\n",
       "│ Nectarine                         │\n",
       "│ Oat-Milk                          │\n",
       "│ Oatghurt                          │\n",
       "│ Onion                             │\n",
       "│ Orange                            │\n",
       "│ Papaya                            │\n",
       "│ Passion-Fruit                     │\n",
       "│ Peach                             │\n",
       "│ Pear                              │\n",
       "│ Pepper                            │\n",
       "│ Pineapple                         │\n",
       "│ Plum                              │\n",
       "│ Pomegranate                       │\n",
       "│ Potato                            │\n",
       "│ Red-Beet                          │\n",
       "│ Red-Grapefruit                    │\n",
       "│ Satsumas                          │\n",
       "│ Sour-Cream                        │\n",
       "│ Sour-Milk                         │\n",
       "│ Soy-Milk                          │\n",
       "│ Soyghurt                          │\n",
       "│ Strawberry                        │\n",
       "│ Tomato                            │\n",
       "│ Yoghurt                           │\n",
       "│ Zucchini                          │\n",
       "│ almonds                           │\n",
       "│ apple                             │\n",
       "│ apple_6                           │\n",
       "│ apple_braeburn_1                  │\n",
       "│ apple_crimson_snow_1              │\n",
       "│ apple_golden_1                    │\n",
       "│ apple_golden_2                    │\n",
       "│ apple_golden_3                    │\n",
       "│ apple_granny_smith_1              │\n",
       "│ apple_hit_1                       │\n",
       "│ apple_pink_lady_1                 │\n",
       "│ apple_red_1                       │\n",
       "│ apple_red_2                       │\n",
       "│ apple_red_3                       │\n",
       "│ apple_red_delicios_1              │\n",
       "│ apple_red_yellow_1                │\n",
       "│ apple_rotten_1                    │\n",
       "│ avocado                           │\n",
       "│ banana                            │\n",
       "│ beer                              │\n",
       "│ beetroot                          │\n",
       "│ bell pepper                       │\n",
       "│ biscuits                          │\n",
       "│ boisson-au-glucose-50g            │\n",
       "│ bread-french-white-flour          │\n",
       "│ bread-sourdough                   │\n",
       "│ bread-white                       │\n",
       "│ bread-whole-wheat                 │\n",
       "│ bread-wholemeal                   │\n",
       "│ broccoli                          │\n",
       "│ butter                            │\n",
       "│ cabbage                           │\n",
       "│ cabbage_white_1                   │\n",
       "│ capsicum                          │\n",
       "│ carrot                            │\n",
       "│ carrot_1                          │\n",
       "│ cauliflower                       │\n",
       "│ cheese                            │\n",
       "│ chicken                           │\n",
       "│ chilli pepper                     │\n",
       "│ chips-french-fries                │\n",
       "│ coffee-with-caffeine              │\n",
       "│ corn                              │\n",
       "│ croissant                         │\n",
       "│ cucumber                          │\n",
       "│ cucumber_1                        │\n",
       "│ cucumber_3                        │\n",
       "│ dark-chocolate                    │\n",
       "│ egg                               │\n",
       "│ eggplant                          │\n",
       "│ eggplant_violet_1                 │\n",
       "│ espresso-with-caffeine            │\n",
       "│ french-beans                      │\n",
       "│ garlic                            │\n",
       "│ ginger                            │\n",
       "│ grapes                            │\n",
       "│ gruyere                           │\n",
       "│ ham-raw                           │\n",
       "│ hard-cheese                       │\n",
       "│ honey                             │\n",
       "│ jalepeno                          │\n",
       "│ jam                               │\n",
       "│ kiwi                              │\n",
       "│ leaf-spinach                      │\n",
       "│ lemon                             │\n",
       "│ lettuce                           │\n",
       "│ mandarine                         │\n",
       "│ mango                             │\n",
       "│ mayonnaise                        │\n",
       "│ mixed-nuts                        │\n",
       "│ mixed-salad-chopped-without-sauce │\n",
       "│ mixed-vegetables                  │\n",
       "│ onion                             │\n",
       "│ orange                            │\n",
       "│ paprika                           │\n",
       "│ parmesan                          │\n",
       "│ pasta-spaghetti                   │\n",
       "│ pear                              │\n",
       "│ pear_1                            │\n",
       "│ pear_3                            │\n",
       "│ peas                              │\n",
       "│ pickle                            │\n",
       "│ pineapple                         │\n",
       "│ pizza-margherita-baked            │\n",
       "│ pomegranate                       │\n",
       "│ potato                            │\n",
       "│ potatoes-steamed                  │\n",
       "│ raddish                           │\n",
       "│ rice                              │\n",
       "│ salad-leaf-salad-green            │\n",
       "│ salami                            │\n",
       "│ salmon                            │\n",
       "│ sauce-savoury                     │\n",
       "│ soft-cheese                       │\n",
       "│ soy beans                         │\n",
       "│ spinach                           │\n",
       "│ strawberries                      │\n",
       "│ sweet-pepper                      │\n",
       "│ sweetcorn                         │\n",
       "│ sweetpotato                       │\n",
       "│ tea                               │\n",
       "│ tea-green                         │\n",
       "│ tomato                            │\n",
       "│ tomato-sauce                      │\n",
       "│ turnip                            │\n",
       "│ water                             │\n",
       "│ water-mineral                     │\n",
       "│ watermelon                        │\n",
       "│ white-coffee-with-caffeine        │\n",
       "│ wine-red                          │\n",
       "│ wine-white                        │\n",
       "│ zucchini                          │\n",
       "│ zucchini_1                        │\n",
       "│ zucchini_dark_1                   │\n",
       "└───────────────────────────────────┘"
      ]
     },
     "execution_count": 6,
     "metadata": {},
     "output_type": "execute_result"
    }
   ],
   "source": [
    "unique_ingredients = final_df.unique().sort(\"ClassId\")\n",
    "unique_ingredients"
   ]
  }
 ],
 "metadata": {
  "kernelspec": {
   "display_name": "281-venv",
   "language": "python",
   "name": "python3"
  },
  "language_info": {
   "codemirror_mode": {
    "name": "ipython",
    "version": 3
   },
   "file_extension": ".py",
   "mimetype": "text/x-python",
   "name": "python",
   "nbconvert_exporter": "python",
   "pygments_lexer": "ipython3",
   "version": "3.11.7"
  }
 },
 "nbformat": 4,
 "nbformat_minor": 2
}
