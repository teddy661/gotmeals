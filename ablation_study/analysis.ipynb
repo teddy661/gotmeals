{
 "cells": [
  {
   "cell_type": "code",
   "execution_count": 1,
   "metadata": {},
   "outputs": [
    {
     "name": "stderr",
     "output_type": "stream",
     "text": [
      "2024-04-11 00:26:52.038820: E external/local_xla/xla/stream_executor/cuda/cuda_dnn.cc:9261] Unable to register cuDNN factory: Attempting to register factory for plugin cuDNN when one has already been registered\n",
      "2024-04-11 00:26:52.038871: E external/local_xla/xla/stream_executor/cuda/cuda_fft.cc:607] Unable to register cuFFT factory: Attempting to register factory for plugin cuFFT when one has already been registered\n",
      "2024-04-11 00:26:52.039711: E external/local_xla/xla/stream_executor/cuda/cuda_blas.cc:1515] Unable to register cuBLAS factory: Attempting to register factory for plugin cuBLAS when one has already been registered\n",
      "2024-04-11 00:26:52.045974: I tensorflow/core/platform/cpu_feature_guard.cc:182] This TensorFlow binary is optimized to use available CPU instructions in performance-critical operations.\n",
      "To enable the following instructions: AVX2 FMA, in other operations, rebuild TensorFlow with the appropriate compiler flags.\n"
     ]
    }
   ],
   "source": [
    "import pickle\n",
    "from collections import Counter\n",
    "from datetime import datetime\n",
    "from pathlib import Path\n",
    "\n",
    "import joblib\n",
    "import keras\n",
    "import matplotlib.pyplot as plt\n",
    "import numpy as np\n",
    "import polars as pl\n",
    "import seaborn as sns\n",
    "import tensorflow as tf\n",
    "from sklearn.metrics import (\n",
    "    accuracy_score,\n",
    "    classification_report,\n",
    "    f1_score,\n",
    "    precision_score,\n",
    "    recall_score,\n",
    ")\n",
    "\n",
    "from utils import *"
   ]
  },
  {
   "cell_type": "code",
   "execution_count": 2,
   "metadata": {},
   "outputs": [
    {
     "name": "stdout",
     "output_type": "stream",
     "text": [
      "No configuration file found. Using defaults.\n"
     ]
    }
   ],
   "source": [
    "# Set up the configuration for the polars library\n",
    "cfg = pl.Config()\n",
    "cfg.set_tbl_rows(100)\n",
    "cfg.set_tbl_width_chars(200)\n",
    "cfg.set_fmt_str_lengths(200)\n",
    "\n",
    "pc = ProjectConfig()\n",
    "BASE_TRAINING_MODEL_DIR = pc.project_root_dir.joinpath(\"ablation_study\").joinpath(\n",
    "    \"model_saves_ab\"\n",
    ")\n",
    "MODEL_NAMES = [\n",
    "    \"EfficientNetV2M_SINGLE_LAYER\",\n",
    "    \"EfficientNetV2M_FOUR_LAYER\",\n",
    "    \"EfficientNetV2M_THREE_LAYER\",\n",
    "    \"EfficientNetV2M_TWO_LAYER_WIDE_RELU\",\n",
    "    \"EfficientNetV2M_TWO_LAYER_WIDE_SWISH\",\n",
    "]\n",
    "BASE_MODEL_PATHS = []\n",
    "CLASS_LIST_PATHS = []\n",
    "BASE_TRAINING_TIME_PATHS = []\n",
    "FINE_TUNED_TRAINING_TIME_PATHS = []\n",
    "for model_name in MODEL_NAMES:\n",
    "    BASE_MODEL_PATHS.append(BASE_TRAINING_MODEL_DIR.joinpath(model_name + \".h5\"))\n",
    "    CLASS_LIST_PATHS.append(\n",
    "        pc.project_root_dir.joinpath(\"ablation_study\").joinpath(\n",
    "            f\"class_list_{model_name}.lzma\"\n",
    "        )\n",
    "    )\n",
    "    BASE_TRAINING_TIME_PATHS.append(\n",
    "        BASE_TRAINING_MODEL_DIR.joinpath(f\"{model_name}_TRAINING_TIME.lzma\")\n",
    "    )"
   ]
  },
  {
   "cell_type": "code",
   "execution_count": 3,
   "metadata": {},
   "outputs": [
    {
     "name": "stdout",
     "output_type": "stream",
     "text": [
      "Test data found, loading\n",
      "Found 5698 files belonging to 69 classes.\n"
     ]
    },
    {
     "name": "stderr",
     "output_type": "stream",
     "text": [
      "2024-04-11 00:26:55.423030: I external/local_xla/xla/stream_executor/cuda/cuda_executor.cc:887] could not open file to read NUMA node: /sys/bus/pci/devices/0000:01:00.0/numa_node\n",
      "Your kernel may have been built without NUMA support.\n",
      "2024-04-11 00:26:55.428093: I external/local_xla/xla/stream_executor/cuda/cuda_executor.cc:887] could not open file to read NUMA node: /sys/bus/pci/devices/0000:01:00.0/numa_node\n",
      "Your kernel may have been built without NUMA support.\n",
      "2024-04-11 00:26:55.428442: I external/local_xla/xla/stream_executor/cuda/cuda_executor.cc:887] could not open file to read NUMA node: /sys/bus/pci/devices/0000:01:00.0/numa_node\n",
      "Your kernel may have been built without NUMA support.\n",
      "2024-04-11 00:26:55.429336: I external/local_xla/xla/stream_executor/cuda/cuda_executor.cc:887] could not open file to read NUMA node: /sys/bus/pci/devices/0000:01:00.0/numa_node\n",
      "Your kernel may have been built without NUMA support.\n",
      "2024-04-11 00:26:55.429583: I external/local_xla/xla/stream_executor/cuda/cuda_executor.cc:887] could not open file to read NUMA node: /sys/bus/pci/devices/0000:01:00.0/numa_node\n",
      "Your kernel may have been built without NUMA support.\n",
      "2024-04-11 00:26:55.429778: I external/local_xla/xla/stream_executor/cuda/cuda_executor.cc:887] could not open file to read NUMA node: /sys/bus/pci/devices/0000:01:00.0/numa_node\n",
      "Your kernel may have been built without NUMA support.\n",
      "2024-04-11 00:26:55.536435: I external/local_xla/xla/stream_executor/cuda/cuda_executor.cc:887] could not open file to read NUMA node: /sys/bus/pci/devices/0000:01:00.0/numa_node\n",
      "Your kernel may have been built without NUMA support.\n",
      "2024-04-11 00:26:55.536670: I external/local_xla/xla/stream_executor/cuda/cuda_executor.cc:887] could not open file to read NUMA node: /sys/bus/pci/devices/0000:01:00.0/numa_node\n",
      "Your kernel may have been built without NUMA support.\n",
      "2024-04-11 00:26:55.536684: I tensorflow/core/common_runtime/gpu/gpu_device.cc:2022] Could not identify NUMA node of platform GPU id 0, defaulting to 0.  Your kernel may not have been built with NUMA support.\n",
      "2024-04-11 00:26:55.536868: I external/local_xla/xla/stream_executor/cuda/cuda_executor.cc:887] could not open file to read NUMA node: /sys/bus/pci/devices/0000:01:00.0/numa_node\n",
      "Your kernel may have been built without NUMA support.\n",
      "2024-04-11 00:26:55.536891: I tensorflow/core/common_runtime/gpu/gpu_device.cc:1929] Created device /job:localhost/replica:0/task:0/device:GPU:0 with 9057 MB memory:  -> device: 0, name: NVIDIA GeForce RTX 2080 Ti, pci bus id: 0000:01:00.0, compute capability: 7.5\n"
     ]
    }
   ],
   "source": [
    "TEST_DATA = Path(\n",
    "    \"/data/sampled_test_data_200\"\n",
    ")  # Force Override for Docker predict on GPU\n",
    "if TEST_DATA.exists() and TEST_DATA.is_dir():\n",
    "    print(\"Test data found, loading\")\n",
    "    test_data = tf.keras.utils.image_dataset_from_directory(\n",
    "        TEST_DATA,\n",
    "        labels=\"inferred\",\n",
    "        label_mode=\"int\",\n",
    "        batch_size=32,\n",
    "        image_size=(224, 224),\n",
    "        shuffle=False,\n",
    "    )\n",
    "else:\n",
    "    print(\"No test data found, where did it go?\")"
   ]
  },
  {
   "cell_type": "code",
   "execution_count": 4,
   "metadata": {},
   "outputs": [
    {
     "name": "stdout",
     "output_type": "stream",
     "text": [
      "Model /tf/notebooks/gotmeals/ablation_study/model_saves_ab/EfficientNetV2M_SINGLE_LAYER.h5 found, loading\n",
      "Model /tf/notebooks/gotmeals/ablation_study/model_saves_ab/EfficientNetV2M_SINGLE_LAYER.h5 loaded\n",
      "Class list found at path: /tf/notebooks/gotmeals/ablation_study/class_list_EfficientNetV2M_SINGLE_LAYER.lzma, loading\n",
      "Class list loaded\n"
     ]
    },
    {
     "name": "stderr",
     "output_type": "stream",
     "text": [
      "2024-04-11 00:27:13.803959: I external/local_xla/xla/stream_executor/cuda/cuda_dnn.cc:454] Loaded cuDNN version 8906\n"
     ]
    },
    {
     "name": "stdout",
     "output_type": "stream",
     "text": [
      "179/179 [==============================] - 23s 97ms/step\n",
      "Deleting Model <keras.src.engine.functional.Functional object at 0x7f694ed26c90>\n",
      "Model /tf/notebooks/gotmeals/ablation_study/model_saves_ab/EfficientNetV2M_FOUR_LAYER.h5 found, loading\n",
      "Model /tf/notebooks/gotmeals/ablation_study/model_saves_ab/EfficientNetV2M_FOUR_LAYER.h5 loaded\n",
      "Class list found at path: /tf/notebooks/gotmeals/ablation_study/class_list_EfficientNetV2M_FOUR_LAYER.lzma, loading\n",
      "Class list loaded\n",
      "179/179 [==============================] - 19s 87ms/step\n",
      "Deleting Model <keras.src.engine.functional.Functional object at 0x7f694f5852d0>\n",
      "Model /tf/notebooks/gotmeals/ablation_study/model_saves_ab/EfficientNetV2M_THREE_LAYER.h5 found, loading\n",
      "Model /tf/notebooks/gotmeals/ablation_study/model_saves_ab/EfficientNetV2M_THREE_LAYER.h5 loaded\n",
      "Class list found at path: /tf/notebooks/gotmeals/ablation_study/class_list_EfficientNetV2M_THREE_LAYER.lzma, loading\n",
      "Class list loaded\n",
      "179/179 [==============================] - 20s 88ms/step\n",
      "Deleting Model <keras.src.engine.functional.Functional object at 0x7f694f778410>\n",
      "Model /tf/notebooks/gotmeals/ablation_study/model_saves_ab/EfficientNetV2M_TWO_LAYER_WIDE_RELU.h5 found, loading\n",
      "Model /tf/notebooks/gotmeals/ablation_study/model_saves_ab/EfficientNetV2M_TWO_LAYER_WIDE_RELU.h5 loaded\n",
      "Class list found at path: /tf/notebooks/gotmeals/ablation_study/class_list_EfficientNetV2M_TWO_LAYER_WIDE_RELU.lzma, loading\n",
      "Class list loaded\n",
      "179/179 [==============================] - 20s 87ms/step\n",
      "Deleting Model <keras.src.engine.functional.Functional object at 0x7f694db7d6d0>\n",
      "Model /tf/notebooks/gotmeals/ablation_study/model_saves_ab/EfficientNetV2M_TWO_LAYER_WIDE_SWISH.h5 found, loading\n",
      "Model /tf/notebooks/gotmeals/ablation_study/model_saves_ab/EfficientNetV2M_TWO_LAYER_WIDE_SWISH.h5 loaded\n",
      "Class list found at path: /tf/notebooks/gotmeals/ablation_study/class_list_EfficientNetV2M_TWO_LAYER_WIDE_SWISH.lzma, loading\n",
      "Class list loaded\n",
      "179/179 [==============================] - 19s 87ms/step\n",
      "Deleting Model <keras.src.engine.functional.Functional object at 0x7f694cc9d6d0>\n"
     ]
    },
    {
     "ename": "ComputeError",
     "evalue": "datatype 39m 12s 877216µs cannot be written to csv",
     "output_type": "error",
     "traceback": [
      "\u001b[0;31m---------------------------------------------------------------------------\u001b[0m",
      "\u001b[0;31mComputeError\u001b[0m                              Traceback (most recent call last)",
      "\u001b[0;32m/tmp/ipykernel_15560/1327748987.py\u001b[0m in \u001b[0;36m?\u001b[0;34m()\u001b[0m\n\u001b[1;32m     46\u001b[0m     \u001b[0mprint\u001b[0m\u001b[0;34m(\u001b[0m\u001b[0;34mf\"Deleting Model {tf_model}\"\u001b[0m\u001b[0;34m)\u001b[0m\u001b[0;34m\u001b[0m\u001b[0;34m\u001b[0m\u001b[0m\n\u001b[1;32m     47\u001b[0m     \u001b[0;32mdel\u001b[0m \u001b[0mtf_model\u001b[0m\u001b[0;34m\u001b[0m\u001b[0;34m\u001b[0m\u001b[0m\n\u001b[1;32m     48\u001b[0m     \u001b[0mtf\u001b[0m\u001b[0;34m.\u001b[0m\u001b[0mkeras\u001b[0m\u001b[0;34m.\u001b[0m\u001b[0mbackend\u001b[0m\u001b[0;34m.\u001b[0m\u001b[0mclear_session\u001b[0m\u001b[0;34m(\u001b[0m\u001b[0;34m)\u001b[0m\u001b[0;34m\u001b[0m\u001b[0;34m\u001b[0m\u001b[0m\n\u001b[1;32m     49\u001b[0m \u001b[0mresults_df\u001b[0m \u001b[0;34m=\u001b[0m \u001b[0mpl\u001b[0m\u001b[0;34m.\u001b[0m\u001b[0mDataFrame\u001b[0m\u001b[0;34m(\u001b[0m\u001b[0mresults\u001b[0m\u001b[0;34m)\u001b[0m\u001b[0;34m\u001b[0m\u001b[0;34m\u001b[0m\u001b[0m\n\u001b[0;32m---> 50\u001b[0;31m results_df.write_csv(\n\u001b[0m\u001b[1;32m     51\u001b[0m     \u001b[0mpc\u001b[0m\u001b[0;34m.\u001b[0m\u001b[0mproject_root_dir\u001b[0m\u001b[0;34m.\u001b[0m\u001b[0mjoinpath\u001b[0m\u001b[0;34m(\u001b[0m\u001b[0;34m\"ablation_study\"\u001b[0m\u001b[0;34m)\u001b[0m\u001b[0;34m.\u001b[0m\u001b[0mjoinpath\u001b[0m\u001b[0;34m(\u001b[0m\u001b[0;34m\"ablation_results.csv\"\u001b[0m\u001b[0;34m)\u001b[0m\u001b[0;34m\u001b[0m\u001b[0;34m\u001b[0m\u001b[0m\n\u001b[1;32m     52\u001b[0m )\n\u001b[1;32m     53\u001b[0m \u001b[0mresults_df\u001b[0m\u001b[0;34m\u001b[0m\u001b[0;34m\u001b[0m\u001b[0m\n",
      "\u001b[0;32m/app/venv/lib/python3.11/site-packages/polars/_utils/deprecation.py\u001b[0m in \u001b[0;36m?\u001b[0;34m(*args, **kwargs)\u001b[0m\n\u001b[1;32m    130\u001b[0m         \u001b[0;32mdef\u001b[0m \u001b[0mwrapper\u001b[0m\u001b[0;34m(\u001b[0m\u001b[0;34m*\u001b[0m\u001b[0margs\u001b[0m\u001b[0;34m:\u001b[0m \u001b[0mP\u001b[0m\u001b[0;34m.\u001b[0m\u001b[0margs\u001b[0m\u001b[0;34m,\u001b[0m \u001b[0;34m**\u001b[0m\u001b[0mkwargs\u001b[0m\u001b[0;34m:\u001b[0m \u001b[0mP\u001b[0m\u001b[0;34m.\u001b[0m\u001b[0mkwargs\u001b[0m\u001b[0;34m)\u001b[0m \u001b[0;34m->\u001b[0m \u001b[0mT\u001b[0m\u001b[0;34m:\u001b[0m\u001b[0;34m\u001b[0m\u001b[0;34m\u001b[0m\u001b[0m\n\u001b[1;32m    131\u001b[0m             _rename_keyword_argument(\n\u001b[1;32m    132\u001b[0m                 \u001b[0mold_name\u001b[0m\u001b[0;34m,\u001b[0m \u001b[0mnew_name\u001b[0m\u001b[0;34m,\u001b[0m \u001b[0mkwargs\u001b[0m\u001b[0;34m,\u001b[0m \u001b[0mfunction\u001b[0m\u001b[0;34m.\u001b[0m\u001b[0m__name__\u001b[0m\u001b[0;34m,\u001b[0m \u001b[0mversion\u001b[0m\u001b[0;34m\u001b[0m\u001b[0;34m\u001b[0m\u001b[0m\n\u001b[1;32m    133\u001b[0m             )\n\u001b[0;32m--> 134\u001b[0;31m             \u001b[0;32mreturn\u001b[0m \u001b[0mfunction\u001b[0m\u001b[0;34m(\u001b[0m\u001b[0;34m*\u001b[0m\u001b[0margs\u001b[0m\u001b[0;34m,\u001b[0m \u001b[0;34m**\u001b[0m\u001b[0mkwargs\u001b[0m\u001b[0;34m)\u001b[0m\u001b[0;34m\u001b[0m\u001b[0;34m\u001b[0m\u001b[0m\n\u001b[0m",
      "\u001b[0;32m/app/venv/lib/python3.11/site-packages/polars/_utils/deprecation.py\u001b[0m in \u001b[0;36m?\u001b[0;34m(*args, **kwargs)\u001b[0m\n\u001b[1;32m    130\u001b[0m         \u001b[0;32mdef\u001b[0m \u001b[0mwrapper\u001b[0m\u001b[0;34m(\u001b[0m\u001b[0;34m*\u001b[0m\u001b[0margs\u001b[0m\u001b[0;34m:\u001b[0m \u001b[0mP\u001b[0m\u001b[0;34m.\u001b[0m\u001b[0margs\u001b[0m\u001b[0;34m,\u001b[0m \u001b[0;34m**\u001b[0m\u001b[0mkwargs\u001b[0m\u001b[0;34m:\u001b[0m \u001b[0mP\u001b[0m\u001b[0;34m.\u001b[0m\u001b[0mkwargs\u001b[0m\u001b[0;34m)\u001b[0m \u001b[0;34m->\u001b[0m \u001b[0mT\u001b[0m\u001b[0;34m:\u001b[0m\u001b[0;34m\u001b[0m\u001b[0;34m\u001b[0m\u001b[0m\n\u001b[1;32m    131\u001b[0m             _rename_keyword_argument(\n\u001b[1;32m    132\u001b[0m                 \u001b[0mold_name\u001b[0m\u001b[0;34m,\u001b[0m \u001b[0mnew_name\u001b[0m\u001b[0;34m,\u001b[0m \u001b[0mkwargs\u001b[0m\u001b[0;34m,\u001b[0m \u001b[0mfunction\u001b[0m\u001b[0;34m.\u001b[0m\u001b[0m__name__\u001b[0m\u001b[0;34m,\u001b[0m \u001b[0mversion\u001b[0m\u001b[0;34m\u001b[0m\u001b[0;34m\u001b[0m\u001b[0m\n\u001b[1;32m    133\u001b[0m             )\n\u001b[0;32m--> 134\u001b[0;31m             \u001b[0;32mreturn\u001b[0m \u001b[0mfunction\u001b[0m\u001b[0;34m(\u001b[0m\u001b[0;34m*\u001b[0m\u001b[0margs\u001b[0m\u001b[0;34m,\u001b[0m \u001b[0;34m**\u001b[0m\u001b[0mkwargs\u001b[0m\u001b[0;34m)\u001b[0m\u001b[0;34m\u001b[0m\u001b[0;34m\u001b[0m\u001b[0m\n\u001b[0m",
      "\u001b[0;32m/app/venv/lib/python3.11/site-packages/polars/dataframe/frame.py\u001b[0m in \u001b[0;36m?\u001b[0;34m(self, file, include_bom, include_header, separator, line_terminator, quote_char, batch_size, datetime_format, date_format, time_format, float_precision, null_value, quote_style)\u001b[0m\n\u001b[1;32m   2123\u001b[0m             \u001b[0mfile\u001b[0m \u001b[0;34m=\u001b[0m \u001b[0mnormalize_filepath\u001b[0m\u001b[0;34m(\u001b[0m\u001b[0mfile\u001b[0m\u001b[0;34m)\u001b[0m\u001b[0;34m\u001b[0m\u001b[0;34m\u001b[0m\u001b[0m\n\u001b[1;32m   2124\u001b[0m         \u001b[0;32melif\u001b[0m \u001b[0misinstance\u001b[0m\u001b[0;34m(\u001b[0m\u001b[0mfile\u001b[0m\u001b[0;34m,\u001b[0m \u001b[0mTextIOWrapper\u001b[0m\u001b[0;34m)\u001b[0m\u001b[0;34m:\u001b[0m\u001b[0;34m\u001b[0m\u001b[0;34m\u001b[0m\u001b[0m\n\u001b[1;32m   2125\u001b[0m             \u001b[0mfile\u001b[0m \u001b[0;34m=\u001b[0m \u001b[0mcast\u001b[0m\u001b[0;34m(\u001b[0m\u001b[0mTextIOWrapper\u001b[0m\u001b[0;34m,\u001b[0m \u001b[0mfile\u001b[0m\u001b[0;34m.\u001b[0m\u001b[0mbuffer\u001b[0m\u001b[0;34m)\u001b[0m\u001b[0;34m\u001b[0m\u001b[0;34m\u001b[0m\u001b[0m\n\u001b[1;32m   2126\u001b[0m \u001b[0;34m\u001b[0m\u001b[0m\n\u001b[0;32m-> 2127\u001b[0;31m         self._df.write_csv(\n\u001b[0m\u001b[1;32m   2128\u001b[0m             \u001b[0mfile\u001b[0m\u001b[0;34m,\u001b[0m\u001b[0;34m\u001b[0m\u001b[0;34m\u001b[0m\u001b[0m\n\u001b[1;32m   2129\u001b[0m             \u001b[0minclude_bom\u001b[0m\u001b[0;34m,\u001b[0m\u001b[0;34m\u001b[0m\u001b[0;34m\u001b[0m\u001b[0m\n\u001b[1;32m   2130\u001b[0m             \u001b[0minclude_header\u001b[0m\u001b[0;34m,\u001b[0m\u001b[0;34m\u001b[0m\u001b[0;34m\u001b[0m\u001b[0m\n",
      "\u001b[0;31mComputeError\u001b[0m: datatype 39m 12s 877216µs cannot be written to csv"
     ]
    }
   ],
   "source": [
    "results = []\n",
    "\n",
    "for i, model_path in enumerate(BASE_MODEL_PATHS):\n",
    "    if model_path.exists():\n",
    "        print(f\"Model {model_path} found, loading\")\n",
    "        tf_model = tf.keras.models.load_model(model_path)\n",
    "        tf_model.trainable = False\n",
    "        print(f\"Model {model_path} loaded\")\n",
    "    else:\n",
    "        print(f\"Model not found at path: {model_path}\")\n",
    "    if CLASS_LIST_PATHS[i].exists():\n",
    "        print(f\"Class list found at path: {CLASS_LIST_PATHS[i]}, loading\")\n",
    "        class_list = joblib.load(CLASS_LIST_PATHS[i])\n",
    "        print(f\"Class list loaded\")\n",
    "\n",
    "    start_predict = datetime.now()\n",
    "    predictions = tf_model.predict(test_data)\n",
    "    joblib.dump(\n",
    "        predictions,\n",
    "        BASE_TRAINING_MODEL_DIR.joinpath(f\"{MODEL_NAMES[i]}_predictions.lzma\"),\n",
    "    )\n",
    "    end_predict = datetime.now()\n",
    "    prediction_time = end_predict - start_predict\n",
    "    predicted_classes = np.argmax(predictions, axis=-1)\n",
    "    true_labels = []\n",
    "    for images, true_label in test_data:\n",
    "        true_labels.extend(true_label)\n",
    "    all_predictions = np.array(predicted_classes)\n",
    "    all_true_labels = np.array(true_labels)\n",
    "    precision = precision_score(all_true_labels, all_predictions, average=\"weighted\")\n",
    "    recall = recall_score(all_true_labels, all_predictions, average=\"weighted\")\n",
    "    accuracy = accuracy_score(all_true_labels, all_predictions)\n",
    "    f1 = f1_score(all_true_labels, all_predictions, average=\"weighted\")\n",
    "    base_training_time = joblib.load(BASE_TRAINING_TIME_PATHS[i])\n",
    "    results.append(\n",
    "        {\n",
    "            \"model\": MODEL_NAMES[i],\n",
    "            \"base_training_time\": base_training_time,\n",
    "            \"prediction_time\": prediction_time,\n",
    "            \"precision\": precision,\n",
    "            \"recall\": recall,\n",
    "            \"accuracy\": accuracy,\n",
    "            \"f1\": f1,\n",
    "        }\n",
    "    )\n",
    "    print(f\"Deleting Model {tf_model}\")\n",
    "    del tf_model\n",
    "    tf.keras.backend.clear_session()\n"
   ]
  },
  {
   "cell_type": "code",
   "execution_count": 5,
   "metadata": {},
   "outputs": [
    {
     "data": {
      "text/html": [
       "<div><style>\n",
       ".dataframe > thead > tr,\n",
       ".dataframe > tbody > tr {\n",
       "  text-align: right;\n",
       "  white-space: pre-wrap;\n",
       "}\n",
       "</style>\n",
       "<small>shape: (5, 7)</small><table border=\"1\" class=\"dataframe\"><thead><tr><th>model</th><th>base_training_time</th><th>prediction_time</th><th>precision</th><th>recall</th><th>accuracy</th><th>f1</th></tr><tr><td>str</td><td>duration[μs]</td><td>duration[μs]</td><td>f64</td><td>f64</td><td>f64</td><td>f64</td></tr></thead><tbody><tr><td>&quot;EfficientNetV2M_SINGLE_LAYER&quot;</td><td>39m 12s 877216µs</td><td>23s 844807µs</td><td>0.904781</td><td>0.896104</td><td>0.896104</td><td>0.898334</td></tr><tr><td>&quot;EfficientNetV2M_FOUR_LAYER&quot;</td><td>1h 51m 29s 842686µs</td><td>19s 895671µs</td><td>0.890976</td><td>0.875395</td><td>0.875395</td><td>0.879516</td></tr><tr><td>&quot;EfficientNetV2M_THREE_LAYER&quot;</td><td>1h 25m 50s 791347µs</td><td>20s 125556µs</td><td>0.906318</td><td>0.897332</td><td>0.897332</td><td>0.899683</td></tr><tr><td>&quot;EfficientNetV2M_TWO_LAYER_WIDE_RELU&quot;</td><td>1h 1m 54s 946113µs</td><td>20s 80483µs</td><td>0.911417</td><td>0.902948</td><td>0.902948</td><td>0.905454</td></tr><tr><td>&quot;EfficientNetV2M_TWO_LAYER_WIDE_SWISH&quot;</td><td>58m 19s 39618µs</td><td>19s 760209µs</td><td>0.911452</td><td>0.904352</td><td>0.904352</td><td>0.906264</td></tr></tbody></table></div>"
      ],
      "text/plain": [
       "shape: (5, 7)\n",
       "┌──────────────────────────────────────┬─────────────────────┬─────────────────┬───────────┬──────────┬──────────┬──────────┐\n",
       "│ model                                ┆ base_training_time  ┆ prediction_time ┆ precision ┆ recall   ┆ accuracy ┆ f1       │\n",
       "│ ---                                  ┆ ---                 ┆ ---             ┆ ---       ┆ ---      ┆ ---      ┆ ---      │\n",
       "│ str                                  ┆ duration[μs]        ┆ duration[μs]    ┆ f64       ┆ f64      ┆ f64      ┆ f64      │\n",
       "╞══════════════════════════════════════╪═════════════════════╪═════════════════╪═══════════╪══════════╪══════════╪══════════╡\n",
       "│ EfficientNetV2M_SINGLE_LAYER         ┆ 39m 12s 877216µs    ┆ 23s 844807µs    ┆ 0.904781  ┆ 0.896104 ┆ 0.896104 ┆ 0.898334 │\n",
       "│ EfficientNetV2M_FOUR_LAYER           ┆ 1h 51m 29s 842686µs ┆ 19s 895671µs    ┆ 0.890976  ┆ 0.875395 ┆ 0.875395 ┆ 0.879516 │\n",
       "│ EfficientNetV2M_THREE_LAYER          ┆ 1h 25m 50s 791347µs ┆ 20s 125556µs    ┆ 0.906318  ┆ 0.897332 ┆ 0.897332 ┆ 0.899683 │\n",
       "│ EfficientNetV2M_TWO_LAYER_WIDE_RELU  ┆ 1h 1m 54s 946113µs  ┆ 20s 80483µs     ┆ 0.911417  ┆ 0.902948 ┆ 0.902948 ┆ 0.905454 │\n",
       "│ EfficientNetV2M_TWO_LAYER_WIDE_SWISH ┆ 58m 19s 39618µs     ┆ 19s 760209µs    ┆ 0.911452  ┆ 0.904352 ┆ 0.904352 ┆ 0.906264 │\n",
       "└──────────────────────────────────────┴─────────────────────┴─────────────────┴───────────┴──────────┴──────────┴──────────┘"
      ]
     },
     "execution_count": 5,
     "metadata": {},
     "output_type": "execute_result"
    }
   ],
   "source": [
    "results_df = pl.DataFrame(results)\n",
    "results_df"
   ]
  },
  {
   "cell_type": "code",
   "execution_count": 6,
   "metadata": {},
   "outputs": [],
   "source": [
    "results_df.write_parquet(\"alblation_study_results.parquet\")"
   ]
  }
 ],
 "metadata": {
  "kernelspec": {
   "display_name": "281-venv",
   "language": "python",
   "name": "python3"
  },
  "language_info": {
   "codemirror_mode": {
    "name": "ipython",
    "version": 3
   },
   "file_extension": ".py",
   "mimetype": "text/x-python",
   "name": "python",
   "nbconvert_exporter": "python",
   "pygments_lexer": "ipython3",
   "version": "3.11.8"
  }
 },
 "nbformat": 4,
 "nbformat_minor": 2
}
