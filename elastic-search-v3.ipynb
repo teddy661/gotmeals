{
 "cells": [
  {
   "cell_type": "code",
   "execution_count": 1,
   "metadata": {},
   "outputs": [],
   "source": [
    "#Import the libraries\n",
    "#*NEW*\n",
    "\n",
    "#1. Download the following into your environment\n",
    "\n",
    "# !pip install spacy --> Requires numpy ==1.21\n",
    "# pip install --upgrade click\n",
    "# python -m spacy download en_core_web_sm\n",
    "\n",
    "#2. \n",
    "import spacy\n",
    "\n",
    "# Load the English language model\n",
    "nlp = spacy.load(\"en_core_web_sm\")\n",
    "\n",
    "#3. Add in code to lemmatize user input\n",
    "\n",
    "\n",
    "#2. Add the 'boost' list\n",
    "#3. Add in the updated query -- NER vs ingredients"
   ]
  },
  {
   "cell_type": "code",
   "execution_count": null,
   "metadata": {},
   "outputs": [],
   "source": [
    "\n"
   ]
  },
  {
   "cell_type": "code",
   "execution_count": 2,
   "metadata": {},
   "outputs": [],
   "source": [
    "import pandas as pd"
   ]
  },
  {
   "cell_type": "code",
   "execution_count": 3,
   "metadata": {},
   "outputs": [
    {
     "data": {
      "text/plain": [
       "{'name': '6575549c42c0',\n",
       " 'cluster_name': 'docker-cluster',\n",
       " 'cluster_uuid': 'I8vgNl59S2GL9tOzyMBa7Q',\n",
       " 'version': {'number': '8.7.0',\n",
       "  'build_flavor': 'default',\n",
       "  'build_type': 'docker',\n",
       "  'build_hash': '09520b59b6bc1057340b55750186466ea715e30e',\n",
       "  'build_date': '2023-03-27T16:31:09.816451435Z',\n",
       "  'build_snapshot': False,\n",
       "  'lucene_version': '9.5.0',\n",
       "  'minimum_wire_compatibility_version': '7.17.0',\n",
       "  'minimum_index_compatibility_version': '7.0.0'},\n",
       " 'tagline': 'You Know, for Search'}"
      ]
     },
     "execution_count": 3,
     "metadata": {},
     "output_type": "execute_result"
    }
   ],
   "source": [
    "from elasticsearch import Elasticsearch\n",
    "from elasticsearch.helpers import bulk\n",
    "\n",
    "\n",
    "es = Elasticsearch(\"http://localhost:9200\")\n",
    "es.info().body"
   ]
  },
  {
   "cell_type": "code",
   "execution_count": 4,
   "metadata": {},
   "outputs": [],
   "source": [
    "#Load the data\n",
    "df = (pd.read_csv(\"recipe_dataset_cleaned_v4.csv\")\n",
    "     .dropna()\n",
    "     .sample(5000, random_state=42)\n",
    "     .reset_index()\n",
    "     )"
   ]
  },
  {
   "cell_type": "code",
   "execution_count": 5,
   "metadata": {},
   "outputs": [
    {
     "data": {
      "text/html": [
       "<div>\n",
       "<style scoped>\n",
       "    .dataframe tbody tr th:only-of-type {\n",
       "        vertical-align: middle;\n",
       "    }\n",
       "\n",
       "    .dataframe tbody tr th {\n",
       "        vertical-align: top;\n",
       "    }\n",
       "\n",
       "    .dataframe thead th {\n",
       "        text-align: right;\n",
       "    }\n",
       "</style>\n",
       "<table border=\"1\" class=\"dataframe\">\n",
       "  <thead>\n",
       "    <tr style=\"text-align: right;\">\n",
       "      <th></th>\n",
       "      <th>index</th>\n",
       "      <th>title</th>\n",
       "      <th>ingredients</th>\n",
       "      <th>directions</th>\n",
       "      <th>link</th>\n",
       "      <th>source</th>\n",
       "      <th>NER</th>\n",
       "      <th>cleaned_NER</th>\n",
       "    </tr>\n",
       "  </thead>\n",
       "  <tbody>\n",
       "    <tr>\n",
       "      <th>0</th>\n",
       "      <td>1116810</td>\n",
       "      <td>Tex-Mex Corn On The Cob</td>\n",
       "      <td>[\"12 small ears fresh corn on the cob (about 6...</td>\n",
       "      <td>[\"Place corn in a Dutch oven or kettle; cover ...</td>\n",
       "      <td>www.tasteofhome.com/recipes/tex-mex-corn-on-th...</td>\n",
       "      <td>Gathered</td>\n",
       "      <td>[\"corn\", \"fresh cilantro\", \"chili powder\", \"li...</td>\n",
       "      <td>['corn', 'lime']</td>\n",
       "    </tr>\n",
       "    <tr>\n",
       "      <th>1</th>\n",
       "      <td>1137989</td>\n",
       "      <td>Cheddar Herb Snacks</td>\n",
       "      <td>[\"1 cup shredded cheddar cheese\", \"1/2 cup but...</td>\n",
       "      <td>[\"In a large bowl, combine the first six ingre...</td>\n",
       "      <td>www.tasteofhome.com/recipes/cheddar-herb-snacks/</td>\n",
       "      <td>Gathered</td>\n",
       "      <td>[\"cheddar cheese\", \"butter\", \"parsley\", \"chive...</td>\n",
       "      <td>['cheese', 'chives', 'pimientos', 'green onion...</td>\n",
       "    </tr>\n",
       "    <tr>\n",
       "      <th>2</th>\n",
       "      <td>933189</td>\n",
       "      <td>Spice-Marinated And Grilled Lamb Chops</td>\n",
       "      <td>[\"1/2 teaspoon fennel seeds\", \"1 serrano chile...</td>\n",
       "      <td>[\"Toast fennel seeds in a dry small skillet ov...</td>\n",
       "      <td>www.epicurious.com/recipes/food/views/indian-s...</td>\n",
       "      <td>Gathered</td>\n",
       "      <td>[\"fennel seeds\", \"serrano chile\", \"ginger\", \"g...</td>\n",
       "      <td>['fennel seeds', 'serrano chile', 'cr\\\\u00e8me...</td>\n",
       "    </tr>\n",
       "    <tr>\n",
       "      <th>3</th>\n",
       "      <td>1488091</td>\n",
       "      <td>Dow Sah Bow Cha Siu Bow Recipe</td>\n",
       "      <td>[\"1 package instant dry yeast\", \"1 3/4 c. hot ...</td>\n",
       "      <td>[\"First, make the dough.\", \"This dough is good...</td>\n",
       "      <td>cookeatshare.com/recipes/dow-sah-bow-cha-siu-b...</td>\n",
       "      <td>Recipes1M</td>\n",
       "      <td>[\"yeast\", \"water\", \"sugar\", \"baking pwdr\", \"fl...</td>\n",
       "      <td>['baking pwdr']</td>\n",
       "    </tr>\n",
       "    <tr>\n",
       "      <th>4</th>\n",
       "      <td>64045</td>\n",
       "      <td>Baked Salmon Croquettes</td>\n",
       "      <td>[\"1 (15 1/2 oz.) can pink salmon\", \"milk\", \"1/...</td>\n",
       "      <td>[\"Drain salmon, reserving liquid; add enough m...</td>\n",
       "      <td>www.cookbooks.com/Recipe-Details.aspx?id=341036</td>\n",
       "      <td>Gathered</td>\n",
       "      <td>[\"pink salmon\", \"milk\", \"butter\", \"onion\", \"fl...</td>\n",
       "      <td>['pink salmon', 'milk', 'onion', 'cornflakes']</td>\n",
       "    </tr>\n",
       "  </tbody>\n",
       "</table>\n",
       "</div>"
      ],
      "text/plain": [
       "     index                                    title  \\\n",
       "0  1116810                  Tex-Mex Corn On The Cob   \n",
       "1  1137989                      Cheddar Herb Snacks   \n",
       "2   933189  Spice-Marinated And Grilled Lamb Chops    \n",
       "3  1488091           Dow Sah Bow Cha Siu Bow Recipe   \n",
       "4    64045                  Baked Salmon Croquettes   \n",
       "\n",
       "                                         ingredients  \\\n",
       "0  [\"12 small ears fresh corn on the cob (about 6...   \n",
       "1  [\"1 cup shredded cheddar cheese\", \"1/2 cup but...   \n",
       "2  [\"1/2 teaspoon fennel seeds\", \"1 serrano chile...   \n",
       "3  [\"1 package instant dry yeast\", \"1 3/4 c. hot ...   \n",
       "4  [\"1 (15 1/2 oz.) can pink salmon\", \"milk\", \"1/...   \n",
       "\n",
       "                                          directions  \\\n",
       "0  [\"Place corn in a Dutch oven or kettle; cover ...   \n",
       "1  [\"In a large bowl, combine the first six ingre...   \n",
       "2  [\"Toast fennel seeds in a dry small skillet ov...   \n",
       "3  [\"First, make the dough.\", \"This dough is good...   \n",
       "4  [\"Drain salmon, reserving liquid; add enough m...   \n",
       "\n",
       "                                                link     source  \\\n",
       "0  www.tasteofhome.com/recipes/tex-mex-corn-on-th...   Gathered   \n",
       "1   www.tasteofhome.com/recipes/cheddar-herb-snacks/   Gathered   \n",
       "2  www.epicurious.com/recipes/food/views/indian-s...   Gathered   \n",
       "3  cookeatshare.com/recipes/dow-sah-bow-cha-siu-b...  Recipes1M   \n",
       "4    www.cookbooks.com/Recipe-Details.aspx?id=341036   Gathered   \n",
       "\n",
       "                                                 NER  \\\n",
       "0  [\"corn\", \"fresh cilantro\", \"chili powder\", \"li...   \n",
       "1  [\"cheddar cheese\", \"butter\", \"parsley\", \"chive...   \n",
       "2  [\"fennel seeds\", \"serrano chile\", \"ginger\", \"g...   \n",
       "3  [\"yeast\", \"water\", \"sugar\", \"baking pwdr\", \"fl...   \n",
       "4  [\"pink salmon\", \"milk\", \"butter\", \"onion\", \"fl...   \n",
       "\n",
       "                                         cleaned_NER  \n",
       "0                                   ['corn', 'lime']  \n",
       "1  ['cheese', 'chives', 'pimientos', 'green onion...  \n",
       "2  ['fennel seeds', 'serrano chile', 'cr\\\\u00e8me...  \n",
       "3                                    ['baking pwdr']  \n",
       "4     ['pink salmon', 'milk', 'onion', 'cornflakes']  "
      ]
     },
     "execution_count": 5,
     "metadata": {},
     "output_type": "execute_result"
    }
   ],
   "source": [
    "df.head()"
   ]
  },
  {
   "cell_type": "code",
   "execution_count": 9,
   "metadata": {},
   "outputs": [
    {
     "data": {
      "text/plain": [
       "ObjectApiResponse({'acknowledged': True})"
      ]
     },
     "execution_count": 9,
     "metadata": {},
     "output_type": "execute_result"
    }
   ],
   "source": [
    "es.indices.delete(index='recipes')"
   ]
  },
  {
   "cell_type": "code",
   "execution_count": 10,
   "metadata": {},
   "outputs": [
    {
     "data": {
      "text/plain": [
       "ObjectApiResponse({'acknowledged': True, 'shards_acknowledged': True, 'index': 'recipes'})"
      ]
     },
     "execution_count": 10,
     "metadata": {},
     "output_type": "execute_result"
    }
   ],
   "source": [
    "#Create an index\n",
    "mappings = {\n",
    "        \"properties\": {\n",
    "            \"index\": {\"type\": \"integer\"},\n",
    "            \"title\": {\"type\": \"text\", \"analyzer\": \"english\"},\n",
    "            \"ingredients\": {\"type\": \"text\", \"analyzer\": \"standard\"},\n",
    "            \"directions\": {\"type\": \"text\", \"analyzer\": \"standard\"},\n",
    "            \"link\": {\"type\": \"keyword\"},\n",
    "            \"source\": {\"type\": \"text\", \"analyzer\": \"standard\"},\n",
    "            \"NER\": {\"type\": \"text\", \"analyzer\": \"english\"},\n",
    "            \"cleaned_NER\": {\"type\": \"text\", \"analyzer\": \"english\"},\n",
    "    }\n",
    "}\n",
    "\n",
    "es.indices.create(index=\"recipes\", mappings=mappings)"
   ]
  },
  {
   "cell_type": "code",
   "execution_count": 11,
   "metadata": {},
   "outputs": [
    {
     "data": {
      "text/plain": [
       "(5000, [])"
      ]
     },
     "execution_count": 11,
     "metadata": {},
     "output_type": "execute_result"
    }
   ],
   "source": [
    "from elasticsearch.helpers import bulk\n",
    "\n",
    "bulk_data = []\n",
    "for i,row in df.iterrows():\n",
    "    bulk_data.append(\n",
    "        {\n",
    "            \"_index\": \"recipes\",\n",
    "            \"_id\": i,\n",
    "            \"_source\": {        \n",
    "                \"index\": row['index'],\n",
    "                \"title\": row['title'],\n",
    "                \"ingredients\": row[\"ingredients\"],\n",
    "                \"directions\": row[\"directions\"],\n",
    "                \"link\": row[\"link\"],\n",
    "                \"source\": row[\"source\"],\n",
    "                \"NER\": row[\"NER\"],\n",
    "                \"cleaned_NER\": row[\"cleaned_NER\"]\n",
    "            }\n",
    "        }\n",
    "    )\n",
    "bulk(es, bulk_data)\n"
   ]
  },
  {
   "cell_type": "code",
   "execution_count": 12,
   "metadata": {},
   "outputs": [
    {
     "data": {
      "text/plain": [
       "ListApiResponse([{'epoch': '1712975817', 'timestamp': '02:36:57', 'count': '5000'}])"
      ]
     },
     "execution_count": 12,
     "metadata": {},
     "output_type": "execute_result"
    }
   ],
   "source": [
    "es.indices.refresh(index=\"recipes\")\n",
    "es.cat.count(index=\"recipes\", format = \"json\")"
   ]
  },
  {
   "cell_type": "code",
   "execution_count": 18,
   "metadata": {},
   "outputs": [],
   "source": [
    "#Pull in ingredients from EfficientNet\n",
    "# ingredient1 = \"beef\"\n",
    "# ingredient2 = \"potatoes\"\n",
    "# ingredient3 = \"asparagus\"\n",
    "# ingredient4 = \"mushroom\"\n",
    "# ingredient5 = None\n",
    "# must_not = \"tomato\"\n",
    "\n",
    "\n",
    "#ingredient1\n",
    "doc = nlp(ingredient1)\n",
    "lemmatized_ingredient_1 = \" \".join([token.lemma_ for token in doc])\n",
    "\n",
    "#ingredient2\n",
    "doc = nlp(ingredient2)\n",
    "lemmatized_ingredient_2 = \" \".join([token.lemma_ for token in doc])\n",
    "\n",
    "\n",
    "# Lemmatize each ingredient\n",
    "lemmatized_ingredients = []\n",
    "for ingredient in [ingredient3, ingredient4, ingredient5]:\n",
    "    if ingredient:\n",
    "        doc = nlp(ingredient)\n",
    "        lemmatized_ingredient = \" \".join([token.lemma_ for token in doc])\n",
    "        lemmatized_ingredients.append(lemmatized_ingredient)\n",
    "        \n",
    "        \n",
    "#Lemmatize must_not\n",
    "doc = nlp(must_not)\n",
    "lemmatized_must_not = \" \".join([token.lemma_ for token in doc])\n",
    "\n",
    "\n",
    "#*NEW*\n",
    "boost_factors = {\n",
    "    ingredient1: 5,\n",
    "    ingredient2: 4,\n",
    "    ingredient3: 3,\n",
    "    ingredient4: 2\n",
    "}\n"
   ]
  },
  {
   "cell_type": "code",
   "execution_count": 19,
   "metadata": {},
   "outputs": [
    {
     "name": "stderr",
     "output_type": "stream",
     "text": [
      "<ipython-input-19-0daf75f0409c>:2: DeprecationWarning: The 'body' parameter is deprecated and will be removed in a future version. Instead use individual parameters.\n",
      "  response = es.search(index=\"recipes\", body=query, size=5)\n"
     ]
    }
   ],
   "source": [
    "def search_recipes(es, query):\n",
    "    response = es.search(index=\"recipes\", body=query, size=5)\n",
    "    if not response['hits']['hits']:  # Check if the query returned no results\n",
    "        # Modify the query for a broader search\n",
    "        # For example, remove the `minimum_should_match` or adjust `must_not` clause\n",
    "        # This is a placeholder for how you might adjust the query\n",
    "        query['query']['bool'].pop('minimum_should_match', None)  # Example adjustment\n",
    "        response = es.search(index=\"recipes\", body=query, size=10)  # Try again with the adjusted query\n",
    "    return response\n",
    "\n",
    "# Initial query\n",
    "query = {\n",
    "    \"query\": {\n",
    "        \"bool\": {\n",
    "            \"must\": [\n",
    "                {\"match\": {\"cleaned_NER\": {\"query\": lemmatized_ingredient_1, \"boost\": boost_factors.get(lemmatized_ingredient_1, 1)}}},\n",
    "                {\"match\": {\"cleaned_NER\": {\"query\": lemmatized_ingredient_2, \"boost\": boost_factors.get(lemmatized_ingredient_2, 1)}}},  # New must clause for ingredient2\n",
    "            ],\n",
    "            \"should\": [\n",
    "                {\"match\": {\"cleaned_NER\": {\"query\": ingredient, \"boost\": boost_factors.get(ingredient, 1)}}}\n",
    "                for ingredient in lemmatized_ingredients if ingredient is not None\n",
    "            ],\n",
    "            \"must_not\": [\n",
    "                {\"match\": {\"cleaned_NER\": lemmatized_must_not}},\n",
    "            ],\n",
    "            \"minimum_should_match\": 1\n",
    "        }\n",
    "    }\n",
    "}\n",
    "\n",
    "\n",
    "# Execute search with fallback\n",
    "result = search_recipes(es, query)"
   ]
  },
  {
   "cell_type": "code",
   "execution_count": 20,
   "metadata": {},
   "outputs": [
    {
     "data": {
      "text/plain": [
       "ObjectApiResponse({'took': 72, 'timed_out': False, '_shards': {'total': 1, 'successful': 1, 'skipped': 0, 'failed': 0}, 'hits': {'total': {'value': 6, 'relation': 'eq'}, 'max_score': 21.24495, 'hits': [{'_index': 'recipes', '_id': '4119', '_score': 21.24495, '_source': {'index': 1472672, 'title': 'Hamburger, Potato, And Onion Casserole Recipe', 'ingredients': '[\"Hamburger\", \"Grated potatoes\", \"Sliced onions\", \"Cream of mushroom soup\", \"Salt and pepper\"]', 'directions': '[\"Make layers of meat, grated potatoes, sliced onions, soup, salt, and pepper.\", \"Bake at 350 degrees for 1 to 1 1/2 hrs, depending on how many layers and how big a pan.\"]', 'link': 'cookeatshare.com/recipes/hamburger-potato-and-onion-casserole-38024', 'source': 'Recipes1M', 'NER': '[\"Hamburger\", \"potatoes\", \"onions\", \"Cream of mushroom soup\", \"Salt\"]', 'cleaned_NER': \"['ground beef', 'potato', 'onion', 'mushroom soup']\"}}, {'_index': 'recipes', '_id': '1140', '_score': 19.002792, '_source': {'index': 682948, 'title': \"Sheri'S Slow Cooker Beef Stew\", 'ingredients': '[\"3 large potatoes, peeled,diced\", \"1 cup sliced carrot\", \"1 1/2 lbs beef stew meat, cut up bite sized\", \"1/2 cup olive oil\", \"1/2 cup flour\", \"4 cups beef broth\", \"1 medium onion, grated\", \"1 (15 ounce) can corn, drained\", \"1 (4 ounce) can sliced mushrooms, drained\", \"1 tablespoon dried parsley\", \"1 teaspoon dried sage\", \"1/2 teaspoon dried marjoram\", \"2 teaspoons salt\", \"1/2 teaspoon black pepper\"]', 'directions': '[\"Place diced potatoes and sliced carrots in a large microwave safe bowl, cover and cook in microwave for six minutes until potatoes are partially cooked.\", \"Heat oil in a large skillet.\", \"Place flour in a gallon sized plastic bag and coat meat.\", \"Brown meat in skillet.\", \"(Remaining flour in bag will be used as thickener) Put potatoes and meat in crock pot.\", \"Add remaining ingredients.\", \"Add flour from bag along with enough to make 1/3 of a cup of flour.\", \"Stir well and let simmer on low for 4 hours.\", \"If not to desired thickness you may remove cover and turn to high, stir every so often.\", \"Or add more flour or some cornstarch dissolved in a little water.\"]', 'link': 'www.food.com/recipe/sheris-slow-cooker-beef-stew-53932', 'source': 'Gathered', 'NER': '[\"potatoes\", \"carrot\", \"beef stew meat\", \"olive oil\", \"flour\", \"beef broth\", \"onion\", \"corn\", \"mushrooms\", \"parsley\", \"sage\", \"marjoram\", \"salt\", \"black pepper\"]', 'cleaned_NER': \"['potato', 'carrot', 'beef stew meat', 'onion', 'corn', 'mushroom']\"}}, {'_index': 'recipes', '_id': '2767', '_score': 17.188723, '_source': {'index': 331009, 'title': 'Quick Tater Tot Bake', 'ingredients': '[\"3/4 to 1 lb. ground beef or turkey\", \"1 small onion, chopped\", \"salt and pepper to taste\", \"1 (16 oz.) pkg. frozen Tater Tot potatoes\", \"1 (10 3/4 oz.) can cream of mushroom soup\", \"1/2 soup can milk or water\", \"1 (4 oz.) can shredded Cheddar cheese\"]', 'directions': '[\"In a skillet, brown the meat and onion.\", \"Drain any fat. Season with salt and pepper. Place in a greased 1 1/2 to 2-quart casserole.\", \"Top with potatoes.\"]', 'link': 'www.cookbooks.com/Recipe-Details.aspx?id=1016031', 'source': 'Gathered', 'NER': '[\"ground beef\", \"onion\", \"salt\", \"Tater Tot potatoes\", \"cream of mushroom soup\", \"milk\", \"Cheddar cheese\"]', 'cleaned_NER': \"['ground beef', 'onion', 'tater tot potato', 'mushroom soup', 'milk', 'cheese']\"}}, {'_index': 'recipes', '_id': '2789', '_score': 16.405651, '_source': {'index': 84297, 'title': 'Savory Pot Roast', 'ingredients': '[\"2 Tbsp. vegetable oil\", \"4 lb. beef round/chuck pot roast\", \"1 (10 3/4 oz.) can cream of mushroom soup\", \"1 pouch dry onion soup mix\", \"1 1/4 c. water\", \"6 medium potatoes, quartered\", \"6 carrots, sliced\", \"2 Tbsp. flour\"]', 'directions': '[\"In a 6-quart saucepot in hot oil, brown roast (spoon off fat). Stir in mushroom soup, onion mix and 1 cup of water.\", \"Reduce heat to low; cover and cook for 2 hours.\", \"Add vegetables.\", \"Cover and cook 45 minutes or until everything is fork-tender.\"]', 'link': 'www.cookbooks.com/Recipe-Details.aspx?id=214138', 'source': 'Gathered', 'NER': '[\"vegetable oil\", \"beef round/chuck pot roast\", \"cream of mushroom soup\", \"onion soup\", \"water\", \"potatoes\", \"carrots\", \"flour\"]', 'cleaned_NER': \"['beef round/chuck pot roast', 'mushroom soup', 'onion soup', 'potato', 'carrot']\"}}, {'_index': 'recipes', '_id': '2423', '_score': 15.873074, '_source': {'index': 990761, 'title': 'Roast Beef Tenderloin, Horseradish Mashed Taters, Fried Enoki Shrooms W/ Pan Jus And Rosemary ', 'ingredients': '[\"Beef Tenderloin\", \"1 beef tenderloin, cleaned and silver skin removed\", \"2 T finely chopped rosemary\", \"3 T kosher salt\", \"2 T cracked black pepper\", \"2 T canola oil\", \"Pan Jus\", \"1/2 cup red wine\", \"2 cups beef browth\", \"1 T arrowroot, if desired\", \"Horseradish Mashed Potatoes\", \"3 lb russet potatoes, peeled and quartered\", \"1/2 cup butter, cubed\", \"1/2 cup milk\", \"1/4 cup heavy cream\", \"kosher salt\", \"white pepper\", \"1/3 cup prepared horseradish\", \"1/2 cup sour cream\", \"Fried Enoki Mushrooms\", \"1 cup flour\", \"kosher salt\", \"cracked black pepper\", \"1 lb enoki mushrooms\", \"4 cups canola oil\"]', 'directions': '[\"Tenderloin:\", \"preheat a large roasting pan over high heat, probably over 2 burners. Preheat oven to 300 degrees. Rub and season the entire tenderloin with the rosemary, salt and pepper. Add the oil to the preheated pan and sear the tenderloin on all sides. Roast in oven about 20 minutes. Remove from pan and let rest 10 min before slicing.\", \"Pan Jus:\", \"while the beef is resting, return the roasting pan to low heat on the stovetop. Add the red wine and deglaze the roasting pan by scraping the simmering wine with the pan drippings from the tenderloin. Reduce the wine by 1/2 and add beef broth. Continue to allow the mix to simmer while working to free the pan surface of any pieces. Transfer all contents of teh roasting pan to a small saucepan to keep warm. Add arrowroot if a thicker consistency is desired.\", \"Horseradish Mashed Potatoes:\", \"place the potatoes in a stockpot and cover with cold water. Over high heat, bring to a boil; reduce heat and simmer until tender (about 15-20 min)\", \"Drain well and mash. Add butter to the potatoes and incorporate to melt. Meanwhile, heat the milk and heavy cream in a saucepan until warm and stir this into the potato mixture. Season with salt and white pepper. Stir in the horseradish and sour cream.\", \"\", \"Continue above under comments\"]', 'link': 'www.epicurious.com/recipes/member/views/roast-beef-tenderloin-horseradish-mashed-taters-fried-enoki-shrooms-w-pan-jus-and-rosemary-50025777', 'source': 'Gathered', 'NER': '[\"Tenderloin\", \"beef tenderloin\", \"T\", \"T\", \"black pepper\", \"canola oil\", \"Pan Jus\", \"red wine\", \"beef browth\", \"T\", \"Horseradish Mashed Potatoes\", \"russet potatoes\", \"butter\", \"milk\", \"heavy cream\", \"kosher salt\", \"white pepper\", \"horseradish\", \"sour cream\", \"Enoki Mushrooms\", \"flour\", \"kosher salt\", \"cracked black pepper\", \"enoki mushrooms\", \"canola oil\"]', 'cleaned_NER': \"['tenderloin', 'beef tenderloin', 'pan jus', 'red wine', 'beef browth', 'horseradish mashed potato', 'russet potato', 'milk', 'cream', 'horseradish', 'sour cream', 'enoki mushroom', 'cracked black pepper', 'enoki mushroom']\"}}]}})"
      ]
     },
     "execution_count": 20,
     "metadata": {},
     "output_type": "execute_result"
    }
   ],
   "source": [
    "result"
   ]
  },
  {
   "cell_type": "code",
   "execution_count": null,
   "metadata": {},
   "outputs": [],
   "source": []
  }
 ],
 "metadata": {
  "kernelspec": {
   "display_name": "Python 3",
   "language": "python",
   "name": "python3"
  },
  "language_info": {
   "codemirror_mode": {
    "name": "ipython",
    "version": 3
   },
   "file_extension": ".py",
   "mimetype": "text/x-python",
   "name": "python",
   "nbconvert_exporter": "python",
   "pygments_lexer": "ipython3",
   "version": "3.8.3"
  }
 },
 "nbformat": 4,
 "nbformat_minor": 4
}
