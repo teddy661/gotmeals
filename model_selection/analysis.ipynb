{
 "cells": [
  {
   "cell_type": "code",
   "execution_count": 1,
   "metadata": {},
   "outputs": [
    {
     "name": "stdout",
     "output_type": "stream",
     "text": [
      "WARNING:tensorflow:From c:\\Users\\teddy\\Documents\\01-Berkeley\\281\\281-venv\\Lib\\site-packages\\keras\\src\\losses.py:2976: The name tf.losses.sparse_softmax_cross_entropy is deprecated. Please use tf.compat.v1.losses.sparse_softmax_cross_entropy instead.\n",
      "\n"
     ]
    }
   ],
   "source": [
    "import pickle\n",
    "from collections import Counter\n",
    "from datetime import datetime\n",
    "from pathlib import Path\n",
    "\n",
    "import joblib\n",
    "import keras\n",
    "import matplotlib.pyplot as plt\n",
    "import polars as pl\n",
    "import seaborn as sns\n",
    "import numpy as np\n",
    "import tensorflow as tf\n",
    "from sklearn.metrics import (\n",
    "    accuracy_score,\n",
    "    classification_report,\n",
    "    f1_score,\n",
    "    precision_score,\n",
    "    recall_score,\n",
    ")\n",
    "\n",
    "from utils import *"
   ]
  },
  {
   "cell_type": "code",
   "execution_count": 2,
   "metadata": {},
   "outputs": [
    {
     "name": "stdout",
     "output_type": "stream",
     "text": [
      "No configuration file found. Using defaults.\n"
     ]
    }
   ],
   "source": [
    "# Set up the configuration for the polars library\n",
    "cfg = pl.Config()\n",
    "cfg.set_tbl_rows(100)\n",
    "cfg.set_tbl_width_chars(200)\n",
    "cfg.set_fmt_str_lengths(200)\n",
    "\n",
    "pc = ProjectConfig()\n",
    "BASE_TRAINING_MODEL_DIR = pc.project_root_dir.joinpath(\"model_selection\").joinpath(\n",
    "    \"model_saves_fc\"\n",
    ")\n",
    "FINE_TUNED_MODEL_DIR = pc.project_root_dir.joinpath(\"model_selection\").joinpath(\n",
    "    \"model_fine_tuned_saves_fc\"\n",
    ")\n",
    "MODEL_NAMES = [\"EfficientNetB7\", \"EfficientNetV2L\", \"EfficientNetV2M\", \"VGG19\"]\n",
    "FINE_TUNED_MODEL_PATHS = []\n",
    "CLASS_LIST_PATHS = []\n",
    "BASE_TRAINING_TIME_PATHS = []\n",
    "FINE_TUNED_TRAINING_TIME_PATHS = []\n",
    "for model_name in MODEL_NAMES:\n",
    "    FINE_TUNED_MODEL_PATHS.append(FINE_TUNED_MODEL_DIR.joinpath(model_name + \".h5\"))\n",
    "    CLASS_LIST_PATHS.append(\n",
    "        pc.project_root_dir.joinpath(\"model_selection\").joinpath(\n",
    "            f\"class_list_{model_name}.lzma\"\n",
    "        )\n",
    "    )\n",
    "    BASE_TRAINING_TIME_PATHS.append(\n",
    "        BASE_TRAINING_MODEL_DIR.joinpath(f\"{model_name}_TRAINING_TIME.lzma\")\n",
    "    )\n",
    "    FINE_TUNED_TRAINING_TIME_PATHS.append(\n",
    "        FINE_TUNED_MODEL_DIR.joinpath(f\"{model_name}_TRAINING_TIME.lzma\")\n",
    "    )"
   ]
  },
  {
   "cell_type": "code",
   "execution_count": 3,
   "metadata": {},
   "outputs": [
    {
     "name": "stdout",
     "output_type": "stream",
     "text": [
      "Test data found, loading\n",
      "Found 100 files belonging to 5 classes.\n"
     ]
    }
   ],
   "source": [
    "TEST_DATA = pc.data_root_dir.joinpath(\"FruitsClassification/Fruits Classification/test\")\n",
    "if TEST_DATA.exists() and TEST_DATA.is_dir():\n",
    "    print(\"Test data found, loading\")\n",
    "    test_data = tf.keras.utils.image_dataset_from_directory(\n",
    "        TEST_DATA,\n",
    "        labels=\"inferred\",\n",
    "        label_mode=\"int\",\n",
    "        batch_size=32,\n",
    "        image_size=(224, 224),\n",
    "        shuffle=False,\n",
    "    )\n",
    "else:\n",
    "    print(\"No test data found, where did it go?\")"
   ]
  },
  {
   "cell_type": "code",
   "execution_count": 4,
   "metadata": {},
   "outputs": [
    {
     "name": "stdout",
     "output_type": "stream",
     "text": [
      "Model C:\\Users\\teddy\\Documents\\01-Berkeley\\210\\gotmeals\\model_selection\\model_fine_tuned_saves_fc\\EfficientNetB7.h5 found, loading\n",
      "WARNING:tensorflow:From c:\\Users\\teddy\\Documents\\01-Berkeley\\281\\281-venv\\Lib\\site-packages\\keras\\src\\backend.py:1398: The name tf.executing_eagerly_outside_functions is deprecated. Please use tf.compat.v1.executing_eagerly_outside_functions instead.\n",
      "\n",
      "WARNING:tensorflow:From c:\\Users\\teddy\\Documents\\01-Berkeley\\281\\281-venv\\Lib\\site-packages\\keras\\src\\layers\\normalization\\batch_normalization.py:979: The name tf.nn.fused_batch_norm is deprecated. Please use tf.compat.v1.nn.fused_batch_norm instead.\n",
      "\n",
      "Model C:\\Users\\teddy\\Documents\\01-Berkeley\\210\\gotmeals\\model_selection\\model_fine_tuned_saves_fc\\EfficientNetB7.h5 loaded\n",
      "Class list found at path: C:\\Users\\teddy\\Documents\\01-Berkeley\\210\\gotmeals\\model_selection\\class_list_EfficientNetB7.lzma, loading\n",
      "Class list loaded\n",
      "4/4 [==============================] - 12s 2s/step\n",
      "Deleting Model <keras.src.engine.functional.Functional object at 0x000001876F88EE10>\n",
      "Model C:\\Users\\teddy\\Documents\\01-Berkeley\\210\\gotmeals\\model_selection\\model_fine_tuned_saves_fc\\EfficientNetV2L.h5 found, loading\n",
      "Model C:\\Users\\teddy\\Documents\\01-Berkeley\\210\\gotmeals\\model_selection\\model_fine_tuned_saves_fc\\EfficientNetV2L.h5 loaded\n",
      "Class list found at path: C:\\Users\\teddy\\Documents\\01-Berkeley\\210\\gotmeals\\model_selection\\class_list_EfficientNetV2L.lzma, loading\n",
      "Class list loaded\n",
      "4/4 [==============================] - 13s 2s/step\n",
      "Deleting Model <keras.src.engine.functional.Functional object at 0x000001877D506650>\n",
      "Model C:\\Users\\teddy\\Documents\\01-Berkeley\\210\\gotmeals\\model_selection\\model_fine_tuned_saves_fc\\EfficientNetV2M.h5 found, loading\n",
      "Model C:\\Users\\teddy\\Documents\\01-Berkeley\\210\\gotmeals\\model_selection\\model_fine_tuned_saves_fc\\EfficientNetV2M.h5 loaded\n",
      "Class list found at path: C:\\Users\\teddy\\Documents\\01-Berkeley\\210\\gotmeals\\model_selection\\class_list_EfficientNetV2M.lzma, loading\n",
      "Class list loaded\n",
      "4/4 [==============================] - 8s 943ms/step\n",
      "Deleting Model <keras.src.engine.functional.Functional object at 0x00000188166FFED0>\n",
      "Model C:\\Users\\teddy\\Documents\\01-Berkeley\\210\\gotmeals\\model_selection\\model_fine_tuned_saves_fc\\VGG19.h5 found, loading\n",
      "Model C:\\Users\\teddy\\Documents\\01-Berkeley\\210\\gotmeals\\model_selection\\model_fine_tuned_saves_fc\\VGG19.h5 loaded\n",
      "Class list found at path: C:\\Users\\teddy\\Documents\\01-Berkeley\\210\\gotmeals\\model_selection\\class_list_VGG19.lzma, loading\n",
      "Class list loaded\n",
      "4/4 [==============================] - 5s 1s/step\n",
      "Deleting Model <keras.src.engine.functional.Functional object at 0x000001876CE41DD0>\n"
     ]
    },
    {
     "data": {
      "text/html": [
       "<div><style>\n",
       ".dataframe > thead > tr,\n",
       ".dataframe > tbody > tr {\n",
       "  text-align: right;\n",
       "  white-space: pre-wrap;\n",
       "}\n",
       "</style>\n",
       "<small>shape: (4, 9)</small><table border=\"1\" class=\"dataframe\"><thead><tr><th>model</th><th>base_training_time</th><th>fine_tuned_training_time</th><th>total_training_time</th><th>prediction_time</th><th>precision</th><th>recall</th><th>accuracy</th><th>f1</th></tr><tr><td>str</td><td>duration[μs]</td><td>duration[μs]</td><td>duration[μs]</td><td>duration[μs]</td><td>f64</td><td>f64</td><td>f64</td><td>f64</td></tr></thead><tbody><tr><td>&quot;EfficientNetB7&quot;</td><td>15m 15s 602087µs</td><td>23m 42s 482739µs</td><td>38m 58s 84826µs</td><td>12s 207872µs</td><td>0.954113</td><td>0.95</td><td>0.95</td><td>0.948724</td></tr><tr><td>&quot;EfficientNetV2L&quot;</td><td>26m 3s 256165µs</td><td>26m 7s 905710µs</td><td>52m 11s 161875µs</td><td>12s 986258µs</td><td>0.954865</td><td>0.95</td><td>0.95</td><td>0.94919</td></tr><tr><td>&quot;EfficientNetV2M&quot;</td><td>10m 8s 696439µs</td><td>18m 53s 519488µs</td><td>29m 2s 215927µs</td><td>7s 628715µs</td><td>0.950707</td><td>0.95</td><td>0.95</td><td>0.949424</td></tr><tr><td>&quot;VGG19&quot;</td><td>27m 35s 899679µs</td><td>8m 41s 139304µs</td><td>36m 17s 38983µs</td><td>5s 247271µs</td><td>0.772131</td><td>0.76</td><td>0.76</td><td>0.748899</td></tr></tbody></table></div>"
      ],
      "text/plain": [
       "shape: (4, 9)\n",
       "┌─────────────────┬────────────────────┬──────────────────────────┬─────────────────────┬───┬───────────┬────────┬──────────┬──────────┐\n",
       "│ model           ┆ base_training_time ┆ fine_tuned_training_time ┆ total_training_time ┆ … ┆ precision ┆ recall ┆ accuracy ┆ f1       │\n",
       "│ ---             ┆ ---                ┆ ---                      ┆ ---                 ┆   ┆ ---       ┆ ---    ┆ ---      ┆ ---      │\n",
       "│ str             ┆ duration[μs]       ┆ duration[μs]             ┆ duration[μs]        ┆   ┆ f64       ┆ f64    ┆ f64      ┆ f64      │\n",
       "╞═════════════════╪════════════════════╪══════════════════════════╪═════════════════════╪═══╪═══════════╪════════╪══════════╪══════════╡\n",
       "│ EfficientNetB7  ┆ 15m 15s 602087µs   ┆ 23m 42s 482739µs         ┆ 38m 58s 84826µs     ┆ … ┆ 0.954113  ┆ 0.95   ┆ 0.95     ┆ 0.948724 │\n",
       "│ EfficientNetV2L ┆ 26m 3s 256165µs    ┆ 26m 7s 905710µs          ┆ 52m 11s 161875µs    ┆ … ┆ 0.954865  ┆ 0.95   ┆ 0.95     ┆ 0.94919  │\n",
       "│ EfficientNetV2M ┆ 10m 8s 696439µs    ┆ 18m 53s 519488µs         ┆ 29m 2s 215927µs     ┆ … ┆ 0.950707  ┆ 0.95   ┆ 0.95     ┆ 0.949424 │\n",
       "│ VGG19           ┆ 27m 35s 899679µs   ┆ 8m 41s 139304µs          ┆ 36m 17s 38983µs     ┆ … ┆ 0.772131  ┆ 0.76   ┆ 0.76     ┆ 0.748899 │\n",
       "└─────────────────┴────────────────────┴──────────────────────────┴─────────────────────┴───┴───────────┴────────┴──────────┴──────────┘"
      ]
     },
     "execution_count": 4,
     "metadata": {},
     "output_type": "execute_result"
    }
   ],
   "source": [
    "results = []\n",
    "\n",
    "for i, model_path in enumerate(FINE_TUNED_MODEL_PATHS):\n",
    "    if model_path.exists():\n",
    "        print(f\"Model {model_path} found, loading\")\n",
    "        tf_model = tf.keras.models.load_model(model_path)\n",
    "        tf_model.trainable = False\n",
    "        print(f\"Model {model_path} loaded\")\n",
    "    else:\n",
    "        print(f\"Model not found at path: {model_path}\")\n",
    "    if CLASS_LIST_PATHS[i].exists():\n",
    "        print(f\"Class list found at path: {CLASS_LIST_PATHS[i]}, loading\")\n",
    "        class_list = joblib.load(CLASS_LIST_PATHS[i])\n",
    "        print(f\"Class list loaded\")\n",
    "\n",
    "    start_predict = datetime.now()\n",
    "    predictions = tf_model.predict(test_data)\n",
    "    end_predict = datetime.now()\n",
    "    prediction_time = end_predict - start_predict\n",
    "    predicted_classes = np.argmax(predictions, axis=-1)\n",
    "    true_labels = []\n",
    "    for images, true_label in test_data:\n",
    "        true_labels.extend(true_label)\n",
    "    all_predictions = np.array(predicted_classes)\n",
    "    all_true_labels = np.array(true_labels)\n",
    "    precision = precision_score(all_true_labels, all_predictions, average=\"weighted\")\n",
    "    recall = recall_score(all_true_labels, all_predictions, average=\"weighted\")\n",
    "    accuracy = accuracy_score(all_true_labels, all_predictions)\n",
    "    f1 = f1_score(all_true_labels, all_predictions, average=\"weighted\")\n",
    "    base_training_time = joblib.load(BASE_TRAINING_TIME_PATHS[i])\n",
    "    fine_tuned_training_time = joblib.load(FINE_TUNED_TRAINING_TIME_PATHS[i])\n",
    "    results.append(\n",
    "        {\n",
    "            \"model\": MODEL_NAMES[i],\n",
    "            \"base_training_time\": base_training_time,\n",
    "            \"fine_tuned_training_time\": fine_tuned_training_time,\n",
    "            \"total_training_time\": base_training_time + fine_tuned_training_time,\n",
    "            \"prediction_time\": prediction_time,\n",
    "            \"precision\": precision,\n",
    "            \"recall\": recall,\n",
    "            \"accuracy\": accuracy,\n",
    "            \"f1\": f1,\n",
    "        }\n",
    "    )\n",
    "    print(f\"Deleting Model {tf_model}\")\n",
    "    del tf_model\n",
    "    tf.keras.backend.clear_session()\n",
    "results_df = pl.DataFrame(results)\n",
    "results_df"
   ]
  }
 ],
 "metadata": {
  "kernelspec": {
   "display_name": "281-venv",
   "language": "python",
   "name": "python3"
  },
  "language_info": {
   "codemirror_mode": {
    "name": "ipython",
    "version": 3
   },
   "file_extension": ".py",
   "mimetype": "text/x-python",
   "name": "python",
   "nbconvert_exporter": "python",
   "pygments_lexer": "ipython3",
   "version": "3.11.9"
  }
 },
 "nbformat": 4,
 "nbformat_minor": 2
}
